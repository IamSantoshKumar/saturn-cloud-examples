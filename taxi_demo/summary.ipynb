{
 "cells": [
  {
   "cell_type": "markdown",
   "metadata": {},
   "source": [
    "|<img src=\"https://patch.com/img/cdn20/users/22965231/20180313/040305/styles/raw/public/processed_images/shutterstock_110928791-1520971084-4672.jpg\" width=\"200\" /> | <img src=\"https://pbs.twimg.com/media/EeBsCTPX0AAICkt.png\" width=\"400\" />|\n",
    "| -- | -- |\n",
    "\n",
    "# NYC Taxi analysis with Saturn Cloud\n",
    "\n",
    "The notebooks in this repo showcase an end-to-end data science workflow executed on [Saturn Cloud](https://www.saturncloud.io/).\n",
    "\n",
    "> Saturn Cloud is a data science and machine learning platform for scalable Python analytics. It automates DevOps and ML infrastructure with cloud-based Jupyter and Dask for big data, while leveraging Docker and Kubernetes so that your work is reproducible, shareable, and ready for production. \n",
    "\n",
    "The following tasks are performed:\n",
    "\n",
    "1. Ingest 1.6 billion CSV records and write to optimized Parquet files\n",
    "1. Create train/test sets for machine learning tasks\n",
    "1. Train a number of machine learning models\n",
    "1. Deploy models via REST API\n",
    "1. Create dashboard with exploratory analysis and ML model diagnostics\n",
    "\n",
    "The dashboard features a live-scoring widget using a model hosted with Saturn Cloud.\n",
    "\n",
    "<img src=\"img/pipeline.png\" width=\"800\">\n",
    "\n",
    "If you don't already use Saturn Cloud, [see how to get started here](https://www.saturncloud.io/docs/getting-started/)."
   ]
  },
  {
   "cell_type": "markdown",
   "metadata": {},
   "source": [
    "# Dashboard\n",
    "\n",
    "The dashboard is hosted using a Saturn Cloud [Deployment](https://www.saturncloud.io/docs/deployments/) and presents analysis of ride volume, fare collections, and a detailed analysis of driver tips. The \"ML\" tab shows various diagnostics for the machine learning models, including metric summaries and longidtudinal analysis for model drift detection. It also features a live-scoring widget using a model also hosted with a Saturn Deployment.\n",
    "\n",
    "![](img/dashboard1.png)\n",
    "\n",
    "![](img/dashboard2.png)\n",
    "\n",
    "![](img/dashboard3.png)\n"
   ]
  },
  {
   "cell_type": "code",
   "execution_count": 23,
   "metadata": {
    "jupyter": {
     "source_hidden": true
    }
   },
   "outputs": [],
   "source": [
    "import pandas as pd\n",
    "import numpy as np\n",
    "import dask.dataframe as dd\n",
    "import holoviews as hv\n",
    "import hvplot.pandas"
   ]
  },
  {
   "cell_type": "code",
   "execution_count": 232,
   "metadata": {
    "jupyter": {
     "source_hidden": true
    }
   },
   "outputs": [
    {
     "data": {
      "text/html": [
       "<style>table {display: inline-block}</style>\n"
      ],
      "text/plain": [
       "<IPython.core.display.HTML object>"
      ]
     },
     "metadata": {},
     "output_type": "display_data"
    }
   ],
   "source": [
    "%%html\n",
    "<style>table {display: inline-block}</style>"
   ]
  },
  {
   "cell_type": "markdown",
   "metadata": {},
   "source": [
    "# Machine learning model training\n",
    "\n",
    "Various machine learning models were trained using Saturn Cloud's [Jupyter workspaces](https://www.saturncloud.io/docs/getting-started/spinning/jupyter/) along with [one-click Dask and RAPIDS (GPU) clusters](https://www.saturncloud.io/docs/getting-started/spinning/dask/). Models were also trained with Spark outside Saturn Cloud for performance comparisons.\n",
    "\n",
    "| Tool | Hardware | \n",
    "| -- | -- |\n",
    "| Scikit-learn | Single node |\n",
    "| Dask | CPU cluster |\n",
    "| Spark | CPU cluster* |\n",
    "| RAPIDS | GPU cluster |\n",
    "\n",
    "Models:\n",
    "- Elastic net regression + hyperparameter tuning\n",
    "- XGBoost regression\n",
    "- Random forest classification\n",
    "\n",
    "Not all models were run with all libraries for various reasons, this matrix records which were run:\n",
    "\n",
    "|                | Scikit-learn | Dask | Spark | RAPIDS |\n",
    "|----------------|--------------|------|-------|--------|\n",
    "| Elastic net    | x            | x    | x     |        |\n",
    "| XGBoost        | x            | x    |       |        |\n",
    "| Random forest  | x            |      | x     | x      |\n",
    "\n",
    "_\\*Spark execution not supported in Saturn Cloud_. These models were trained using a Hadoop cluster for runtime comparison purposes."
   ]
  },
  {
   "cell_type": "code",
   "execution_count": 174,
   "metadata": {
    "jupyter": {
     "source_hidden": true
    }
   },
   "outputs": [],
   "source": [
    "metrics = dd.read_csv('s3://saturn-titan/nyc-taxi/ml_results/metrics/*.csv').compute()\n",
    "metrics = metrics[(metrics.ml_task == 'high_tip') | (metrics.model != 'random_forest')]  # only compare random forest classifier\n",
    "metrics['fit_minutes'] = metrics.fit_seconds / 60\n",
    "\n",
    "# compare to scikit time\n",
    "scikit = metrics[metrics.tool == 'scikit'].drop(['tool', 'value'], axis=1)\n",
    "metrics = pd.merge(metrics, scikit, on=['ml_task', 'model', 'metric'], suffixes=['', '_scikit'], how='left')\n",
    "metrics['scikit_improvement'] = np.where(metrics.fit_seconds <= metrics.fit_seconds_scikit,\n",
    "                                           metrics.fit_seconds_scikit / metrics.fit_seconds,\n",
    "                                           -(metrics.fit_seconds / metrics.fit_seconds_scikit))\n",
    "\n",
    "# compare to spark time\n",
    "spark = metrics[metrics.tool == 'spark'].drop(['tool', 'value', 'scikit_improvement'], axis=1)\n",
    "metrics = pd.merge(metrics, spark, on=['ml_task', 'model', 'metric'], suffixes=['', '_spark'], how='left')\n",
    "metrics['spark_improvement'] = np.where(metrics.fit_seconds <= metrics.fit_seconds_spark,\n",
    "                                           metrics.fit_seconds_spark / metrics.fit_seconds,\n",
    "                                           -(metrics.fit_seconds / metrics.fit_seconds_spark))\n",
    "# format\n",
    "metrics = metrics.applymap(lambda x: x if type(x) != str else x.replace('_', ' ').capitalize())\n",
    "\n",
    "# ordering\n",
    "metrics['tool'] = metrics['tool'].astype('category').cat.reorder_categories(['Scikit', 'Spark', 'Dask', 'Rapids'])\n",
    "metrics = metrics.sort_values(['ml_task', 'model', 'tool'])"
   ]
  },
  {
   "cell_type": "code",
   "execution_count": 175,
   "metadata": {
    "jupyter": {
     "source_hidden": true
    }
   },
   "outputs": [],
   "source": [
    "def runtime_plot(model, title):\n",
    "    return (\n",
    "        metrics[metrics.model == model].hvplot.barh(\n",
    "            x='tool', \n",
    "            y='fit_minutes',\n",
    "            color='tool',\n",
    "            cmap=['gray', '#fda061', 'lightblue'],\n",
    "            title=title,\n",
    "            ylabel='Train time in minutes (lower is better)',\n",
    "            xlabel='',\n",
    "        ).opts(fontsize={'labels': '120%', 'ticks': '130%', 'title': '200%'})\n",
    "    )"
   ]
  },
  {
   "cell_type": "markdown",
   "metadata": {},
   "source": [
    "## Runtimes by model\n",
    "\n",
    "All models achieved comparable regression/classification performance. We explore the runtimes of each model here."
   ]
  },
  {
   "cell_type": "code",
   "execution_count": 176,
   "metadata": {
    "jupyter": {
     "source_hidden": true
    }
   },
   "outputs": [
    {
     "data": {},
     "metadata": {},
     "output_type": "display_data"
    },
    {
     "data": {
      "application/vnd.holoviews_exec.v0+json": "",
      "text/html": [
       "<div id='13838'>\n",
       "\n",
       "\n",
       "\n",
       "\n",
       "\n",
       "  <div class=\"bk-root\" id=\"acfc80b3-42a0-462b-ac9f-8838b3f38625\" data-root-id=\"13838\"></div>\n",
       "</div>\n",
       "<script type=\"application/javascript\">(function(root) {\n",
       "  function embed_document(root) {\n",
       "  var docs_json = {\"8742891e-b8a5-4633-ab5c-58fdc25a8aa7\":{\"roots\":{\"references\":[{\"attributes\":{\"axis\":{\"id\":\"13856\"},\"dimension\":1,\"grid_line_color\":null,\"ticker\":null},\"id\":\"13858\",\"type\":\"Grid\"},{\"attributes\":{\"axis\":{\"id\":\"13852\"},\"grid_line_color\":null,\"ticker\":null},\"id\":\"13855\",\"type\":\"Grid\"},{\"attributes\":{},\"id\":\"13860\",\"type\":\"PanTool\"},{\"attributes\":{},\"id\":\"13853\",\"type\":\"BasicTicker\"},{\"attributes\":{},\"id\":\"13861\",\"type\":\"WheelZoomTool\"},{\"attributes\":{\"active_drag\":\"auto\",\"active_inspect\":\"auto\",\"active_multi\":null,\"active_scroll\":\"auto\",\"active_tap\":\"auto\",\"tools\":[{\"id\":\"13842\"},{\"id\":\"13859\"},{\"id\":\"13860\"},{\"id\":\"13861\"},{\"id\":\"13862\"},{\"id\":\"13863\"}]},\"id\":\"13865\",\"type\":\"Toolbar\"},{\"attributes\":{\"fill_alpha\":{\"value\":0.1},\"fill_color\":{\"field\":\"color\",\"transform\":{\"id\":\"13872\"}},\"height\":{\"value\":0.8},\"line_alpha\":{\"value\":0.1},\"right\":{\"field\":\"fit_minutes\"},\"y\":{\"field\":\"tool\"}},\"id\":\"13877\",\"type\":\"HBar\"},{\"attributes\":{},\"id\":\"13889\",\"type\":\"UnionRenderers\"},{\"attributes\":{\"fill_alpha\":{\"value\":0.2},\"fill_color\":{\"field\":\"color\",\"transform\":{\"id\":\"13872\"}},\"height\":{\"value\":0.8},\"line_alpha\":{\"value\":0.2},\"right\":{\"field\":\"fit_minutes\"},\"y\":{\"field\":\"tool\"}},\"id\":\"13880\",\"type\":\"HBar\"},{\"attributes\":{\"items\":[{\"id\":\"13892\"}],\"location\":[0,0]},\"id\":\"13891\",\"type\":\"Legend\"},{\"attributes\":{\"children\":[{\"id\":\"13839\"},{\"id\":\"13843\"},{\"id\":\"13913\"}],\"margin\":[0,0,0,0],\"name\":\"Row28769\",\"tags\":[\"embedded\"]},\"id\":\"13838\",\"type\":\"Row\"},{\"attributes\":{\"axis_label\":\"Train time in minutes (lower is better)\",\"axis_label_text_font_size\":\"120%\",\"bounds\":\"auto\",\"formatter\":{\"id\":\"13885\"},\"major_label_orientation\":\"horizontal\",\"major_label_text_font_size\":\"130%\",\"ticker\":{\"id\":\"13853\"}},\"id\":\"13852\",\"type\":\"LinearAxis\"},{\"attributes\":{\"bottom_units\":\"screen\",\"fill_alpha\":0.5,\"fill_color\":\"lightgrey\",\"left_units\":\"screen\",\"level\":\"overlay\",\"line_alpha\":1.0,\"line_color\":\"black\",\"line_dash\":[4,4],\"line_width\":2,\"right_units\":\"screen\",\"top_units\":\"screen\"},\"id\":\"13864\",\"type\":\"BoxAnnotation\"},{\"attributes\":{\"data\":{\"color\":[\"Scikit\",\"Spark\",\"Dask\"],\"fit_minutes\":{\"__ndarray__\":\"Zj19REUjYUAmToihzeBHQM6YVYRKfPM/\",\"dtype\":\"float64\",\"order\":\"little\",\"shape\":[3]},\"tool\":[\"Scikit\",\"Spark\",\"Dask\"]},\"selected\":{\"id\":\"13874\"},\"selection_policy\":{\"id\":\"13889\"}},\"id\":\"13873\",\"type\":\"ColumnDataSource\"},{\"attributes\":{\"label\":{\"field\":\"color\"},\"renderers\":[{\"id\":\"13881\"}]},\"id\":\"13892\",\"type\":\"LegendItem\"},{\"attributes\":{},\"id\":\"13857\",\"type\":\"CategoricalTicker\"},{\"attributes\":{},\"id\":\"13874\",\"type\":\"Selection\"},{\"attributes\":{\"align\":null,\"below\":[{\"id\":\"13852\"}],\"center\":[{\"id\":\"13855\"},{\"id\":\"13858\"},{\"id\":\"13891\"}],\"left\":[{\"id\":\"13856\"}],\"margin\":null,\"min_border_bottom\":10,\"min_border_left\":10,\"min_border_right\":10,\"min_border_top\":10,\"plot_height\":300,\"plot_width\":700,\"renderers\":[{\"id\":\"13881\"}],\"right\":[{\"id\":\"13891\"}],\"sizing_mode\":\"fixed\",\"title\":{\"id\":\"13844\"},\"toolbar\":{\"id\":\"13865\"},\"x_range\":{\"id\":\"13840\"},\"x_scale\":{\"id\":\"13848\"},\"y_range\":{\"id\":\"13841\"},\"y_scale\":{\"id\":\"13850\"}},\"id\":\"13843\",\"subtype\":\"Figure\",\"type\":\"Plot\"},{\"attributes\":{},\"id\":\"13887\",\"type\":\"CategoricalTickFormatter\"},{\"attributes\":{\"factors\":[\"Scikit\",\"Spark\",\"Dask\"],\"palette\":[\"gray\",\"#fda061\",\"lightblue\"]},\"id\":\"13872\",\"type\":\"CategoricalColorMapper\"},{\"attributes\":{\"source\":{\"id\":\"13873\"}},\"id\":\"13882\",\"type\":\"CDSView\"},{\"attributes\":{\"margin\":[5,5,5,5],\"name\":\"HSpacer28773\",\"sizing_mode\":\"stretch_width\"},\"id\":\"13839\",\"type\":\"Spacer\"},{\"attributes\":{\"margin\":[5,5,5,5],\"name\":\"HSpacer28774\",\"sizing_mode\":\"stretch_width\"},\"id\":\"13913\",\"type\":\"Spacer\"},{\"attributes\":{\"axis_label_text_font_size\":\"120%\",\"bounds\":\"auto\",\"formatter\":{\"id\":\"13887\"},\"group_text_font_size\":\"130%\",\"major_label_orientation\":\"horizontal\",\"major_label_text_font_size\":\"130%\",\"ticker\":{\"id\":\"13857\"}},\"id\":\"13856\",\"type\":\"CategoricalAxis\"},{\"attributes\":{\"overlay\":{\"id\":\"13864\"}},\"id\":\"13862\",\"type\":\"BoxZoomTool\"},{\"attributes\":{\"end\":150.69064161050497,\"reset_end\":150.69064161050497,\"reset_start\":0.0,\"tags\":[[[\"fit_minutes\",\"fit_minutes\",null]]]},\"id\":\"13840\",\"type\":\"Range1d\"},{\"attributes\":{\"factors\":[\"Scikit\",\"Spark\",\"Dask\"],\"tags\":[[[\"tool\",\"tool\",null]]]},\"id\":\"13841\",\"type\":\"FactorRange\"},{\"attributes\":{},\"id\":\"13859\",\"type\":\"SaveTool\"},{\"attributes\":{},\"id\":\"13848\",\"type\":\"LinearScale\"},{\"attributes\":{},\"id\":\"13885\",\"type\":\"BasicTickFormatter\"},{\"attributes\":{\"data_source\":{\"id\":\"13873\"},\"glyph\":{\"id\":\"13876\"},\"hover_glyph\":{\"id\":\"13879\"},\"muted_glyph\":{\"id\":\"13880\"},\"nonselection_glyph\":{\"id\":\"13877\"},\"selection_glyph\":{\"id\":\"13878\"},\"view\":{\"id\":\"13882\"}},\"id\":\"13881\",\"type\":\"GlyphRenderer\"},{\"attributes\":{\"fill_color\":{\"field\":\"color\",\"transform\":{\"id\":\"13872\"}},\"height\":{\"value\":0.8},\"right\":{\"field\":\"fit_minutes\"},\"y\":{\"field\":\"tool\"}},\"id\":\"13876\",\"type\":\"HBar\"},{\"attributes\":{\"text\":\"Elastic Net + Hyperparameter Tuning\",\"text_color\":{\"value\":\"black\"},\"text_font_size\":{\"value\":\"200%\"}},\"id\":\"13844\",\"type\":\"Title\"},{\"attributes\":{},\"id\":\"13863\",\"type\":\"ResetTool\"},{\"attributes\":{\"callback\":null,\"renderers\":[{\"id\":\"13881\"}],\"tags\":[\"hv_created\"],\"tooltips\":[[\"tool\",\"@{tool}\"],[\"fit_minutes\",\"@{fit_minutes}\"]]},\"id\":\"13842\",\"type\":\"HoverTool\"},{\"attributes\":{\"fill_color\":{\"field\":\"color\",\"transform\":{\"id\":\"13872\"}},\"height\":{\"value\":0.8},\"right\":{\"field\":\"fit_minutes\"},\"y\":{\"field\":\"tool\"}},\"id\":\"13879\",\"type\":\"HBar\"},{\"attributes\":{\"fill_color\":{\"field\":\"color\",\"transform\":{\"id\":\"13872\"}},\"height\":{\"value\":0.8},\"right\":{\"field\":\"fit_minutes\"},\"y\":{\"field\":\"tool\"}},\"id\":\"13878\",\"type\":\"HBar\"},{\"attributes\":{},\"id\":\"13850\",\"type\":\"CategoricalScale\"}],\"root_ids\":[\"13838\"]},\"title\":\"Bokeh Application\",\"version\":\"2.1.1\"}};\n",
       "  var render_items = [{\"docid\":\"8742891e-b8a5-4633-ab5c-58fdc25a8aa7\",\"root_ids\":[\"13838\"],\"roots\":{\"13838\":\"acfc80b3-42a0-462b-ac9f-8838b3f38625\"}}];\n",
       "  root.Bokeh.embed.embed_items_notebook(docs_json, render_items);\n",
       "  }\n",
       "if (root.Bokeh !== undefined) {\n",
       "    embed_document(root);\n",
       "  } else {\n",
       "    var attempts = 0;\n",
       "    var timer = setInterval(function(root) {\n",
       "      if (root.Bokeh !== undefined) {\n",
       "        clearInterval(timer);\n",
       "        embed_document(root);\n",
       "      } else if (document.readyState == \"complete\") {\n",
       "        attempts++;\n",
       "        if (attempts > 100) {\n",
       "          clearInterval(timer);\n",
       "          console.log(\"Bokeh: ERROR: Unable to run BokehJS code because BokehJS library is missing\");\n",
       "        }\n",
       "      }\n",
       "    }, 10, root)\n",
       "  }\n",
       "})(window);</script>"
      ],
      "text/plain": [
       ":Bars   [tool]   (fit_minutes)"
      ]
     },
     "execution_count": 176,
     "metadata": {
      "application/vnd.holoviews_exec.v0+json": {
       "id": "13838"
      }
     },
     "output_type": "execute_result"
    }
   ],
   "source": [
    "runtime_plot('Elastic net', 'Elastic Net + Hyperparameter Tuning')"
   ]
  },
  {
   "cell_type": "code",
   "execution_count": 177,
   "metadata": {
    "jupyter": {
     "source_hidden": true
    }
   },
   "outputs": [
    {
     "data": {},
     "metadata": {},
     "output_type": "display_data"
    },
    {
     "data": {
      "application/vnd.holoviews_exec.v0+json": "",
      "text/html": [
       "<div id='13955'>\n",
       "\n",
       "\n",
       "\n",
       "\n",
       "\n",
       "  <div class=\"bk-root\" id=\"5c589a91-82d9-4a1c-9692-f26a2efd8c53\" data-root-id=\"13955\"></div>\n",
       "</div>\n",
       "<script type=\"application/javascript\">(function(root) {\n",
       "  function embed_document(root) {\n",
       "  var docs_json = {\"75717742-f09b-4d65-af1a-5e24b3c823bc\":{\"roots\":{\"references\":[{\"attributes\":{},\"id\":\"13965\",\"type\":\"LinearScale\"},{\"attributes\":{\"callback\":null,\"renderers\":[{\"id\":\"13998\"}],\"tags\":[\"hv_created\"],\"tooltips\":[[\"tool\",\"@{tool}\"],[\"fit_minutes\",\"@{fit_minutes}\"]]},\"id\":\"13959\",\"type\":\"HoverTool\"},{\"attributes\":{\"margin\":[5,5,5,5],\"name\":\"HSpacer29025\",\"sizing_mode\":\"stretch_width\"},\"id\":\"14030\",\"type\":\"Spacer\"},{\"attributes\":{\"axis\":{\"id\":\"13973\"},\"dimension\":1,\"grid_line_color\":null,\"ticker\":null},\"id\":\"13975\",\"type\":\"Grid\"},{\"attributes\":{},\"id\":\"13980\",\"type\":\"ResetTool\"},{\"attributes\":{\"label\":{\"field\":\"color\"},\"renderers\":[{\"id\":\"13998\"}]},\"id\":\"14009\",\"type\":\"LegendItem\"},{\"attributes\":{\"fill_alpha\":{\"value\":0.1},\"fill_color\":{\"field\":\"color\",\"transform\":{\"id\":\"13989\"}},\"height\":{\"value\":0.8},\"line_alpha\":{\"value\":0.1},\"right\":{\"field\":\"fit_minutes\"},\"y\":{\"field\":\"tool\"}},\"id\":\"13994\",\"type\":\"HBar\"},{\"attributes\":{},\"id\":\"14004\",\"type\":\"CategoricalTickFormatter\"},{\"attributes\":{\"align\":null,\"below\":[{\"id\":\"13969\"}],\"center\":[{\"id\":\"13972\"},{\"id\":\"13975\"},{\"id\":\"14008\"}],\"left\":[{\"id\":\"13973\"}],\"margin\":null,\"min_border_bottom\":10,\"min_border_left\":10,\"min_border_right\":10,\"min_border_top\":10,\"plot_height\":300,\"plot_width\":700,\"renderers\":[{\"id\":\"13998\"}],\"right\":[{\"id\":\"14008\"}],\"sizing_mode\":\"fixed\",\"title\":{\"id\":\"13961\"},\"toolbar\":{\"id\":\"13982\"},\"x_range\":{\"id\":\"13957\"},\"x_scale\":{\"id\":\"13965\"},\"y_range\":{\"id\":\"13958\"},\"y_scale\":{\"id\":\"13967\"}},\"id\":\"13960\",\"subtype\":\"Figure\",\"type\":\"Plot\"},{\"attributes\":{},\"id\":\"13967\",\"type\":\"CategoricalScale\"},{\"attributes\":{\"items\":[{\"id\":\"14009\"}],\"location\":[0,0]},\"id\":\"14008\",\"type\":\"Legend\"},{\"attributes\":{\"axis_label\":\"Train time in minutes (lower is better)\",\"axis_label_text_font_size\":\"120%\",\"bounds\":\"auto\",\"formatter\":{\"id\":\"14002\"},\"major_label_orientation\":\"horizontal\",\"major_label_text_font_size\":\"130%\",\"ticker\":{\"id\":\"13970\"}},\"id\":\"13969\",\"type\":\"LinearAxis\"},{\"attributes\":{},\"id\":\"13970\",\"type\":\"BasicTicker\"},{\"attributes\":{},\"id\":\"14006\",\"type\":\"UnionRenderers\"},{\"attributes\":{\"axis\":{\"id\":\"13969\"},\"grid_line_color\":null,\"ticker\":null},\"id\":\"13972\",\"type\":\"Grid\"},{\"attributes\":{\"end\":179.62304113892995,\"reset_end\":179.62304113892995,\"reset_start\":0.0,\"tags\":[[[\"fit_minutes\",\"fit_minutes\",null]]]},\"id\":\"13957\",\"type\":\"Range1d\"},{\"attributes\":{},\"id\":\"14002\",\"type\":\"BasicTickFormatter\"},{\"attributes\":{},\"id\":\"13974\",\"type\":\"CategoricalTicker\"},{\"attributes\":{\"overlay\":{\"id\":\"13981\"}},\"id\":\"13979\",\"type\":\"BoxZoomTool\"},{\"attributes\":{\"fill_alpha\":{\"value\":0.2},\"fill_color\":{\"field\":\"color\",\"transform\":{\"id\":\"13989\"}},\"height\":{\"value\":0.8},\"line_alpha\":{\"value\":0.2},\"right\":{\"field\":\"fit_minutes\"},\"y\":{\"field\":\"tool\"}},\"id\":\"13997\",\"type\":\"HBar\"},{\"attributes\":{\"axis_label_text_font_size\":\"120%\",\"bounds\":\"auto\",\"formatter\":{\"id\":\"14004\"},\"group_text_font_size\":\"130%\",\"major_label_orientation\":\"horizontal\",\"major_label_text_font_size\":\"130%\",\"ticker\":{\"id\":\"13974\"}},\"id\":\"13973\",\"type\":\"CategoricalAxis\"},{\"attributes\":{\"factors\":[\"Scikit\",\"Dask\"],\"palette\":[\"gray\",\"#fda061\"]},\"id\":\"13989\",\"type\":\"CategoricalColorMapper\"},{\"attributes\":{\"text\":\"XGBoost Regressor\",\"text_color\":{\"value\":\"black\"},\"text_font_size\":{\"value\":\"200%\"}},\"id\":\"13961\",\"type\":\"Title\"},{\"attributes\":{\"factors\":[\"Scikit\",\"Dask\"],\"tags\":[[[\"tool\",\"tool\",null]]]},\"id\":\"13958\",\"type\":\"FactorRange\"},{\"attributes\":{\"fill_color\":{\"field\":\"color\",\"transform\":{\"id\":\"13989\"}},\"height\":{\"value\":0.8},\"right\":{\"field\":\"fit_minutes\"},\"y\":{\"field\":\"tool\"}},\"id\":\"13995\",\"type\":\"HBar\"},{\"attributes\":{\"bottom_units\":\"screen\",\"fill_alpha\":0.5,\"fill_color\":\"lightgrey\",\"left_units\":\"screen\",\"level\":\"overlay\",\"line_alpha\":1.0,\"line_color\":\"black\",\"line_dash\":[4,4],\"line_width\":2,\"right_units\":\"screen\",\"top_units\":\"screen\"},\"id\":\"13981\",\"type\":\"BoxAnnotation\"},{\"attributes\":{\"data_source\":{\"id\":\"13990\"},\"glyph\":{\"id\":\"13993\"},\"hover_glyph\":{\"id\":\"13996\"},\"muted_glyph\":{\"id\":\"13997\"},\"nonselection_glyph\":{\"id\":\"13994\"},\"selection_glyph\":{\"id\":\"13995\"},\"view\":{\"id\":\"13999\"}},\"id\":\"13998\",\"type\":\"GlyphRenderer\"},{\"attributes\":{\"fill_color\":{\"field\":\"color\",\"transform\":{\"id\":\"13989\"}},\"height\":{\"value\":0.8},\"right\":{\"field\":\"fit_minutes\"},\"y\":{\"field\":\"tool\"}},\"id\":\"13996\",\"type\":\"HBar\"},{\"attributes\":{\"source\":{\"id\":\"13990\"}},\"id\":\"13999\",\"type\":\"CDSView\"},{\"attributes\":{\"active_drag\":\"auto\",\"active_inspect\":\"auto\",\"active_multi\":null,\"active_scroll\":\"auto\",\"active_tap\":\"auto\",\"tools\":[{\"id\":\"13959\"},{\"id\":\"13976\"},{\"id\":\"13977\"},{\"id\":\"13978\"},{\"id\":\"13979\"},{\"id\":\"13980\"}]},\"id\":\"13982\",\"type\":\"Toolbar\"},{\"attributes\":{\"fill_color\":{\"field\":\"color\",\"transform\":{\"id\":\"13989\"}},\"height\":{\"value\":0.8},\"right\":{\"field\":\"fit_minutes\"},\"y\":{\"field\":\"tool\"}},\"id\":\"13993\",\"type\":\"HBar\"},{\"attributes\":{},\"id\":\"13976\",\"type\":\"SaveTool\"},{\"attributes\":{\"margin\":[5,5,5,5],\"name\":\"HSpacer29024\",\"sizing_mode\":\"stretch_width\"},\"id\":\"13956\",\"type\":\"Spacer\"},{\"attributes\":{},\"id\":\"13977\",\"type\":\"PanTool\"},{\"attributes\":{},\"id\":\"13991\",\"type\":\"Selection\"},{\"attributes\":{\"data\":{\"color\":[\"Scikit\",\"Dask\"],\"fit_minutes\":{\"__ndarray__\":\"xPbH8uWFZEARUS5uHpgjQA==\",\"dtype\":\"float64\",\"order\":\"little\",\"shape\":[2]},\"tool\":[\"Scikit\",\"Dask\"]},\"selected\":{\"id\":\"13991\"},\"selection_policy\":{\"id\":\"14006\"}},\"id\":\"13990\",\"type\":\"ColumnDataSource\"},{\"attributes\":{},\"id\":\"13978\",\"type\":\"WheelZoomTool\"},{\"attributes\":{\"children\":[{\"id\":\"13956\"},{\"id\":\"13960\"},{\"id\":\"14030\"}],\"margin\":[0,0,0,0],\"name\":\"Row29020\",\"tags\":[\"embedded\"]},\"id\":\"13955\",\"type\":\"Row\"}],\"root_ids\":[\"13955\"]},\"title\":\"Bokeh Application\",\"version\":\"2.1.1\"}};\n",
       "  var render_items = [{\"docid\":\"75717742-f09b-4d65-af1a-5e24b3c823bc\",\"root_ids\":[\"13955\"],\"roots\":{\"13955\":\"5c589a91-82d9-4a1c-9692-f26a2efd8c53\"}}];\n",
       "  root.Bokeh.embed.embed_items_notebook(docs_json, render_items);\n",
       "  }\n",
       "if (root.Bokeh !== undefined) {\n",
       "    embed_document(root);\n",
       "  } else {\n",
       "    var attempts = 0;\n",
       "    var timer = setInterval(function(root) {\n",
       "      if (root.Bokeh !== undefined) {\n",
       "        clearInterval(timer);\n",
       "        embed_document(root);\n",
       "      } else if (document.readyState == \"complete\") {\n",
       "        attempts++;\n",
       "        if (attempts > 100) {\n",
       "          clearInterval(timer);\n",
       "          console.log(\"Bokeh: ERROR: Unable to run BokehJS code because BokehJS library is missing\");\n",
       "        }\n",
       "      }\n",
       "    }, 10, root)\n",
       "  }\n",
       "})(window);</script>"
      ],
      "text/plain": [
       ":Bars   [tool]   (fit_minutes)"
      ]
     },
     "execution_count": 177,
     "metadata": {
      "application/vnd.holoviews_exec.v0+json": {
       "id": "13955"
      }
     },
     "output_type": "execute_result"
    }
   ],
   "source": [
    "runtime_plot('Xgboost', 'XGBoost Regressor')"
   ]
  },
  {
   "cell_type": "markdown",
   "metadata": {},
   "source": [
    "**NOTE**: PySpark does not support XGBoost"
   ]
  },
  {
   "cell_type": "code",
   "execution_count": 178,
   "metadata": {
    "jupyter": {
     "source_hidden": true
    }
   },
   "outputs": [
    {
     "data": {},
     "metadata": {},
     "output_type": "display_data"
    },
    {
     "data": {
      "application/vnd.holoviews_exec.v0+json": "",
      "text/html": [
       "<div id='14072'>\n",
       "\n",
       "\n",
       "\n",
       "\n",
       "\n",
       "  <div class=\"bk-root\" id=\"7bc32922-d1e8-4b78-99e5-95afd166ec43\" data-root-id=\"14072\"></div>\n",
       "</div>\n",
       "<script type=\"application/javascript\">(function(root) {\n",
       "  function embed_document(root) {\n",
       "  var docs_json = {\"0f0e4099-4649-4aec-b9e6-b61656273060\":{\"roots\":{\"references\":[{\"attributes\":{\"end\":20.491081547448342,\"reset_end\":20.491081547448342,\"reset_start\":0.0,\"tags\":[[[\"fit_minutes\",\"fit_minutes\",null]]]},\"id\":\"14074\",\"type\":\"Range1d\"},{\"attributes\":{\"items\":[{\"id\":\"14126\"}],\"location\":[0,0]},\"id\":\"14125\",\"type\":\"Legend\"},{\"attributes\":{\"overlay\":{\"id\":\"14098\"}},\"id\":\"14096\",\"type\":\"BoxZoomTool\"},{\"attributes\":{\"children\":[{\"id\":\"14073\"},{\"id\":\"14077\"},{\"id\":\"14147\"}],\"margin\":[0,0,0,0],\"name\":\"Row29271\",\"tags\":[\"embedded\"]},\"id\":\"14072\",\"type\":\"Row\"},{\"attributes\":{\"align\":null,\"below\":[{\"id\":\"14086\"}],\"center\":[{\"id\":\"14089\"},{\"id\":\"14092\"},{\"id\":\"14125\"}],\"left\":[{\"id\":\"14090\"}],\"margin\":null,\"min_border_bottom\":10,\"min_border_left\":10,\"min_border_right\":10,\"min_border_top\":10,\"plot_height\":300,\"plot_width\":700,\"renderers\":[{\"id\":\"14115\"}],\"right\":[{\"id\":\"14125\"}],\"sizing_mode\":\"fixed\",\"title\":{\"id\":\"14078\"},\"toolbar\":{\"id\":\"14099\"},\"x_range\":{\"id\":\"14074\"},\"x_scale\":{\"id\":\"14082\"},\"y_range\":{\"id\":\"14075\"},\"y_scale\":{\"id\":\"14084\"}},\"id\":\"14077\",\"subtype\":\"Figure\",\"type\":\"Plot\"},{\"attributes\":{\"factors\":[\"Scikit\",\"Spark\",\"Rapids\"],\"tags\":[[[\"tool\",\"tool\",null]]]},\"id\":\"14075\",\"type\":\"FactorRange\"},{\"attributes\":{\"fill_alpha\":{\"value\":0.2},\"fill_color\":{\"field\":\"color\",\"transform\":{\"id\":\"14106\"}},\"height\":{\"value\":0.8},\"line_alpha\":{\"value\":0.2},\"right\":{\"field\":\"fit_minutes\"},\"y\":{\"field\":\"tool\"}},\"id\":\"14114\",\"type\":\"HBar\"},{\"attributes\":{\"axis\":{\"id\":\"14090\"},\"dimension\":1,\"grid_line_color\":null,\"ticker\":null},\"id\":\"14092\",\"type\":\"Grid\"},{\"attributes\":{\"margin\":[5,5,5,5],\"name\":\"HSpacer29276\",\"sizing_mode\":\"stretch_width\"},\"id\":\"14147\",\"type\":\"Spacer\"},{\"attributes\":{\"source\":{\"id\":\"14107\"}},\"id\":\"14116\",\"type\":\"CDSView\"},{\"attributes\":{\"callback\":null,\"renderers\":[{\"id\":\"14115\"}],\"tags\":[\"hv_created\"],\"tooltips\":[[\"tool\",\"@{tool}\"],[\"fit_minutes\",\"@{fit_minutes}\"]]},\"id\":\"14076\",\"type\":\"HoverTool\"},{\"attributes\":{\"data_source\":{\"id\":\"14107\"},\"glyph\":{\"id\":\"14110\"},\"hover_glyph\":{\"id\":\"14113\"},\"muted_glyph\":{\"id\":\"14114\"},\"nonselection_glyph\":{\"id\":\"14111\"},\"selection_glyph\":{\"id\":\"14112\"},\"view\":{\"id\":\"14116\"}},\"id\":\"14115\",\"type\":\"GlyphRenderer\"},{\"attributes\":{\"fill_alpha\":{\"value\":0.1},\"fill_color\":{\"field\":\"color\",\"transform\":{\"id\":\"14106\"}},\"height\":{\"value\":0.8},\"line_alpha\":{\"value\":0.1},\"right\":{\"field\":\"fit_minutes\"},\"y\":{\"field\":\"tool\"}},\"id\":\"14111\",\"type\":\"HBar\"},{\"attributes\":{\"label\":{\"field\":\"color\"},\"renderers\":[{\"id\":\"14115\"}]},\"id\":\"14126\",\"type\":\"LegendItem\"},{\"attributes\":{\"text\":\"Random Forest Classifier\",\"text_color\":{\"value\":\"black\"},\"text_font_size\":{\"value\":\"200%\"}},\"id\":\"14078\",\"type\":\"Title\"},{\"attributes\":{},\"id\":\"14082\",\"type\":\"LinearScale\"},{\"attributes\":{},\"id\":\"14119\",\"type\":\"BasicTickFormatter\"},{\"attributes\":{\"factors\":[\"Scikit\",\"Spark\",\"Rapids\"],\"palette\":[\"gray\",\"#fda061\",\"lightblue\"]},\"id\":\"14106\",\"type\":\"CategoricalColorMapper\"},{\"attributes\":{},\"id\":\"14084\",\"type\":\"CategoricalScale\"},{\"attributes\":{\"fill_color\":{\"field\":\"color\",\"transform\":{\"id\":\"14106\"}},\"height\":{\"value\":0.8},\"right\":{\"field\":\"fit_minutes\"},\"y\":{\"field\":\"tool\"}},\"id\":\"14112\",\"type\":\"HBar\"},{\"attributes\":{},\"id\":\"14108\",\"type\":\"Selection\"},{\"attributes\":{},\"id\":\"14123\",\"type\":\"UnionRenderers\"},{\"attributes\":{\"margin\":[5,5,5,5],\"name\":\"HSpacer29275\",\"sizing_mode\":\"stretch_width\"},\"id\":\"14073\",\"type\":\"Spacer\"},{\"attributes\":{},\"id\":\"14087\",\"type\":\"BasicTicker\"},{\"attributes\":{\"axis\":{\"id\":\"14086\"},\"grid_line_color\":null,\"ticker\":null},\"id\":\"14089\",\"type\":\"Grid\"},{\"attributes\":{\"axis_label\":\"Train time in minutes (lower is better)\",\"axis_label_text_font_size\":\"120%\",\"bounds\":\"auto\",\"formatter\":{\"id\":\"14119\"},\"major_label_orientation\":\"horizontal\",\"major_label_text_font_size\":\"130%\",\"ticker\":{\"id\":\"14087\"}},\"id\":\"14086\",\"type\":\"LinearAxis\"},{\"attributes\":{\"fill_color\":{\"field\":\"color\",\"transform\":{\"id\":\"14106\"}},\"height\":{\"value\":0.8},\"right\":{\"field\":\"fit_minutes\"},\"y\":{\"field\":\"tool\"}},\"id\":\"14110\",\"type\":\"HBar\"},{\"attributes\":{},\"id\":\"14121\",\"type\":\"CategoricalTickFormatter\"},{\"attributes\":{},\"id\":\"14094\",\"type\":\"PanTool\"},{\"attributes\":{\"bottom_units\":\"screen\",\"fill_alpha\":0.5,\"fill_color\":\"lightgrey\",\"left_units\":\"screen\",\"level\":\"overlay\",\"line_alpha\":1.0,\"line_color\":\"black\",\"line_dash\":[4,4],\"line_width\":2,\"right_units\":\"screen\",\"top_units\":\"screen\"},\"id\":\"14098\",\"type\":\"BoxAnnotation\"},{\"attributes\":{\"fill_color\":{\"field\":\"color\",\"transform\":{\"id\":\"14106\"}},\"height\":{\"value\":0.8},\"right\":{\"field\":\"fit_minutes\"},\"y\":{\"field\":\"tool\"}},\"id\":\"14113\",\"type\":\"HBar\"},{\"attributes\":{},\"id\":\"14091\",\"type\":\"CategoricalTicker\"},{\"attributes\":{},\"id\":\"14097\",\"type\":\"ResetTool\"},{\"attributes\":{},\"id\":\"14095\",\"type\":\"WheelZoomTool\"},{\"attributes\":{\"active_drag\":\"auto\",\"active_inspect\":\"auto\",\"active_multi\":null,\"active_scroll\":\"auto\",\"active_tap\":\"auto\",\"tools\":[{\"id\":\"14076\"},{\"id\":\"14093\"},{\"id\":\"14094\"},{\"id\":\"14095\"},{\"id\":\"14096\"},{\"id\":\"14097\"}]},\"id\":\"14099\",\"type\":\"Toolbar\"},{\"attributes\":{\"data\":{\"color\":[\"Scikit\",\"Spark\",\"Rapids\"],\"fit_minutes\":{\"__ndarray__\":\"Ki9HtewmI0CJVooLZKEyQCIifPgrhZg/\",\"dtype\":\"float64\",\"order\":\"little\",\"shape\":[3]},\"tool\":[\"Scikit\",\"Spark\",\"Rapids\"]},\"selected\":{\"id\":\"14108\"},\"selection_policy\":{\"id\":\"14123\"}},\"id\":\"14107\",\"type\":\"ColumnDataSource\"},{\"attributes\":{\"axis_label_text_font_size\":\"120%\",\"bounds\":\"auto\",\"formatter\":{\"id\":\"14121\"},\"group_text_font_size\":\"130%\",\"major_label_orientation\":\"horizontal\",\"major_label_text_font_size\":\"130%\",\"ticker\":{\"id\":\"14091\"}},\"id\":\"14090\",\"type\":\"CategoricalAxis\"},{\"attributes\":{},\"id\":\"14093\",\"type\":\"SaveTool\"}],\"root_ids\":[\"14072\"]},\"title\":\"Bokeh Application\",\"version\":\"2.1.1\"}};\n",
       "  var render_items = [{\"docid\":\"0f0e4099-4649-4aec-b9e6-b61656273060\",\"root_ids\":[\"14072\"],\"roots\":{\"14072\":\"7bc32922-d1e8-4b78-99e5-95afd166ec43\"}}];\n",
       "  root.Bokeh.embed.embed_items_notebook(docs_json, render_items);\n",
       "  }\n",
       "if (root.Bokeh !== undefined) {\n",
       "    embed_document(root);\n",
       "  } else {\n",
       "    var attempts = 0;\n",
       "    var timer = setInterval(function(root) {\n",
       "      if (root.Bokeh !== undefined) {\n",
       "        clearInterval(timer);\n",
       "        embed_document(root);\n",
       "      } else if (document.readyState == \"complete\") {\n",
       "        attempts++;\n",
       "        if (attempts > 100) {\n",
       "          clearInterval(timer);\n",
       "          console.log(\"Bokeh: ERROR: Unable to run BokehJS code because BokehJS library is missing\");\n",
       "        }\n",
       "      }\n",
       "    }, 10, root)\n",
       "  }\n",
       "})(window);</script>"
      ],
      "text/plain": [
       ":Bars   [tool]   (fit_minutes)"
      ]
     },
     "execution_count": 178,
     "metadata": {
      "application/vnd.holoviews_exec.v0+json": {
       "id": "14072"
      }
     },
     "output_type": "execute_result"
    }
   ],
   "source": [
    "runtime_plot('Random forest', 'Random Forest Classifier')"
   ]
  },
  {
   "cell_type": "markdown",
   "metadata": {},
   "source": [
    "## Compare to scikit-learn\n",
    "\n",
    "Each number is read as x-fold time reduction compared to scikit-learn. Negative numbers mean time is x-fold slower than scikit-learn.\n",
    "\n",
    "Highlights:\n",
    "\n",
    "> Dask hyperparameter tuning (elastic net) is **113x faster** than scikit-learn\n",
    "\n",
    "> RAPIDS random forest is **400x faster** than scikit-learn\n",
    "\n",
    "> Spark random forest is **2x slower** than scikit-learn"
   ]
  },
  {
   "cell_type": "code",
   "execution_count": 206,
   "metadata": {
    "jupyter": {
     "source_hidden": true
    }
   },
   "outputs": [
    {
     "data": {},
     "metadata": {},
     "output_type": "display_data"
    },
    {
     "data": {
      "application/vnd.holoviews_exec.v0+json": "",
      "text/html": [
       "<div id='15975'>\n",
       "\n",
       "\n",
       "\n",
       "\n",
       "\n",
       "  <div class=\"bk-root\" id=\"e6bdb563-1f15-423d-b64c-60b4766f95bc\" data-root-id=\"15975\"></div>\n",
       "</div>\n",
       "<script type=\"application/javascript\">(function(root) {\n",
       "  function embed_document(root) {\n",
       "  var docs_json = {\"30b9f7d3-33a8-4f2d-9b4f-3e80d8cfec77\":{\"roots\":{\"references\":[{\"attributes\":{\"axis\":{\"id\":\"15989\"},\"grid_line_color\":null,\"ticker\":null},\"id\":\"15992\",\"type\":\"Grid\"},{\"attributes\":{\"axis_label\":\"Speed vs. scikit-learn (higher is better)\",\"axis_label_text_font_size\":\"120%\",\"bounds\":\"auto\",\"formatter\":{\"id\":\"16018\"},\"major_label_orientation\":\"horizontal\",\"major_label_text_font_size\":\"130%\",\"ticker\":{\"id\":\"15990\"}},\"id\":\"15989\",\"type\":\"LinearAxis\"},{\"attributes\":{},\"id\":\"15994\",\"type\":\"CategoricalTicker\"},{\"attributes\":{},\"id\":\"16028\",\"type\":\"UnionRenderers\"},{\"attributes\":{\"axis_label_text_font_size\":\"120%\",\"bounds\":\"auto\",\"formatter\":{\"id\":\"16020\"},\"group_text_font_size\":\"130%\",\"major_label_orientation\":\"horizontal\",\"major_label_text_font_size\":\"130%\",\"ticker\":{\"id\":\"15994\"}},\"id\":\"15993\",\"type\":\"CategoricalAxis\"},{\"attributes\":{},\"id\":\"16020\",\"type\":\"CategoricalTickFormatter\"},{\"attributes\":{\"fill_alpha\":{\"value\":0.2},\"fill_color\":{\"field\":\"tool\",\"transform\":{\"id\":\"16009\"}},\"height\":{\"value\":0.8},\"line_alpha\":{\"value\":0.2},\"right\":{\"field\":\"scikit_improvement\"},\"y\":{\"field\":\"xoffsets\"}},\"id\":\"16015\",\"type\":\"HBar\"},{\"attributes\":{\"source\":{\"id\":\"16010\"}},\"id\":\"16017\",\"type\":\"CDSView\"},{\"attributes\":{},\"id\":\"15987\",\"type\":\"CategoricalScale\"},{\"attributes\":{\"bottom_units\":\"screen\",\"fill_alpha\":0.5,\"fill_color\":\"lightgrey\",\"left_units\":\"screen\",\"level\":\"overlay\",\"line_alpha\":1.0,\"line_color\":\"black\",\"line_dash\":[4,4],\"line_width\":2,\"right_units\":\"screen\",\"top_units\":\"screen\"},\"id\":\"16001\",\"type\":\"BoxAnnotation\"},{\"attributes\":{\"align\":null,\"below\":[{\"id\":\"15989\"}],\"center\":[{\"id\":\"15992\"},{\"id\":\"15995\"}],\"left\":[{\"id\":\"15993\"}],\"margin\":null,\"min_border_bottom\":10,\"min_border_left\":10,\"min_border_right\":10,\"min_border_top\":10,\"plot_height\":400,\"plot_width\":700,\"renderers\":[{\"id\":\"16016\"}],\"sizing_mode\":\"fixed\",\"title\":{\"id\":\"15981\"},\"toolbar\":{\"id\":\"16002\"},\"x_range\":{\"id\":\"15977\"},\"x_scale\":{\"id\":\"15985\"},\"y_range\":{\"id\":\"15978\"},\"y_scale\":{\"id\":\"15987\"}},\"id\":\"15980\",\"subtype\":\"Figure\",\"type\":\"Plot\"},{\"attributes\":{\"axis\":{\"id\":\"15993\"},\"dimension\":1,\"grid_line_color\":null,\"ticker\":null},\"id\":\"15995\",\"type\":\"Grid\"},{\"attributes\":{},\"id\":\"16018\",\"type\":\"BasicTickFormatter\"},{\"attributes\":{\"data\":{\"model\":[\"Random forest\",\"Elastic net\",\"Random forest\",\"Elastic net\",\"Xgboost\"],\"scikit_improvement\":{\"__ndarray__\":\"GCNx6uIg/7/BBa1OjPcGQNd3rjiL/nhAw/4FA/okXEDlAyO1KcIwQA==\",\"dtype\":\"float64\",\"order\":\"little\",\"shape\":[5]},\"tool\":[\"Spark\",\"Spark\",\"Rapids\",\"Dask\",\"Dask\"],\"xoffsets\":[[\"Random forest\",\"Spark\"],[\"Elastic net\",\"Spark\"],[\"Random forest\",\"Rapids\"],[\"Elastic net\",\"Dask\"],[\"Xgboost\",\"Dask\"]]},\"selected\":{\"id\":\"16011\"},\"selection_policy\":{\"id\":\"16028\"}},\"id\":\"16010\",\"type\":\"ColumnDataSource\"},{\"attributes\":{},\"id\":\"15996\",\"type\":\"SaveTool\"},{\"attributes\":{\"fill_color\":{\"field\":\"tool\",\"transform\":{\"id\":\"16009\"}},\"height\":{\"value\":0.8},\"right\":{\"field\":\"scikit_improvement\"},\"y\":{\"field\":\"xoffsets\"}},\"id\":\"16013\",\"type\":\"HBar\"},{\"attributes\":{},\"id\":\"15997\",\"type\":\"PanTool\"},{\"attributes\":{\"margin\":[5,5,5,5],\"name\":\"HSpacer36251\",\"sizing_mode\":\"stretch_width\"},\"id\":\"16038\",\"type\":\"Spacer\"},{\"attributes\":{\"text\":\"Speed increase versus scikit-learn\",\"text_color\":{\"value\":\"black\"},\"text_font_size\":{\"value\":\"200%\"}},\"id\":\"15981\",\"type\":\"Title\"},{\"attributes\":{},\"id\":\"15998\",\"type\":\"WheelZoomTool\"},{\"attributes\":{\"children\":[{\"id\":\"15976\"},{\"id\":\"15980\"},{\"id\":\"16038\"}],\"margin\":[0,0,0,0],\"name\":\"Row36246\",\"tags\":[\"embedded\"]},\"id\":\"15975\",\"type\":\"Row\"},{\"attributes\":{\"active_drag\":\"auto\",\"active_inspect\":\"auto\",\"active_multi\":null,\"active_scroll\":\"auto\",\"active_tap\":\"auto\",\"tools\":[{\"id\":\"15979\"},{\"id\":\"15996\"},{\"id\":\"15997\"},{\"id\":\"15998\"},{\"id\":\"15999\"},{\"id\":\"16000\"}]},\"id\":\"16002\",\"type\":\"Toolbar\"},{\"attributes\":{\"fill_alpha\":{\"value\":0.1},\"fill_color\":{\"field\":\"tool\",\"transform\":{\"id\":\"16009\"}},\"height\":{\"value\":0.8},\"line_alpha\":{\"value\":0.1},\"right\":{\"field\":\"scikit_improvement\"},\"y\":{\"field\":\"xoffsets\"}},\"id\":\"16014\",\"type\":\"HBar\"},{\"attributes\":{\"overlay\":{\"id\":\"16001\"}},\"id\":\"15999\",\"type\":\"BoxZoomTool\"},{\"attributes\":{},\"id\":\"16011\",\"type\":\"Selection\"},{\"attributes\":{\"callback\":null,\"renderers\":[{\"id\":\"16016\"}],\"tags\":[\"hv_created\"],\"tooltips\":[[\"model\",\"@{model}\"],[\"tool\",\"@{tool}\"],[\"scikit_improvement\",\"@{scikit_improvement}\"]]},\"id\":\"15979\",\"type\":\"HoverTool\"},{\"attributes\":{\"margin\":[5,5,5,5],\"name\":\"HSpacer36250\",\"sizing_mode\":\"stretch_width\"},\"id\":\"15976\",\"type\":\"Spacer\"},{\"attributes\":{},\"id\":\"16000\",\"type\":\"ResetTool\"},{\"attributes\":{\"end\":440.0944414532152,\"reset_end\":440.0944414532152,\"reset_start\":-42.130980754393896,\"start\":-42.130980754393896,\"tags\":[[[\"scikit_improvement\",\"scikit_improvement\",null]]]},\"id\":\"15977\",\"type\":\"Range1d\"},{\"attributes\":{},\"id\":\"15985\",\"type\":\"LinearScale\"},{\"attributes\":{\"factors\":[[\"Random forest\",\"Spark\"],[\"Random forest\",\"Rapids\"],[\"Random forest\",\"Dask\"],[\"Elastic net\",\"Spark\"],[\"Elastic net\",\"Rapids\"],[\"Elastic net\",\"Dask\"],[\"Xgboost\",\"Spark\"],[\"Xgboost\",\"Rapids\"],[\"Xgboost\",\"Dask\"]],\"tags\":[[[\"model\",\"model\",null],[\"tool\",\"tool\",null]]]},\"id\":\"15978\",\"type\":\"FactorRange\"},{\"attributes\":{\"data_source\":{\"id\":\"16010\"},\"glyph\":{\"id\":\"16013\"},\"hover_glyph\":null,\"muted_glyph\":{\"id\":\"16015\"},\"nonselection_glyph\":{\"id\":\"16014\"},\"selection_glyph\":null,\"view\":{\"id\":\"16017\"}},\"id\":\"16016\",\"type\":\"GlyphRenderer\"},{\"attributes\":{\"factors\":[\"Spark\",\"Rapids\",\"Dask\"],\"palette\":[\"#fda061\",\"lightgreen\",\"lightblue\"]},\"id\":\"16009\",\"type\":\"CategoricalColorMapper\"},{\"attributes\":{},\"id\":\"15990\",\"type\":\"BasicTicker\"}],\"root_ids\":[\"15975\"]},\"title\":\"Bokeh Application\",\"version\":\"2.1.1\"}};\n",
       "  var render_items = [{\"docid\":\"30b9f7d3-33a8-4f2d-9b4f-3e80d8cfec77\",\"root_ids\":[\"15975\"],\"roots\":{\"15975\":\"e6bdb563-1f15-423d-b64c-60b4766f95bc\"}}];\n",
       "  root.Bokeh.embed.embed_items_notebook(docs_json, render_items);\n",
       "  }\n",
       "if (root.Bokeh !== undefined) {\n",
       "    embed_document(root);\n",
       "  } else {\n",
       "    var attempts = 0;\n",
       "    var timer = setInterval(function(root) {\n",
       "      if (root.Bokeh !== undefined) {\n",
       "        clearInterval(timer);\n",
       "        embed_document(root);\n",
       "      } else if (document.readyState == \"complete\") {\n",
       "        attempts++;\n",
       "        if (attempts > 100) {\n",
       "          clearInterval(timer);\n",
       "          console.log(\"Bokeh: ERROR: Unable to run BokehJS code because BokehJS library is missing\");\n",
       "        }\n",
       "      }\n",
       "    }, 10, root)\n",
       "  }\n",
       "})(window);</script>"
      ],
      "text/plain": [
       ":Bars   [model,tool]   (scikit_improvement)"
      ]
     },
     "execution_count": 206,
     "metadata": {
      "application/vnd.holoviews_exec.v0+json": {
       "id": "15975"
      }
     },
     "output_type": "execute_result"
    }
   ],
   "source": [
    "by_scikit = metrics[metrics.tool != 'Scikit'].copy()\n",
    "by_scikit['tool'] = by_scikit.tool.cat.remove_unused_categories()\n",
    "\n",
    "by_scikit.hvplot.barh(\n",
    "    x='model',\n",
    "    by='tool',\n",
    "#     color='tool',\n",
    "    cmap=['#fda061', 'lightgreen', 'lightblue'],\n",
    "    height=400,\n",
    "    y='scikit_improvement',\n",
    "    xlabel='',\n",
    "    ylabel='Speed vs. scikit-learn (higher is better)',\n",
    "    title='Speed increase versus scikit-learn'\n",
    ").opts(fontsize={'labels': '120%', 'ticks': '130%', 'title': '200%'})"
   ]
  },
  {
   "cell_type": "markdown",
   "metadata": {},
   "source": [
    "**Not run**: RAPIDS and Spark XGBoost, RAPIDS elastic net, Dask random forest"
   ]
  },
  {
   "cell_type": "code",
   "execution_count": 224,
   "metadata": {
    "jupyter": {
     "source_hidden": true
    }
   },
   "outputs": [
    {
     "data": {
      "text/html": [
       "<div>\n",
       "<style scoped>\n",
       "    .dataframe tbody tr th:only-of-type {\n",
       "        vertical-align: middle;\n",
       "    }\n",
       "\n",
       "    .dataframe tbody tr th {\n",
       "        vertical-align: top;\n",
       "    }\n",
       "\n",
       "    .dataframe thead th {\n",
       "        text-align: right;\n",
       "    }\n",
       "</style>\n",
       "<table border=\"1\" class=\"dataframe\">\n",
       "  <thead>\n",
       "    <tr style=\"text-align: right;\">\n",
       "      <th></th>\n",
       "      <th>tool</th>\n",
       "      <th>model</th>\n",
       "      <th>scikit_improvement</th>\n",
       "    </tr>\n",
       "  </thead>\n",
       "  <tbody>\n",
       "    <tr>\n",
       "      <th>2</th>\n",
       "      <td>Spark</td>\n",
       "      <td>Random forest</td>\n",
       "      <td>-2.0</td>\n",
       "    </tr>\n",
       "    <tr>\n",
       "      <th>0</th>\n",
       "      <td>Rapids</td>\n",
       "      <td>Random forest</td>\n",
       "      <td>400.0</td>\n",
       "    </tr>\n",
       "    <tr>\n",
       "      <th>7</th>\n",
       "      <td>Spark</td>\n",
       "      <td>Elastic net</td>\n",
       "      <td>3.0</td>\n",
       "    </tr>\n",
       "    <tr>\n",
       "      <th>3</th>\n",
       "      <td>Dask</td>\n",
       "      <td>Elastic net</td>\n",
       "      <td>113.0</td>\n",
       "    </tr>\n",
       "    <tr>\n",
       "      <th>4</th>\n",
       "      <td>Dask</td>\n",
       "      <td>Xgboost</td>\n",
       "      <td>17.0</td>\n",
       "    </tr>\n",
       "  </tbody>\n",
       "</table>\n",
       "</div>"
      ],
      "text/plain": [
       "     tool          model  scikit_improvement\n",
       "2   Spark  Random forest                -2.0\n",
       "0  Rapids  Random forest               400.0\n",
       "7   Spark    Elastic net                 3.0\n",
       "3    Dask    Elastic net               113.0\n",
       "4    Dask        Xgboost                17.0"
      ]
     },
     "execution_count": 224,
     "metadata": {},
     "output_type": "execute_result"
    }
   ],
   "source": [
    "np.round(by_scikit[['tool', 'model', 'scikit_improvement']])"
   ]
  },
  {
   "cell_type": "markdown",
   "metadata": {},
   "source": [
    "## Compare to Spark\n",
    "\n",
    "Each number is read as x-fold time reduction compared to Spark. Negative numbers mean time is x-fold slower than Spark.\n",
    "\n",
    "> RAPIDS random forest is **778 times faster** than Spark\n",
    "\n",
    "> Dask hyperparameter tuning (elastic net) is **39 times faster** than Spark"
   ]
  },
  {
   "cell_type": "code",
   "execution_count": 227,
   "metadata": {
    "jupyter": {
     "source_hidden": true
    }
   },
   "outputs": [
    {
     "data": {},
     "metadata": {},
     "output_type": "display_data"
    },
    {
     "data": {
      "application/vnd.holoviews_exec.v0+json": "",
      "text/html": [
       "<div id='16710'>\n",
       "\n",
       "\n",
       "\n",
       "\n",
       "\n",
       "  <div class=\"bk-root\" id=\"860fa2cc-aab4-46d2-ba0b-9ab30fef1f99\" data-root-id=\"16710\"></div>\n",
       "</div>\n",
       "<script type=\"application/javascript\">(function(root) {\n",
       "  function embed_document(root) {\n",
       "  var docs_json = {\"39d9e4fe-195e-45af-9114-b6b09a19d6cc\":{\"roots\":{\"references\":[{\"attributes\":{\"children\":[{\"id\":\"16711\"},{\"id\":\"16715\"},{\"id\":\"16773\"}],\"margin\":[0,0,0,0],\"name\":\"Row38435\",\"tags\":[\"embedded\"]},\"id\":\"16710\",\"type\":\"Row\"},{\"attributes\":{\"end\":856.1250352680922,\"reset_end\":856.1250352680922,\"reset_start\":-80.9614102066333,\"start\":-80.9614102066333,\"tags\":[[[\"spark_improvement\",\"spark_improvement\",null]]]},\"id\":\"16712\",\"type\":\"Range1d\"},{\"attributes\":{\"fill_alpha\":{\"value\":0.2},\"fill_color\":{\"field\":\"tool\",\"transform\":{\"id\":\"16744\"}},\"height\":{\"value\":0.8},\"line_alpha\":{\"value\":0.2},\"right\":{\"field\":\"spark_improvement\"},\"y\":{\"field\":\"xoffsets\"}},\"id\":\"16750\",\"type\":\"HBar\"},{\"attributes\":{\"axis_label_text_font_size\":\"120%\",\"bounds\":\"auto\",\"formatter\":{\"id\":\"16755\"},\"group_text_font_size\":\"130%\",\"major_label_orientation\":\"horizontal\",\"major_label_text_font_size\":\"130%\",\"ticker\":{\"id\":\"16729\"}},\"id\":\"16728\",\"type\":\"CategoricalAxis\"},{\"attributes\":{\"factors\":[\"Scikit\",\"Rapids\",\"Dask\"],\"palette\":[\"gray\",\"lightgreen\",\"lightblue\"]},\"id\":\"16744\",\"type\":\"CategoricalColorMapper\"},{\"attributes\":{\"align\":null,\"below\":[{\"id\":\"16724\"}],\"center\":[{\"id\":\"16727\"},{\"id\":\"16730\"}],\"left\":[{\"id\":\"16728\"}],\"margin\":null,\"min_border_bottom\":10,\"min_border_left\":10,\"min_border_right\":10,\"min_border_top\":10,\"plot_height\":400,\"plot_width\":700,\"renderers\":[{\"id\":\"16751\"}],\"sizing_mode\":\"fixed\",\"title\":{\"id\":\"16716\"},\"toolbar\":{\"id\":\"16737\"},\"x_range\":{\"id\":\"16712\"},\"x_scale\":{\"id\":\"16720\"},\"y_range\":{\"id\":\"16713\"},\"y_scale\":{\"id\":\"16722\"}},\"id\":\"16715\",\"subtype\":\"Figure\",\"type\":\"Plot\"},{\"attributes\":{\"bottom_units\":\"screen\",\"fill_alpha\":0.5,\"fill_color\":\"lightgrey\",\"left_units\":\"screen\",\"level\":\"overlay\",\"line_alpha\":1.0,\"line_color\":\"black\",\"line_dash\":[4,4],\"line_width\":2,\"right_units\":\"screen\",\"top_units\":\"screen\"},\"id\":\"16736\",\"type\":\"BoxAnnotation\"},{\"attributes\":{},\"id\":\"16731\",\"type\":\"SaveTool\"},{\"attributes\":{\"active_drag\":\"auto\",\"active_inspect\":\"auto\",\"active_multi\":null,\"active_scroll\":\"auto\",\"active_tap\":\"auto\",\"tools\":[{\"id\":\"16714\"},{\"id\":\"16731\"},{\"id\":\"16732\"},{\"id\":\"16733\"},{\"id\":\"16734\"},{\"id\":\"16735\"}]},\"id\":\"16737\",\"type\":\"Toolbar\"},{\"attributes\":{\"source\":{\"id\":\"16745\"}},\"id\":\"16752\",\"type\":\"CDSView\"},{\"attributes\":{\"data\":{\"model\":[\"Random forest\",\"Elastic net\",\"Random forest\",\"Elastic net\"],\"spark_improvement\":{\"__ndarray__\":\"GCNx6uIg/z/BBa1OjPcGwDOr9qZGUIhAY82i2FybQ0A=\",\"dtype\":\"float64\",\"order\":\"little\",\"shape\":[4]},\"tool\":[\"Scikit\",\"Scikit\",\"Rapids\",\"Dask\"],\"xoffsets\":[[\"Random forest\",\"Scikit\"],[\"Elastic net\",\"Scikit\"],[\"Random forest\",\"Rapids\"],[\"Elastic net\",\"Dask\"]]},\"selected\":{\"id\":\"16746\"},\"selection_policy\":{\"id\":\"16763\"}},\"id\":\"16745\",\"type\":\"ColumnDataSource\"},{\"attributes\":{},\"id\":\"16733\",\"type\":\"WheelZoomTool\"},{\"attributes\":{},\"id\":\"16763\",\"type\":\"UnionRenderers\"},{\"attributes\":{\"factors\":[[\"Random forest\",\"Dask\"],[\"Random forest\",\"Rapids\"],[\"Random forest\",\"Scikit\"],[\"Elastic net\",\"Dask\"],[\"Elastic net\",\"Rapids\"],[\"Elastic net\",\"Scikit\"]],\"tags\":[[[\"model\",\"model\",null],[\"tool\",\"tool\",null]]]},\"id\":\"16713\",\"type\":\"FactorRange\"},{\"attributes\":{\"overlay\":{\"id\":\"16736\"}},\"id\":\"16734\",\"type\":\"BoxZoomTool\"},{\"attributes\":{\"fill_alpha\":{\"value\":0.1},\"fill_color\":{\"field\":\"tool\",\"transform\":{\"id\":\"16744\"}},\"height\":{\"value\":0.8},\"line_alpha\":{\"value\":0.1},\"right\":{\"field\":\"spark_improvement\"},\"y\":{\"field\":\"xoffsets\"}},\"id\":\"16749\",\"type\":\"HBar\"},{\"attributes\":{\"text\":\"Speed increase versus Spark\",\"text_color\":{\"value\":\"black\"},\"text_font_size\":{\"value\":\"200%\"}},\"id\":\"16716\",\"type\":\"Title\"},{\"attributes\":{},\"id\":\"16722\",\"type\":\"CategoricalScale\"},{\"attributes\":{},\"id\":\"16755\",\"type\":\"CategoricalTickFormatter\"},{\"attributes\":{\"callback\":null,\"renderers\":[{\"id\":\"16751\"}],\"tags\":[\"hv_created\"],\"tooltips\":[[\"model\",\"@{model}\"],[\"tool\",\"@{tool}\"],[\"spark_improvement\",\"@{spark_improvement}\"]]},\"id\":\"16714\",\"type\":\"HoverTool\"},{\"attributes\":{\"margin\":[5,5,5,5],\"name\":\"HSpacer38440\",\"sizing_mode\":\"stretch_width\"},\"id\":\"16773\",\"type\":\"Spacer\"},{\"attributes\":{},\"id\":\"16725\",\"type\":\"BasicTicker\"},{\"attributes\":{},\"id\":\"16729\",\"type\":\"CategoricalTicker\"},{\"attributes\":{\"axis_label\":\"Speed vs. Spark (higher is better)\",\"axis_label_text_font_size\":\"120%\",\"bounds\":\"auto\",\"formatter\":{\"id\":\"16753\"},\"major_label_orientation\":\"horizontal\",\"major_label_text_font_size\":\"130%\",\"ticker\":{\"id\":\"16725\"}},\"id\":\"16724\",\"type\":\"LinearAxis\"},{\"attributes\":{\"axis\":{\"id\":\"16728\"},\"dimension\":1,\"grid_line_color\":null,\"ticker\":null},\"id\":\"16730\",\"type\":\"Grid\"},{\"attributes\":{\"axis\":{\"id\":\"16724\"},\"grid_line_color\":null,\"ticker\":null},\"id\":\"16727\",\"type\":\"Grid\"},{\"attributes\":{},\"id\":\"16732\",\"type\":\"PanTool\"},{\"attributes\":{},\"id\":\"16735\",\"type\":\"ResetTool\"},{\"attributes\":{},\"id\":\"16746\",\"type\":\"Selection\"},{\"attributes\":{},\"id\":\"16753\",\"type\":\"BasicTickFormatter\"},{\"attributes\":{\"data_source\":{\"id\":\"16745\"},\"glyph\":{\"id\":\"16748\"},\"hover_glyph\":null,\"muted_glyph\":{\"id\":\"16750\"},\"nonselection_glyph\":{\"id\":\"16749\"},\"selection_glyph\":null,\"view\":{\"id\":\"16752\"}},\"id\":\"16751\",\"type\":\"GlyphRenderer\"},{\"attributes\":{},\"id\":\"16720\",\"type\":\"LinearScale\"},{\"attributes\":{\"fill_color\":{\"field\":\"tool\",\"transform\":{\"id\":\"16744\"}},\"height\":{\"value\":0.8},\"right\":{\"field\":\"spark_improvement\"},\"y\":{\"field\":\"xoffsets\"}},\"id\":\"16748\",\"type\":\"HBar\"},{\"attributes\":{\"margin\":[5,5,5,5],\"name\":\"HSpacer38439\",\"sizing_mode\":\"stretch_width\"},\"id\":\"16711\",\"type\":\"Spacer\"}],\"root_ids\":[\"16710\"]},\"title\":\"Bokeh Application\",\"version\":\"2.1.1\"}};\n",
       "  var render_items = [{\"docid\":\"39d9e4fe-195e-45af-9114-b6b09a19d6cc\",\"root_ids\":[\"16710\"],\"roots\":{\"16710\":\"860fa2cc-aab4-46d2-ba0b-9ab30fef1f99\"}}];\n",
       "  root.Bokeh.embed.embed_items_notebook(docs_json, render_items);\n",
       "  }\n",
       "if (root.Bokeh !== undefined) {\n",
       "    embed_document(root);\n",
       "  } else {\n",
       "    var attempts = 0;\n",
       "    var timer = setInterval(function(root) {\n",
       "      if (root.Bokeh !== undefined) {\n",
       "        clearInterval(timer);\n",
       "        embed_document(root);\n",
       "      } else if (document.readyState == \"complete\") {\n",
       "        attempts++;\n",
       "        if (attempts > 100) {\n",
       "          clearInterval(timer);\n",
       "          console.log(\"Bokeh: ERROR: Unable to run BokehJS code because BokehJS library is missing\");\n",
       "        }\n",
       "      }\n",
       "    }, 10, root)\n",
       "  }\n",
       "})(window);</script>"
      ],
      "text/plain": [
       ":Bars   [model,tool]   (spark_improvement)"
      ]
     },
     "execution_count": 227,
     "metadata": {
      "application/vnd.holoviews_exec.v0+json": {
       "id": "16710"
      }
     },
     "output_type": "execute_result"
    }
   ],
   "source": [
    "by_spark = metrics[(metrics.tool != 'Spark') & (metrics.spark_improvement.notnull())].copy()\n",
    "by_spark['tool'] = by_spark.tool.cat.remove_unused_categories()\n",
    "\n",
    "by_spark.hvplot.barh(\n",
    "    x='model',\n",
    "    by='tool',\n",
    "    cmap=['gray', 'lightgreen', 'lightblue'],\n",
    "    height=400,\n",
    "    y='spark_improvement',\n",
    "    xlabel='',\n",
    "    ylabel='Speed vs. Spark (higher is better)',\n",
    "    title='Speed increase versus Spark'\n",
    ").opts(fontsize={'labels': '120%', 'ticks': '130%', 'title': '200%'})"
   ]
  },
  {
   "cell_type": "markdown",
   "metadata": {},
   "source": [
    "**Not run**: RAPIDS elastic net, Dask random forest"
   ]
  },
  {
   "cell_type": "code",
   "execution_count": 228,
   "metadata": {
    "jupyter": {
     "source_hidden": true
    }
   },
   "outputs": [
    {
     "data": {
      "text/html": [
       "<div>\n",
       "<style scoped>\n",
       "    .dataframe tbody tr th:only-of-type {\n",
       "        vertical-align: middle;\n",
       "    }\n",
       "\n",
       "    .dataframe tbody tr th {\n",
       "        vertical-align: top;\n",
       "    }\n",
       "\n",
       "    .dataframe thead th {\n",
       "        text-align: right;\n",
       "    }\n",
       "</style>\n",
       "<table border=\"1\" class=\"dataframe\">\n",
       "  <thead>\n",
       "    <tr style=\"text-align: right;\">\n",
       "      <th></th>\n",
       "      <th>tool</th>\n",
       "      <th>model</th>\n",
       "      <th>spark_improvement</th>\n",
       "    </tr>\n",
       "  </thead>\n",
       "  <tbody>\n",
       "    <tr>\n",
       "      <th>1</th>\n",
       "      <td>Scikit</td>\n",
       "      <td>Random forest</td>\n",
       "      <td>2.0</td>\n",
       "    </tr>\n",
       "    <tr>\n",
       "      <th>0</th>\n",
       "      <td>Rapids</td>\n",
       "      <td>Random forest</td>\n",
       "      <td>778.0</td>\n",
       "    </tr>\n",
       "    <tr>\n",
       "      <th>5</th>\n",
       "      <td>Scikit</td>\n",
       "      <td>Elastic net</td>\n",
       "      <td>-3.0</td>\n",
       "    </tr>\n",
       "    <tr>\n",
       "      <th>3</th>\n",
       "      <td>Dask</td>\n",
       "      <td>Elastic net</td>\n",
       "      <td>39.0</td>\n",
       "    </tr>\n",
       "  </tbody>\n",
       "</table>\n",
       "</div>"
      ],
      "text/plain": [
       "     tool          model  spark_improvement\n",
       "1  Scikit  Random forest                2.0\n",
       "0  Rapids  Random forest              778.0\n",
       "5  Scikit    Elastic net               -3.0\n",
       "3    Dask    Elastic net               39.0"
      ]
     },
     "execution_count": 228,
     "metadata": {},
     "output_type": "execute_result"
    }
   ],
   "source": [
    "np.round(by_spark[['tool', 'model', 'spark_improvement']])"
   ]
  },
  {
   "cell_type": "markdown",
   "metadata": {},
   "source": [
    "## Full results"
   ]
  },
  {
   "cell_type": "code",
   "execution_count": 135,
   "metadata": {
    "jupyter": {
     "source_hidden": true
    }
   },
   "outputs": [
    {
     "data": {
      "text/html": [
       "<div>\n",
       "<style scoped>\n",
       "    .dataframe tbody tr th:only-of-type {\n",
       "        vertical-align: middle;\n",
       "    }\n",
       "\n",
       "    .dataframe tbody tr th {\n",
       "        vertical-align: top;\n",
       "    }\n",
       "\n",
       "    .dataframe thead th {\n",
       "        text-align: right;\n",
       "    }\n",
       "</style>\n",
       "<table border=\"1\" class=\"dataframe\">\n",
       "  <thead>\n",
       "    <tr style=\"text-align: right;\">\n",
       "      <th></th>\n",
       "      <th>ml_task</th>\n",
       "      <th>tool</th>\n",
       "      <th>model</th>\n",
       "      <th>metric</th>\n",
       "      <th>value</th>\n",
       "      <th>fit_seconds</th>\n",
       "      <th>fit_minutes</th>\n",
       "      <th>fit_seconds_scikit</th>\n",
       "      <th>fit_minutes_scikit</th>\n",
       "      <th>scikit_improvement</th>\n",
       "      <th>fit_seconds_spark</th>\n",
       "      <th>fit_minutes_spark</th>\n",
       "      <th>fit_seconds_scikit_spark</th>\n",
       "      <th>fit_minutes_scikit_spark</th>\n",
       "      <th>spark_improvement</th>\n",
       "    </tr>\n",
       "  </thead>\n",
       "  <tbody>\n",
       "    <tr>\n",
       "      <th>1</th>\n",
       "      <td>High tip</td>\n",
       "      <td>Scikit</td>\n",
       "      <td>Random forest</td>\n",
       "      <td>Auc</td>\n",
       "      <td>0.558524</td>\n",
       "      <td>574.561481</td>\n",
       "      <td>9.576025</td>\n",
       "      <td>574.561481</td>\n",
       "      <td>9.576025</td>\n",
       "      <td>1.000000</td>\n",
       "      <td>1117.825969</td>\n",
       "      <td>18.630433</td>\n",
       "      <td>574.561481</td>\n",
       "      <td>9.576025</td>\n",
       "      <td>1.945529</td>\n",
       "    </tr>\n",
       "    <tr>\n",
       "      <th>2</th>\n",
       "      <td>High tip</td>\n",
       "      <td>Spark</td>\n",
       "      <td>Random forest</td>\n",
       "      <td>Auc</td>\n",
       "      <td>0.536425</td>\n",
       "      <td>1117.825969</td>\n",
       "      <td>18.630433</td>\n",
       "      <td>574.561481</td>\n",
       "      <td>9.576025</td>\n",
       "      <td>-1.945529</td>\n",
       "      <td>1117.825969</td>\n",
       "      <td>18.630433</td>\n",
       "      <td>574.561481</td>\n",
       "      <td>9.576025</td>\n",
       "      <td>1.000000</td>\n",
       "    </tr>\n",
       "    <tr>\n",
       "      <th>0</th>\n",
       "      <td>High tip</td>\n",
       "      <td>Rapids</td>\n",
       "      <td>Random forest</td>\n",
       "      <td>Auc</td>\n",
       "      <td>0.504997</td>\n",
       "      <td>1.436731</td>\n",
       "      <td>0.023946</td>\n",
       "      <td>574.561481</td>\n",
       "      <td>9.576025</td>\n",
       "      <td>399.908990</td>\n",
       "      <td>1117.825969</td>\n",
       "      <td>18.630433</td>\n",
       "      <td>574.561481</td>\n",
       "      <td>9.576025</td>\n",
       "      <td>778.034498</td>\n",
       "    </tr>\n",
       "    <tr>\n",
       "      <th>5</th>\n",
       "      <td>Tip</td>\n",
       "      <td>Scikit</td>\n",
       "      <td>Elastic net</td>\n",
       "      <td>Rmse</td>\n",
       "      <td>0.207689</td>\n",
       "      <td>8226.132331</td>\n",
       "      <td>137.102206</td>\n",
       "      <td>8226.132331</td>\n",
       "      <td>137.102206</td>\n",
       "      <td>1.000000</td>\n",
       "      <td>2865.376522</td>\n",
       "      <td>47.756275</td>\n",
       "      <td>8226.132331</td>\n",
       "      <td>137.102206</td>\n",
       "      <td>-2.870873</td>\n",
       "    </tr>\n",
       "    <tr>\n",
       "      <th>7</th>\n",
       "      <td>Tip</td>\n",
       "      <td>Spark</td>\n",
       "      <td>Elastic net</td>\n",
       "      <td>Rmse</td>\n",
       "      <td>0.207875</td>\n",
       "      <td>2865.376522</td>\n",
       "      <td>47.756275</td>\n",
       "      <td>8226.132331</td>\n",
       "      <td>137.102206</td>\n",
       "      <td>2.870873</td>\n",
       "      <td>2865.376522</td>\n",
       "      <td>47.756275</td>\n",
       "      <td>8226.132331</td>\n",
       "      <td>137.102206</td>\n",
       "      <td>1.000000</td>\n",
       "    </tr>\n",
       "    <tr>\n",
       "      <th>3</th>\n",
       "      <td>Tip</td>\n",
       "      <td>Dask</td>\n",
       "      <td>Elastic net</td>\n",
       "      <td>Rmse</td>\n",
       "      <td>0.207601</td>\n",
       "      <td>73.070670</td>\n",
       "      <td>1.217845</td>\n",
       "      <td>8226.132331</td>\n",
       "      <td>137.102206</td>\n",
       "      <td>112.577760</td>\n",
       "      <td>2865.376522</td>\n",
       "      <td>47.756275</td>\n",
       "      <td>8226.132331</td>\n",
       "      <td>137.102206</td>\n",
       "      <td>39.213771</td>\n",
       "    </tr>\n",
       "    <tr>\n",
       "      <th>6</th>\n",
       "      <td>Tip</td>\n",
       "      <td>Scikit</td>\n",
       "      <td>Xgboost</td>\n",
       "      <td>Rmse</td>\n",
       "      <td>0.206786</td>\n",
       "      <td>9851.059192</td>\n",
       "      <td>164.184320</td>\n",
       "      <td>9851.059192</td>\n",
       "      <td>164.184320</td>\n",
       "      <td>1.000000</td>\n",
       "      <td>NaN</td>\n",
       "      <td>NaN</td>\n",
       "      <td>NaN</td>\n",
       "      <td>NaN</td>\n",
       "      <td>NaN</td>\n",
       "    </tr>\n",
       "    <tr>\n",
       "      <th>4</th>\n",
       "      <td>Tip</td>\n",
       "      <td>Dask</td>\n",
       "      <td>Xgboost</td>\n",
       "      <td>Rmse</td>\n",
       "      <td>0.206804</td>\n",
       "      <td>587.826430</td>\n",
       "      <td>9.797107</td>\n",
       "      <td>9851.059192</td>\n",
       "      <td>164.184320</td>\n",
       "      <td>16.758449</td>\n",
       "      <td>NaN</td>\n",
       "      <td>NaN</td>\n",
       "      <td>NaN</td>\n",
       "      <td>NaN</td>\n",
       "      <td>NaN</td>\n",
       "    </tr>\n",
       "  </tbody>\n",
       "</table>\n",
       "</div>"
      ],
      "text/plain": [
       "    ml_task    tool          model metric     value  fit_seconds  fit_minutes  \\\n",
       "1  High tip  Scikit  Random forest    Auc  0.558524   574.561481     9.576025   \n",
       "2  High tip   Spark  Random forest    Auc  0.536425  1117.825969    18.630433   \n",
       "0  High tip  Rapids  Random forest    Auc  0.504997     1.436731     0.023946   \n",
       "5       Tip  Scikit    Elastic net   Rmse  0.207689  8226.132331   137.102206   \n",
       "7       Tip   Spark    Elastic net   Rmse  0.207875  2865.376522    47.756275   \n",
       "3       Tip    Dask    Elastic net   Rmse  0.207601    73.070670     1.217845   \n",
       "6       Tip  Scikit        Xgboost   Rmse  0.206786  9851.059192   164.184320   \n",
       "4       Tip    Dask        Xgboost   Rmse  0.206804   587.826430     9.797107   \n",
       "\n",
       "   fit_seconds_scikit  fit_minutes_scikit  scikit_improvement  \\\n",
       "1          574.561481            9.576025            1.000000   \n",
       "2          574.561481            9.576025           -1.945529   \n",
       "0          574.561481            9.576025          399.908990   \n",
       "5         8226.132331          137.102206            1.000000   \n",
       "7         8226.132331          137.102206            2.870873   \n",
       "3         8226.132331          137.102206          112.577760   \n",
       "6         9851.059192          164.184320            1.000000   \n",
       "4         9851.059192          164.184320           16.758449   \n",
       "\n",
       "   fit_seconds_spark  fit_minutes_spark  fit_seconds_scikit_spark  \\\n",
       "1        1117.825969          18.630433                574.561481   \n",
       "2        1117.825969          18.630433                574.561481   \n",
       "0        1117.825969          18.630433                574.561481   \n",
       "5        2865.376522          47.756275               8226.132331   \n",
       "7        2865.376522          47.756275               8226.132331   \n",
       "3        2865.376522          47.756275               8226.132331   \n",
       "6                NaN                NaN                       NaN   \n",
       "4                NaN                NaN                       NaN   \n",
       "\n",
       "   fit_minutes_scikit_spark  spark_improvement  \n",
       "1                  9.576025           1.945529  \n",
       "2                  9.576025           1.000000  \n",
       "0                  9.576025         778.034498  \n",
       "5                137.102206          -2.870873  \n",
       "7                137.102206           1.000000  \n",
       "3                137.102206          39.213771  \n",
       "6                       NaN                NaN  \n",
       "4                       NaN                NaN  "
      ]
     },
     "execution_count": 135,
     "metadata": {},
     "output_type": "execute_result"
    }
   ],
   "source": [
    "metrics"
   ]
  }
 ],
 "metadata": {
  "kernelspec": {
   "display_name": "Python 3",
   "language": "python",
   "name": "python3"
  },
  "language_info": {
   "codemirror_mode": {
    "name": "ipython",
    "version": 3
   },
   "file_extension": ".py",
   "mimetype": "text/x-python",
   "name": "python",
   "nbconvert_exporter": "python",
   "pygments_lexer": "ipython3",
   "version": "3.7.7"
  }
 },
 "nbformat": 4,
 "nbformat_minor": 4
}
