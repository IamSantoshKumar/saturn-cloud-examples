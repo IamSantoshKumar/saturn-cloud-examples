{
 "cells": [
  {
   "cell_type": "markdown",
   "metadata": {},
   "source": [
    "# Hyperparameter tuning\n",
    "\n",
    "## Spark\n",
    "\n",
    "<img src=\"https://upload.wikimedia.org/wikipedia/commons/thumb/f/f3/Apache_Spark_logo.svg/1280px-Apache_Spark_logo.svg.png\" width=\"400\">\n",
    "\n",
    "**Hardware**: 10 nodes - r5.8xlarge (32 CPU, 256GB RAM)"
   ]
  },
  {
   "cell_type": "code",
   "execution_count": 2,
   "metadata": {},
   "outputs": [],
   "source": [
    "import os\n",
    "os.environ['TAXI_S3'] = 's3://saturn-titan/nyc-taxi'"
   ]
  },
  {
   "cell_type": "code",
   "execution_count": 3,
   "metadata": {},
   "outputs": [],
   "source": [
    "from ml_utils import MLUtils\n",
    "\n",
    "ml_utils = MLUtils(\n",
    "    ml_task='tip',\n",
    "    tool='spark',\n",
    "    model='elastic_net',\n",
    ")"
   ]
  },
  {
   "cell_type": "markdown",
   "metadata": {},
   "source": [
    "# Load data and feature engineering"
   ]
  },
  {
   "cell_type": "code",
   "execution_count": 4,
   "metadata": {},
   "outputs": [],
   "source": [
    "import numpy as np\n",
    "import datetime\n",
    "import findspark\n",
    "findspark.init()\n",
    "\n",
    "from pyspark.sql import SparkSession\n",
    "import pyspark.sql.functions as F\n",
    "import pyspark.sql.types as T\n",
    "\n",
    "\n",
    "spark = SparkSession.builder.getOrCreate()"
   ]
  },
  {
   "cell_type": "code",
   "execution_count": 5,
   "metadata": {},
   "outputs": [
    {
     "name": "stdout",
     "output_type": "stream",
     "text": [
      "CPU times: user 0 ns, sys: 3.55 ms, total: 3.55 ms\n",
      "Wall time: 10.4 s\n"
     ]
    },
    {
     "data": {
      "text/plain": [
       "10994502"
      ]
     },
     "execution_count": 5,
     "metadata": {},
     "output_type": "execute_result"
    }
   ],
   "source": [
    "%%time\n",
    "tip_train = spark.read.parquet(f'{ml_utils.taxi_path}/data/ml/tip_train_sample')\n",
    "tip_train.count()"
   ]
  },
  {
   "cell_type": "code",
   "execution_count": 6,
   "metadata": {},
   "outputs": [
    {
     "data": {
      "text/plain": [
       "Row(id='326fdd4d9a1843488a38d16a3bb6278b', pickup_datetime=datetime.datetime(2016, 7, 16, 18, 24, 40), dropoff_datetime=datetime.datetime(2016, 7, 16, 18, 49, 56), pickup_taxizone_id=237.0, dropoff_taxizone_id=249.0, pickup_weekday=5, pickup_weekofyear=28, pickup_hour=18, pickup_minute=24, pickup_week_hour=138, passenger_count=1.0, tip_fraction=0.11428571428571428)"
      ]
     },
     "execution_count": 6,
     "metadata": {},
     "output_type": "execute_result"
    }
   ],
   "source": [
    "tip_train.head()"
   ]
  },
  {
   "cell_type": "markdown",
   "metadata": {},
   "source": [
    "<br>\n",
    "\n",
    "Let's take the same sample we used in the single node scikit example"
   ]
  },
  {
   "cell_type": "code",
   "execution_count": 7,
   "metadata": {},
   "outputs": [
    {
     "data": {
      "text/plain": [
       "1097989"
      ]
     },
     "execution_count": 7,
     "metadata": {},
     "output_type": "execute_result"
    }
   ],
   "source": [
    "sample = tip_train.sample(fraction=0.1, withReplacement=False, seed=42)\n",
    "sample.count()"
   ]
  },
  {
   "cell_type": "markdown",
   "metadata": {},
   "source": [
    "# Run grid search"
   ]
  },
  {
   "cell_type": "code",
   "execution_count": 8,
   "metadata": {},
   "outputs": [],
   "source": [
    "from pyspark.ml.regression import LinearRegression\n",
    "from pyspark.ml.tuning import CrossValidator, ParamGridBuilder\n",
    "from pyspark.ml.evaluation import RegressionEvaluator\n",
    "from pyspark.ml.feature import OneHotEncoder, StringIndexer, VectorAssembler, StandardScaler\n",
    "from pyspark.ml.pipeline import Pipeline\n",
    "\n",
    "features = ml_utils.tip_vars.features\n",
    "y_col = ml_utils.tip_vars.y_col\n",
    "\n",
    "indexers = [\n",
    "    StringIndexer(\n",
    "    inputCol=c, \n",
    "    outputCol=f'{c}_idx', handleInvalid='keep')\n",
    "    for c in ml_utils.tip_vars.categorical_feat\n",
    "]\n",
    "encoders = [\n",
    "    OneHotEncoder(\n",
    "        inputCol=f'{c}_idx',\n",
    "        outputCol=f'{c}_onehot',\n",
    "    ) \n",
    "    for c in ml_utils.tip_vars.categorical_feat\n",
    "]\n",
    "num_assembler = VectorAssembler(\n",
    "    inputCols=ml_utils.tip_vars.numeric_feat,\n",
    "    outputCol='num_features',\n",
    ")\n",
    "scaler = StandardScaler(inputCol='num_features', outputCol='num_features_scaled')\n",
    "\n",
    "assembler = VectorAssembler(\n",
    "    inputCols=[f'{c}_onehot' for c in ml_utils.tip_vars.categorical_feat] + ['num_features_scaled'],\n",
    "    outputCol='features',\n",
    ")\n",
    "\n",
    "lr = LinearRegression(standardization=False, maxIter=100)\n",
    "pipeline = Pipeline(\n",
    "    stages=indexers + encoders + [num_assembler, scaler, assembler, lr])\n",
    "\n",
    "params = ml_utils.tip_vars.elastic_net_grid_search_params\n",
    "grid = (\n",
    "    ParamGridBuilder()\n",
    "    .addGrid(lr.elasticNetParam, params['clf__l1_ratio'])\n",
    "    .addGrid(lr.regParam, params['clf__alpha'])\n",
    "    .build()\n",
    ")\n",
    "\n",
    "crossval = CrossValidator(estimator=pipeline,\n",
    "                          estimatorParamMaps=grid,\n",
    "                          evaluator=RegressionEvaluator(),\n",
    "                          numFolds=3)"
   ]
  },
  {
   "cell_type": "code",
   "execution_count": 9,
   "metadata": {},
   "outputs": [
    {
     "data": {
      "text/plain": [
       "DataFrame[id: string, pickup_datetime: timestamp, dropoff_datetime: timestamp, pickup_taxizone_id: double, dropoff_taxizone_id: double, pickup_weekday: bigint, pickup_weekofyear: bigint, pickup_hour: bigint, pickup_minute: bigint, pickup_week_hour: bigint, passenger_count: double, tip_fraction: double, label: double]"
      ]
     },
     "execution_count": 9,
     "metadata": {},
     "output_type": "execute_result"
    }
   ],
   "source": [
    "sample = sample.withColumn('label', sample[y_col])\n",
    "sample.cache()"
   ]
  },
  {
   "cell_type": "code",
   "execution_count": 10,
   "metadata": {},
   "outputs": [
    {
     "name": "stdout",
     "output_type": "stream",
     "text": [
      "CPU times: user 1min 47s, sys: 27.5 s, total: 2min 14s\n",
      "Wall time: 47min 45s\n"
     ]
    }
   ],
   "source": [
    "%%time\n",
    "with ml_utils.time_fit():\n",
    "    fitted = crossval.fit(sample)"
   ]
  },
  {
   "cell_type": "code",
   "execution_count": 11,
   "metadata": {},
   "outputs": [
    {
     "name": "stdout",
     "output_type": "stream",
     "text": [
      "regParam: 0.0\n",
      "elasticNetParam: 0.28\n"
     ]
    }
   ],
   "source": [
    "print(f'regParam: {fitted.bestModel.stages[-1]._java_obj.getRegParam()}')\n",
    "print(f'elasticNetParam: {fitted.bestModel.stages[-1]._java_obj.getElasticNetParam()}')"
   ]
  },
  {
   "cell_type": "markdown",
   "metadata": {},
   "source": [
    "## Predict on test set"
   ]
  },
  {
   "cell_type": "code",
   "execution_count": 12,
   "metadata": {},
   "outputs": [],
   "source": [
    "tip_test = spark.read.parquet(f'{ml_utils.taxi_path}/data/ml/tip_test')\n",
    "preds = fitted.transform(tip_test)"
   ]
  },
  {
   "cell_type": "code",
   "execution_count": 13,
   "metadata": {},
   "outputs": [
    {
     "data": {
      "text/plain": [
       "Row(id='2e8f402e4dc44f2fae8b9328a237c4d2', pickup_datetime=datetime.datetime(2019, 9, 9, 10, 19, 44), dropoff_datetime=datetime.datetime(2019, 9, 9, 10, 31, 26), pickup_taxizone_id=162.0, dropoff_taxizone_id=170.0, pickup_weekday=0, pickup_weekofyear=37, pickup_hour=10, pickup_minute=19, pickup_week_hour=10, passenger_count=1.0, tip_fraction=0.11764705882352941, pickup_taxizone_id_idx=3.0, dropoff_taxizone_id_idx=3.0, pickup_taxizone_id_onehot=SparseVector(251, {3: 1.0}), dropoff_taxizone_id_onehot=SparseVector(260, {3: 1.0}), num_features=DenseVector([0.0, 37.0, 10.0, 10.0, 19.0, 1.0]), num_features_scaled=DenseVector([0.0, 2.461, 1.5953, 0.2167, 1.0965, 0.8007]), features=SparseVector(517, {3: 1.0, 254: 1.0, 512: 2.461, 513: 1.5953, 514: 0.2167, 515: 1.0965, 516: 0.8007}), prediction=0.2241735993441916)"
      ]
     },
     "execution_count": 13,
     "metadata": {},
     "output_type": "execute_result"
    }
   ],
   "source": [
    "preds.head()"
   ]
  },
  {
   "cell_type": "code",
   "execution_count": 14,
   "metadata": {},
   "outputs": [
    {
     "data": {
      "text/plain": [
       "'s3://saturn-titan/nyc-taxi/ml_results/predictions/tip__spark__elastic_net'"
      ]
     },
     "execution_count": 14,
     "metadata": {},
     "output_type": "execute_result"
    }
   ],
   "source": [
    "path = f'{ml_utils.taxi_path}/ml_results/predictions/{ml_utils.ml_task}__{ml_utils.tool}__{ml_utils.model}'\n",
    "path"
   ]
  },
  {
   "cell_type": "code",
   "execution_count": 15,
   "metadata": {},
   "outputs": [
    {
     "name": "stdout",
     "output_type": "stream",
     "text": [
      "+--------------------+-------------------+-------------------+\n",
      "|                  id|             actual|          predicted|\n",
      "+--------------------+-------------------+-------------------+\n",
      "|2e8f402e4dc44f2fa...|0.11764705882352941| 0.2241735993441916|\n",
      "|5f067a4121244f42b...| 0.2168421052631579| 0.2263182368770626|\n",
      "|60e8442d3d434df49...|               0.15|0.22355489078050717|\n",
      "|2d1537ce2ed347778...|            0.10625|0.22432047622562074|\n",
      "|13bb8a9ecbd04b559...|                0.0|0.21425493006033125|\n",
      "+--------------------+-------------------+-------------------+\n",
      "only showing top 5 rows\n",
      "\n"
     ]
    }
   ],
   "source": [
    "(preds\n",
    " .select(preds.id, preds[y_col].alias('actual'), preds.prediction.alias('predicted'))\n",
    " .show(5))"
   ]
  },
  {
   "cell_type": "code",
   "execution_count": 16,
   "metadata": {},
   "outputs": [
    {
     "name": "stdout",
     "output_type": "stream",
     "text": [
      "CPU times: user 1.88 ms, sys: 4.85 ms, total: 6.73 ms\n",
      "Wall time: 6.44 s\n"
     ]
    }
   ],
   "source": [
    "%%time\n",
    "(preds\n",
    " .select(preds.id, preds[y_col].alias('actual'), preds.prediction.alias('predicted'))\n",
    " .write.parquet(path, mode='overwrite')\n",
    ")"
   ]
  },
  {
   "cell_type": "code",
   "execution_count": 17,
   "metadata": {},
   "outputs": [
    {
     "data": {
      "text/html": [
       "<div>\n",
       "<style scoped>\n",
       "    .dataframe tbody tr th:only-of-type {\n",
       "        vertical-align: middle;\n",
       "    }\n",
       "\n",
       "    .dataframe tbody tr th {\n",
       "        vertical-align: top;\n",
       "    }\n",
       "\n",
       "    .dataframe thead th {\n",
       "        text-align: right;\n",
       "    }\n",
       "</style>\n",
       "<table border=\"1\" class=\"dataframe\">\n",
       "  <thead>\n",
       "    <tr style=\"text-align: right;\">\n",
       "      <th></th>\n",
       "      <th>ml_task</th>\n",
       "      <th>tool</th>\n",
       "      <th>model</th>\n",
       "      <th>metric</th>\n",
       "      <th>value</th>\n",
       "      <th>fit_seconds</th>\n",
       "    </tr>\n",
       "  </thead>\n",
       "  <tbody>\n",
       "    <tr>\n",
       "      <th>0</th>\n",
       "      <td>tip</td>\n",
       "      <td>spark</td>\n",
       "      <td>elastic_net</td>\n",
       "      <td>rmse</td>\n",
       "      <td>0.207875</td>\n",
       "      <td>2865.376522</td>\n",
       "    </tr>\n",
       "  </tbody>\n",
       "</table>\n",
       "</div>"
      ],
      "text/plain": [
       "  ml_task   tool        model metric     value  fit_seconds\n",
       "0     tip  spark  elastic_net   rmse  0.207875  2865.376522"
      ]
     },
     "execution_count": 17,
     "metadata": {},
     "output_type": "execute_result"
    }
   ],
   "source": [
    "evaluator = RegressionEvaluator(\n",
    "    labelCol=y_col, predictionCol=\"prediction\", metricName=\"rmse\")\n",
    "rmse = evaluator.evaluate(preds)\n",
    "ml_utils.write_metric_df('rmse', rmse)"
   ]
  }
 ],
 "metadata": {
  "kernelspec": {
   "display_name": "Python 3",
   "language": "python",
   "name": "python3"
  },
  "language_info": {
   "codemirror_mode": {
    "name": "ipython",
    "version": 3
   },
   "file_extension": ".py",
   "mimetype": "text/x-python",
   "name": "python",
   "nbconvert_exporter": "python",
   "pygments_lexer": "ipython3",
   "version": "3.7.6"
  }
 },
 "nbformat": 4,
 "nbformat_minor": 4
}
