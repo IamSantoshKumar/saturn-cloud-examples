{
 "cells": [
  {
   "cell_type": "markdown",
   "metadata": {},
   "source": [
    "# High tip classification - Random forest\n",
    "\n",
    "## Plain scikit-learn\n",
    "\n",
    "**Hardware**: r5.8xlarge (32 CPU, 256 GB RAM)"
   ]
  },
  {
   "cell_type": "code",
   "execution_count": 1,
   "metadata": {},
   "outputs": [],
   "source": [
    "from ml_utils import MLUtils\n",
    "\n",
    "ml_utils = MLUtils(\n",
    "    ml_task='high_tip',\n",
    "    tool='scikit',\n",
    "    model='random_forest',\n",
    ")"
   ]
  },
  {
   "cell_type": "markdown",
   "metadata": {},
   "source": [
    "# Load data and feature engineering"
   ]
  },
  {
   "cell_type": "code",
   "execution_count": 2,
   "metadata": {},
   "outputs": [],
   "source": [
    "import numpy as np\n",
    "import pandas as pd"
   ]
  },
  {
   "cell_type": "code",
   "execution_count": 3,
   "metadata": {},
   "outputs": [
    {
     "name": "stdout",
     "output_type": "stream",
     "text": [
      "CPU times: user 2min 7s, sys: 1min 19s, total: 3min 26s\n",
      "Wall time: 12min 11s\n"
     ]
    },
    {
     "data": {
      "text/plain": [
       "(219889897, 12)"
      ]
     },
     "execution_count": 3,
     "metadata": {},
     "output_type": "execute_result"
    }
   ],
   "source": [
    "%%time\n",
    "tip_train = ml_utils.read_parquet_dir(f'{ml_utils.taxi_path}/data/ml/tip_train')\n",
    "tip_train.shape"
   ]
  },
  {
   "cell_type": "code",
   "execution_count": 4,
   "metadata": {},
   "outputs": [
    {
     "data": {
      "text/html": [
       "<div>\n",
       "<style scoped>\n",
       "    .dataframe tbody tr th:only-of-type {\n",
       "        vertical-align: middle;\n",
       "    }\n",
       "\n",
       "    .dataframe tbody tr th {\n",
       "        vertical-align: top;\n",
       "    }\n",
       "\n",
       "    .dataframe thead th {\n",
       "        text-align: right;\n",
       "    }\n",
       "</style>\n",
       "<table border=\"1\" class=\"dataframe\">\n",
       "  <thead>\n",
       "    <tr style=\"text-align: right;\">\n",
       "      <th></th>\n",
       "      <th>id</th>\n",
       "      <th>pickup_datetime</th>\n",
       "      <th>dropoff_datetime</th>\n",
       "      <th>pickup_taxizone_id</th>\n",
       "      <th>dropoff_taxizone_id</th>\n",
       "      <th>pickup_weekday</th>\n",
       "      <th>pickup_weekofyear</th>\n",
       "      <th>pickup_hour</th>\n",
       "      <th>pickup_minute</th>\n",
       "      <th>pickup_week_hour</th>\n",
       "      <th>passenger_count</th>\n",
       "      <th>tip_fraction</th>\n",
       "    </tr>\n",
       "  </thead>\n",
       "  <tbody>\n",
       "    <tr>\n",
       "      <th>0</th>\n",
       "      <td>a2acf0e861b84476b1ba8b91f08448f4</td>\n",
       "      <td>2016-07-10 06:56:05</td>\n",
       "      <td>2016-07-10 06:59:53</td>\n",
       "      <td>263.0</td>\n",
       "      <td>236.0</td>\n",
       "      <td>6</td>\n",
       "      <td>27</td>\n",
       "      <td>6</td>\n",
       "      <td>56</td>\n",
       "      <td>150</td>\n",
       "      <td>1.0</td>\n",
       "      <td>0.600000</td>\n",
       "    </tr>\n",
       "    <tr>\n",
       "      <th>1</th>\n",
       "      <td>bac9b63e96f14ca9a4e9c236d709f5f2</td>\n",
       "      <td>2016-07-10 10:50:18</td>\n",
       "      <td>2016-07-10 10:55:21</td>\n",
       "      <td>142.0</td>\n",
       "      <td>163.0</td>\n",
       "      <td>6</td>\n",
       "      <td>27</td>\n",
       "      <td>10</td>\n",
       "      <td>50</td>\n",
       "      <td>154</td>\n",
       "      <td>5.0</td>\n",
       "      <td>0.226667</td>\n",
       "    </tr>\n",
       "    <tr>\n",
       "      <th>2</th>\n",
       "      <td>6ec52187eb4a4ab6ae3ce632030c0322</td>\n",
       "      <td>2016-07-10 10:50:18</td>\n",
       "      <td>2016-07-10 11:08:38</td>\n",
       "      <td>74.0</td>\n",
       "      <td>66.0</td>\n",
       "      <td>6</td>\n",
       "      <td>27</td>\n",
       "      <td>10</td>\n",
       "      <td>50</td>\n",
       "      <td>154</td>\n",
       "      <td>1.0</td>\n",
       "      <td>0.000000</td>\n",
       "    </tr>\n",
       "    <tr>\n",
       "      <th>3</th>\n",
       "      <td>21102720ac044762977f91b30f8857a1</td>\n",
       "      <td>2016-07-10 10:50:19</td>\n",
       "      <td>2016-07-10 10:55:38</td>\n",
       "      <td>161.0</td>\n",
       "      <td>142.0</td>\n",
       "      <td>6</td>\n",
       "      <td>27</td>\n",
       "      <td>10</td>\n",
       "      <td>50</td>\n",
       "      <td>154</td>\n",
       "      <td>1.0</td>\n",
       "      <td>0.166667</td>\n",
       "    </tr>\n",
       "    <tr>\n",
       "      <th>4</th>\n",
       "      <td>3d002b5aa2404553adc0ad79c776bf32</td>\n",
       "      <td>2016-07-10 10:50:19</td>\n",
       "      <td>2016-07-10 11:08:54</td>\n",
       "      <td>226.0</td>\n",
       "      <td>261.0</td>\n",
       "      <td>6</td>\n",
       "      <td>27</td>\n",
       "      <td>10</td>\n",
       "      <td>50</td>\n",
       "      <td>154</td>\n",
       "      <td>1.0</td>\n",
       "      <td>0.206957</td>\n",
       "    </tr>\n",
       "  </tbody>\n",
       "</table>\n",
       "</div>"
      ],
      "text/plain": [
       "                                 id     pickup_datetime    dropoff_datetime  \\\n",
       "0  a2acf0e861b84476b1ba8b91f08448f4 2016-07-10 06:56:05 2016-07-10 06:59:53   \n",
       "1  bac9b63e96f14ca9a4e9c236d709f5f2 2016-07-10 10:50:18 2016-07-10 10:55:21   \n",
       "2  6ec52187eb4a4ab6ae3ce632030c0322 2016-07-10 10:50:18 2016-07-10 11:08:38   \n",
       "3  21102720ac044762977f91b30f8857a1 2016-07-10 10:50:19 2016-07-10 10:55:38   \n",
       "4  3d002b5aa2404553adc0ad79c776bf32 2016-07-10 10:50:19 2016-07-10 11:08:54   \n",
       "\n",
       "   pickup_taxizone_id  dropoff_taxizone_id  pickup_weekday  pickup_weekofyear  \\\n",
       "0               263.0                236.0               6                 27   \n",
       "1               142.0                163.0               6                 27   \n",
       "2                74.0                 66.0               6                 27   \n",
       "3               161.0                142.0               6                 27   \n",
       "4               226.0                261.0               6                 27   \n",
       "\n",
       "   pickup_hour  pickup_minute  pickup_week_hour  passenger_count  tip_fraction  \n",
       "0            6             56               150              1.0      0.600000  \n",
       "1           10             50               154              5.0      0.226667  \n",
       "2           10             50               154              1.0      0.000000  \n",
       "3           10             50               154              1.0      0.166667  \n",
       "4           10             50               154              1.0      0.206957  "
      ]
     },
     "execution_count": 4,
     "metadata": {},
     "output_type": "execute_result"
    }
   ],
   "source": [
    "tip_train.head()"
   ]
  },
  {
   "cell_type": "markdown",
   "metadata": {},
   "source": [
    "Training with the full data ran out of memory, so let's take a sample to be able to successfully train"
   ]
  },
  {
   "cell_type": "code",
   "execution_count": 5,
   "metadata": {},
   "outputs": [
    {
     "data": {
      "text/plain": [
       "(65966969, 12)"
      ]
     },
     "execution_count": 5,
     "metadata": {},
     "output_type": "execute_result"
    }
   ],
   "source": [
    "sample = tip_train.sample(frac=0.3, replace=False, random_state=42)\n",
    "sample.shape"
   ]
  },
  {
   "cell_type": "markdown",
   "metadata": {},
   "source": [
    "# Random forest classifier\n",
    "\n",
    "We'll train a classifier than can predict \"high-tip\" rides - those where the tip percent is >25%"
   ]
  },
  {
   "cell_type": "code",
   "execution_count": 9,
   "metadata": {},
   "outputs": [],
   "source": [
    "features = ml_utils.tip_vars.features\n",
    "y_col = ml_utils.tip_vars.y_col\n",
    "y_clf = ml_utils.tip_vars.y_clf\n",
    "high_tip = ml_utils.tip_vars.high_tip\n",
    "\n",
    "sample[y_clf] = (sample[y_col] > high_tip).astype(int)"
   ]
  },
  {
   "cell_type": "code",
   "execution_count": 10,
   "metadata": {},
   "outputs": [
    {
     "data": {
      "text/plain": [
       "0    48470272\n",
       "1    17496697\n",
       "Name: high_tip, dtype: int64"
      ]
     },
     "execution_count": 10,
     "metadata": {},
     "output_type": "execute_result"
    }
   ],
   "source": [
    "sample[y_clf].value_counts()"
   ]
  },
  {
   "cell_type": "markdown",
   "metadata": {},
   "source": [
    "<br>\n",
    "\n",
    "We don't need to one-hot encode or scale because we are using tree models. We can parallelize the training across all the cores in the single node using `n_jobs=-1`"
   ]
  },
  {
   "cell_type": "code",
   "execution_count": 11,
   "metadata": {},
   "outputs": [],
   "source": [
    "from sklearn.ensemble import RandomForestClassifier\n",
    "\n",
    "rfc = RandomForestClassifier(n_estimators=100, max_depth=10, random_state=42, n_jobs=-1)"
   ]
  },
  {
   "cell_type": "code",
   "execution_count": 12,
   "metadata": {},
   "outputs": [
    {
     "name": "stdout",
     "output_type": "stream",
     "text": [
      "CPU times: user 4h 3min 4s, sys: 4min 18s, total: 4h 7min 22s\n",
      "Wall time: 9min 34s\n"
     ]
    }
   ],
   "source": [
    "%%time\n",
    "with ml_utils.time_fit():\n",
    "    _ = rfc.fit(sample[features], sample[y_clf])"
   ]
  },
  {
   "cell_type": "markdown",
   "metadata": {},
   "source": [
    "## Save model"
   ]
  },
  {
   "cell_type": "code",
   "execution_count": 13,
   "metadata": {},
   "outputs": [
    {
     "name": "stdout",
     "output_type": "stream",
     "text": [
      "uploading model to 's3://saturn-titan/nyc-taxi/ml_results/models/high_tip__scikit__random_forest.pkl'\n",
      "successfully uploaded model\n"
     ]
    }
   ],
   "source": [
    "ml_utils.write_model(rfc)"
   ]
  },
  {
   "cell_type": "markdown",
   "metadata": {},
   "source": [
    "## Predict on test set\n",
    "\n",
    "And calculate metrics. Save predictions and metrics to S3."
   ]
  },
  {
   "cell_type": "code",
   "execution_count": 14,
   "metadata": {},
   "outputs": [
    {
     "name": "stdout",
     "output_type": "stream",
     "text": [
      "CPU times: user 3min 54s, sys: 43.1 s, total: 4min 37s\n",
      "Wall time: 1min 38s\n"
     ]
    }
   ],
   "source": [
    "%%time\n",
    "\n",
    "tip_test = ml_utils.read_parquet_dir(f'{ml_utils.taxi_path}/data/ml/tip_test')\n",
    "tip_test[y_clf] = (tip_test[y_col] > high_tip).astype(int)\n",
    "\n",
    "preds = tip_test[['id', y_clf]].copy()\n",
    "preds.columns = ['id', 'actual']\n",
    "preds['predicted'] = rfc.predict_proba(tip_test[features])[:, 1]"
   ]
  },
  {
   "cell_type": "code",
   "execution_count": 15,
   "metadata": {},
   "outputs": [
    {
     "data": {
      "text/html": [
       "<div>\n",
       "<style scoped>\n",
       "    .dataframe tbody tr th:only-of-type {\n",
       "        vertical-align: middle;\n",
       "    }\n",
       "\n",
       "    .dataframe tbody tr th {\n",
       "        vertical-align: top;\n",
       "    }\n",
       "\n",
       "    .dataframe thead th {\n",
       "        text-align: right;\n",
       "    }\n",
       "</style>\n",
       "<table border=\"1\" class=\"dataframe\">\n",
       "  <thead>\n",
       "    <tr style=\"text-align: right;\">\n",
       "      <th></th>\n",
       "      <th>id</th>\n",
       "      <th>actual</th>\n",
       "      <th>predicted</th>\n",
       "    </tr>\n",
       "  </thead>\n",
       "  <tbody>\n",
       "    <tr>\n",
       "      <th>0</th>\n",
       "      <td>2e8f402e4dc44f2fae8b9328a237c4d2</td>\n",
       "      <td>0</td>\n",
       "      <td>0.212288</td>\n",
       "    </tr>\n",
       "    <tr>\n",
       "      <th>1</th>\n",
       "      <td>5f067a4121244f42bf460867c23b39c9</td>\n",
       "      <td>0</td>\n",
       "      <td>0.197804</td>\n",
       "    </tr>\n",
       "    <tr>\n",
       "      <th>2</th>\n",
       "      <td>60e8442d3d434df4959261905a279f55</td>\n",
       "      <td>0</td>\n",
       "      <td>0.209650</td>\n",
       "    </tr>\n",
       "    <tr>\n",
       "      <th>3</th>\n",
       "      <td>2d1537ce2ed347778e078eaee7eacd44</td>\n",
       "      <td>0</td>\n",
       "      <td>0.259579</td>\n",
       "    </tr>\n",
       "    <tr>\n",
       "      <th>4</th>\n",
       "      <td>13bb8a9ecbd04b559b7b9e40904026b0</td>\n",
       "      <td>0</td>\n",
       "      <td>0.253932</td>\n",
       "    </tr>\n",
       "  </tbody>\n",
       "</table>\n",
       "</div>"
      ],
      "text/plain": [
       "                                 id  actual  predicted\n",
       "0  2e8f402e4dc44f2fae8b9328a237c4d2       0   0.212288\n",
       "1  5f067a4121244f42bf460867c23b39c9       0   0.197804\n",
       "2  60e8442d3d434df4959261905a279f55       0   0.209650\n",
       "3  2d1537ce2ed347778e078eaee7eacd44       0   0.259579\n",
       "4  13bb8a9ecbd04b559b7b9e40904026b0       0   0.253932"
      ]
     },
     "execution_count": 15,
     "metadata": {},
     "output_type": "execute_result"
    }
   ],
   "source": [
    "preds.head()"
   ]
  },
  {
   "cell_type": "code",
   "execution_count": 16,
   "metadata": {},
   "outputs": [
    {
     "name": "stdout",
     "output_type": "stream",
     "text": [
      "Writing predictions to 's3://saturn-titan/nyc-taxi/ml_results/predictions/high_tip__scikit__random_forest'\n",
      "Done writing predictions\n",
      "CPU times: user 10.1 s, sys: 2.36 s, total: 12.5 s\n",
      "Wall time: 1min 17s\n"
     ]
    }
   ],
   "source": [
    "%%time\n",
    "ml_utils.write_predictions(preds)"
   ]
  },
  {
   "cell_type": "code",
   "execution_count": 17,
   "metadata": {},
   "outputs": [
    {
     "data": {
      "text/html": [
       "<div>\n",
       "<style scoped>\n",
       "    .dataframe tbody tr th:only-of-type {\n",
       "        vertical-align: middle;\n",
       "    }\n",
       "\n",
       "    .dataframe tbody tr th {\n",
       "        vertical-align: top;\n",
       "    }\n",
       "\n",
       "    .dataframe thead th {\n",
       "        text-align: right;\n",
       "    }\n",
       "</style>\n",
       "<table border=\"1\" class=\"dataframe\">\n",
       "  <thead>\n",
       "    <tr style=\"text-align: right;\">\n",
       "      <th></th>\n",
       "      <th>ml_task</th>\n",
       "      <th>tool</th>\n",
       "      <th>model</th>\n",
       "      <th>metric</th>\n",
       "      <th>value</th>\n",
       "      <th>fit_seconds</th>\n",
       "    </tr>\n",
       "  </thead>\n",
       "  <tbody>\n",
       "    <tr>\n",
       "      <th>0</th>\n",
       "      <td>high_tip</td>\n",
       "      <td>scikit</td>\n",
       "      <td>random_forest</td>\n",
       "      <td>auc</td>\n",
       "      <td>0.558524</td>\n",
       "      <td>574.561481</td>\n",
       "    </tr>\n",
       "  </tbody>\n",
       "</table>\n",
       "</div>"
      ],
      "text/plain": [
       "    ml_task    tool          model metric     value  fit_seconds\n",
       "0  high_tip  scikit  random_forest    auc  0.558524   574.561481"
      ]
     },
     "execution_count": 17,
     "metadata": {},
     "output_type": "execute_result"
    }
   ],
   "source": [
    "from sklearn.metrics import roc_auc_score\n",
    "\n",
    "auc = roc_auc_score(preds.actual, preds.predicted)\n",
    "ml_utils.write_metric_df('auc', auc)"
   ]
  }
 ],
 "metadata": {
  "kernelspec": {
   "display_name": "Python 3",
   "language": "python",
   "name": "python3"
  },
  "language_info": {
   "codemirror_mode": {
    "name": "ipython",
    "version": 3
   },
   "file_extension": ".py",
   "mimetype": "text/x-python",
   "name": "python",
   "nbconvert_exporter": "python",
   "pygments_lexer": "ipython3",
   "version": "3.7.7"
  }
 },
 "nbformat": 4,
 "nbformat_minor": 4
}
