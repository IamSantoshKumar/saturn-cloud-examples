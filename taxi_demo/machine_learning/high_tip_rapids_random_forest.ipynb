{
 "cells": [
  {
   "cell_type": "markdown",
   "metadata": {},
   "source": [
    "# High tip classification - Random forest\n",
    "\n",
    "## Dask + RAPIDS\n",
    "\n",
    " <img src=\"https://images.exxactcorp.com/CMS/landing-page/resource-center/supported-software/deep-learning/rapids/Rapids-Logo-lg.png\" width=\"400\" />\n",
    "\n",
    "**Hardware**: 20 nodes - g4dn.xlarge (4 CPU, 16GB RAM; 1 GPU, 16GB GPU RAM)"
   ]
  },
  {
   "cell_type": "code",
   "execution_count": 1,
   "metadata": {},
   "outputs": [],
   "source": [
    "from ml_utils import MLUtils\n",
    "\n",
    "ml_utils = MLUtils(\n",
    "    ml_task='high_tip',\n",
    "    tool='rapids',\n",
    "    model='random_forest',\n",
    ")"
   ]
  },
  {
   "cell_type": "markdown",
   "metadata": {},
   "source": [
    "# Load data and feature engineering"
   ]
  },
  {
   "cell_type": "code",
   "execution_count": 2,
   "metadata": {},
   "outputs": [
    {
     "name": "stdout",
     "output_type": "stream",
     "text": [
      "[2020-08-08 19:24:12] INFO - dask-saturn | Cluster is ready\n"
     ]
    },
    {
     "data": {
      "application/vnd.jupyter.widget-view+json": {
       "model_id": "7150a4d4370a499da842e190834c8381",
       "version_major": 2,
       "version_minor": 0
      },
      "text/plain": [
       "VBox(children=(HTML(value='<h2>SaturnCluster</h2>'), HBox(children=(HTML(value='\\n<div>\\n  <style scoped>\\n   …"
      ]
     },
     "metadata": {},
     "output_type": "display_data"
    }
   ],
   "source": [
    "from dask.distributed import Client, wait\n",
    "from dask import persist\n",
    "from dask_saturn import SaturnCluster\n",
    "\n",
    "cluster = SaturnCluster(n_workers=20, scheduler_size='xlarge', worker_size='g4dnxlarge')\n",
    "client = Client(cluster)\n",
    "cluster"
   ]
  },
  {
   "cell_type": "code",
   "execution_count": 3,
   "metadata": {
    "jupyter": {
     "source_hidden": true
    }
   },
   "outputs": [
    {
     "data": {
      "text/html": [
       "\n",
       "<b>GPU Dashboard links</b>\n",
       "<ul>\n",
       "<li><a href=\"https://aarondemo-jupyter-taxi-demo-gpu-dask-dask.demo.saturnenterprise.io/individual-gpu-memory\" target=\"_blank\">GPU memory</a></li>\n",
       "<li><a href=\"https://aarondemo-jupyter-taxi-demo-gpu-dask-dask.demo.saturnenterprise.io/individual-gpu-utilization\" target=\"_blank\">GPU utilization</a></li>\n",
       "</ul>\n"
      ],
      "text/plain": [
       "<IPython.core.display.HTML object>"
      ]
     },
     "metadata": {},
     "output_type": "display_data"
    }
   ],
   "source": [
    "from IPython.display import display, HTML\n",
    "\n",
    "gpu_links = f'''\n",
    "<b>GPU Dashboard links</b>\n",
    "<ul>\n",
    "<li><a href=\"{client.dashboard_link}/individual-gpu-memory\" target=\"_blank\">GPU memory</a></li>\n",
    "<li><a href=\"{client.dashboard_link}/individual-gpu-utilization\" target=\"_blank\">GPU utilization</a></li>\n",
    "</ul>\n",
    "'''\n",
    "display(HTML(gpu_links))"
   ]
  },
  {
   "cell_type": "code",
   "execution_count": 4,
   "metadata": {},
   "outputs": [],
   "source": [
    "import numpy as np\n",
    "import pandas as pd\n",
    "import dask_cudf\n",
    "import dask.dataframe as dd"
   ]
  },
  {
   "cell_type": "markdown",
   "metadata": {},
   "source": [
    "With `dask_cudf` version 0.15, will be able to do `dask_cudf.read_parquet(...)`"
   ]
  },
  {
   "cell_type": "code",
   "execution_count": 5,
   "metadata": {},
   "outputs": [
    {
     "name": "stdout",
     "output_type": "stream",
     "text": [
      "CPU times: user 1.78 s, sys: 477 ms, total: 2.26 s\n",
      "Wall time: 21.4 s\n"
     ]
    },
    {
     "data": {
      "text/plain": [
       "219889897"
      ]
     },
     "execution_count": 5,
     "metadata": {},
     "output_type": "execute_result"
    }
   ],
   "source": [
    "%%time\n",
    "tip_train = dask_cudf.from_dask_dataframe(\n",
    "    dd.read_parquet(f'{ml_utils.taxi_path}/data/ml/tip_train', engine='pyarrow'))\n",
    "len(tip_train)"
   ]
  },
  {
   "cell_type": "code",
   "execution_count": 6,
   "metadata": {},
   "outputs": [
    {
     "data": {
      "text/html": [
       "<div>\n",
       "<style scoped>\n",
       "    .dataframe tbody tr th:only-of-type {\n",
       "        vertical-align: middle;\n",
       "    }\n",
       "\n",
       "    .dataframe tbody tr th {\n",
       "        vertical-align: top;\n",
       "    }\n",
       "\n",
       "    .dataframe thead th {\n",
       "        text-align: right;\n",
       "    }\n",
       "</style>\n",
       "<table border=\"1\" class=\"dataframe\">\n",
       "  <thead>\n",
       "    <tr style=\"text-align: right;\">\n",
       "      <th></th>\n",
       "      <th>id</th>\n",
       "      <th>pickup_datetime</th>\n",
       "      <th>dropoff_datetime</th>\n",
       "      <th>pickup_taxizone_id</th>\n",
       "      <th>dropoff_taxizone_id</th>\n",
       "      <th>pickup_weekday</th>\n",
       "      <th>pickup_weekofyear</th>\n",
       "      <th>pickup_hour</th>\n",
       "      <th>pickup_minute</th>\n",
       "      <th>pickup_week_hour</th>\n",
       "      <th>passenger_count</th>\n",
       "      <th>tip_fraction</th>\n",
       "    </tr>\n",
       "  </thead>\n",
       "  <tbody>\n",
       "    <tr>\n",
       "      <th>0</th>\n",
       "      <td>a2acf0e861b84476b1ba8b91f08448f4</td>\n",
       "      <td>2016-07-10 06:56:05</td>\n",
       "      <td>2016-07-10 06:59:53</td>\n",
       "      <td>263.0</td>\n",
       "      <td>236.0</td>\n",
       "      <td>6</td>\n",
       "      <td>27</td>\n",
       "      <td>6</td>\n",
       "      <td>56</td>\n",
       "      <td>150</td>\n",
       "      <td>1.0</td>\n",
       "      <td>0.600000</td>\n",
       "    </tr>\n",
       "    <tr>\n",
       "      <th>1</th>\n",
       "      <td>bac9b63e96f14ca9a4e9c236d709f5f2</td>\n",
       "      <td>2016-07-10 10:50:18</td>\n",
       "      <td>2016-07-10 10:55:21</td>\n",
       "      <td>142.0</td>\n",
       "      <td>163.0</td>\n",
       "      <td>6</td>\n",
       "      <td>27</td>\n",
       "      <td>10</td>\n",
       "      <td>50</td>\n",
       "      <td>154</td>\n",
       "      <td>5.0</td>\n",
       "      <td>0.226667</td>\n",
       "    </tr>\n",
       "    <tr>\n",
       "      <th>2</th>\n",
       "      <td>6ec52187eb4a4ab6ae3ce632030c0322</td>\n",
       "      <td>2016-07-10 10:50:18</td>\n",
       "      <td>2016-07-10 11:08:38</td>\n",
       "      <td>74.0</td>\n",
       "      <td>66.0</td>\n",
       "      <td>6</td>\n",
       "      <td>27</td>\n",
       "      <td>10</td>\n",
       "      <td>50</td>\n",
       "      <td>154</td>\n",
       "      <td>1.0</td>\n",
       "      <td>0.000000</td>\n",
       "    </tr>\n",
       "    <tr>\n",
       "      <th>3</th>\n",
       "      <td>21102720ac044762977f91b30f8857a1</td>\n",
       "      <td>2016-07-10 10:50:19</td>\n",
       "      <td>2016-07-10 10:55:38</td>\n",
       "      <td>161.0</td>\n",
       "      <td>142.0</td>\n",
       "      <td>6</td>\n",
       "      <td>27</td>\n",
       "      <td>10</td>\n",
       "      <td>50</td>\n",
       "      <td>154</td>\n",
       "      <td>1.0</td>\n",
       "      <td>0.166667</td>\n",
       "    </tr>\n",
       "    <tr>\n",
       "      <th>4</th>\n",
       "      <td>3d002b5aa2404553adc0ad79c776bf32</td>\n",
       "      <td>2016-07-10 10:50:19</td>\n",
       "      <td>2016-07-10 11:08:54</td>\n",
       "      <td>226.0</td>\n",
       "      <td>261.0</td>\n",
       "      <td>6</td>\n",
       "      <td>27</td>\n",
       "      <td>10</td>\n",
       "      <td>50</td>\n",
       "      <td>154</td>\n",
       "      <td>1.0</td>\n",
       "      <td>0.206957</td>\n",
       "    </tr>\n",
       "  </tbody>\n",
       "</table>\n",
       "</div>"
      ],
      "text/plain": [
       "                                 id     pickup_datetime    dropoff_datetime  \\\n",
       "0  a2acf0e861b84476b1ba8b91f08448f4 2016-07-10 06:56:05 2016-07-10 06:59:53   \n",
       "1  bac9b63e96f14ca9a4e9c236d709f5f2 2016-07-10 10:50:18 2016-07-10 10:55:21   \n",
       "2  6ec52187eb4a4ab6ae3ce632030c0322 2016-07-10 10:50:18 2016-07-10 11:08:38   \n",
       "3  21102720ac044762977f91b30f8857a1 2016-07-10 10:50:19 2016-07-10 10:55:38   \n",
       "4  3d002b5aa2404553adc0ad79c776bf32 2016-07-10 10:50:19 2016-07-10 11:08:54   \n",
       "\n",
       "   pickup_taxizone_id  dropoff_taxizone_id  pickup_weekday  pickup_weekofyear  \\\n",
       "0               263.0                236.0               6                 27   \n",
       "1               142.0                163.0               6                 27   \n",
       "2                74.0                 66.0               6                 27   \n",
       "3               161.0                142.0               6                 27   \n",
       "4               226.0                261.0               6                 27   \n",
       "\n",
       "   pickup_hour  pickup_minute  pickup_week_hour  passenger_count  tip_fraction  \n",
       "0            6             56               150              1.0      0.600000  \n",
       "1           10             50               154              5.0      0.226667  \n",
       "2           10             50               154              1.0      0.000000  \n",
       "3           10             50               154              1.0      0.166667  \n",
       "4           10             50               154              1.0      0.206957  "
      ]
     },
     "execution_count": 6,
     "metadata": {},
     "output_type": "execute_result"
    }
   ],
   "source": [
    "tip_train.head()"
   ]
  },
  {
   "cell_type": "markdown",
   "metadata": {},
   "source": [
    "<br>\n",
    "\n",
    "We can use the full data with Dask + RAPIDS, so no need to sample here"
   ]
  },
  {
   "cell_type": "markdown",
   "metadata": {},
   "source": [
    "# Random forest classifier\n",
    "\n",
    "We'll train a classifier than can predict \"high-tip\" rides - those where the tip percent is >25%. Convert `X` to 32 bit precision for GPU processing"
   ]
  },
  {
   "cell_type": "code",
   "execution_count": 7,
   "metadata": {},
   "outputs": [],
   "source": [
    "features = ml_utils.tip_vars.features\n",
    "y_col = ml_utils.tip_vars.y_col\n",
    "y_clf = ml_utils.tip_vars.y_clf\n",
    "high_tip = ml_utils.tip_vars.high_tip\n",
    "\n",
    "tip_train[y_clf] = (tip_train[y_col] > high_tip).astype('int32')\n",
    "X = tip_train[features].astype('float32')\n",
    "y = tip_train[y_clf]"
   ]
  },
  {
   "cell_type": "code",
   "execution_count": 8,
   "metadata": {},
   "outputs": [
    {
     "data": {
      "text/plain": [
       "0    0\n",
       "1    1\n",
       "Name: high_tip, dtype: int32"
      ]
     },
     "execution_count": 8,
     "metadata": {},
     "output_type": "execute_result"
    }
   ],
   "source": [
    "y.unique().compute()"
   ]
  },
  {
   "cell_type": "markdown",
   "metadata": {},
   "source": [
    "Calling `persist()` performs all the data loading and pre-processing and holds the data in RAM for us to do the model training"
   ]
  },
  {
   "cell_type": "code",
   "execution_count": 9,
   "metadata": {},
   "outputs": [
    {
     "name": "stdout",
     "output_type": "stream",
     "text": [
      "CPU times: user 886 ms, sys: 28.6 ms, total: 915 ms\n",
      "Wall time: 18.1 s\n"
     ]
    }
   ],
   "source": [
    "%%time\n",
    "X, y = persist(X, y)\n",
    "_ = wait([X, y])"
   ]
  },
  {
   "cell_type": "code",
   "execution_count": 10,
   "metadata": {},
   "outputs": [],
   "source": [
    "from cuml.dask.ensemble import RandomForestClassifier\n",
    "rfc = RandomForestClassifier(n_estimators=100, max_depth=10, seed=42)"
   ]
  },
  {
   "cell_type": "code",
   "execution_count": 11,
   "metadata": {},
   "outputs": [
    {
     "name": "stdout",
     "output_type": "stream",
     "text": [
      "CPU times: user 438 ms, sys: 95.5 ms, total: 534 ms\n",
      "Wall time: 1.44 s\n"
     ]
    }
   ],
   "source": [
    "%%time\n",
    "with ml_utils.time_fit():\n",
    "    _ = rfc.fit(X, y)"
   ]
  },
  {
   "cell_type": "markdown",
   "metadata": {},
   "source": [
    "## Predict on test set\n",
    "\n",
    "And calculate metrics. Save predictions and metrics to S3."
   ]
  },
  {
   "cell_type": "code",
   "execution_count": 12,
   "metadata": {},
   "outputs": [],
   "source": [
    "tip_test = dask_cudf.from_dask_dataframe(\n",
    "    dd.read_parquet(f'{ml_utils.taxi_path}/data/ml/tip_test', engine='pyarrow'))\n",
    "\n",
    "tip_test[y_clf] = (tip_test[y_col] > high_tip).astype('int32')\n",
    "X_test = tip_test[features].astype('float32')\n",
    "\n",
    "preds = tip_test[['id', y_clf]].copy()\n",
    "preds.columns = ['id', 'actual']\n",
    "preds['predicted'] = rfc.predict_proba(X_test[features])[1]"
   ]
  },
  {
   "cell_type": "code",
   "execution_count": 13,
   "metadata": {},
   "outputs": [
    {
     "name": "stdout",
     "output_type": "stream",
     "text": [
      "CPU times: user 158 ms, sys: 4.03 ms, total: 162 ms\n",
      "Wall time: 3.06 s\n"
     ]
    }
   ],
   "source": [
    "%%time\n",
    "preds = preds.persist()\n",
    "_ = wait(preds)"
   ]
  },
  {
   "cell_type": "code",
   "execution_count": 14,
   "metadata": {},
   "outputs": [
    {
     "data": {
      "text/html": [
       "<div>\n",
       "<style scoped>\n",
       "    .dataframe tbody tr th:only-of-type {\n",
       "        vertical-align: middle;\n",
       "    }\n",
       "\n",
       "    .dataframe tbody tr th {\n",
       "        vertical-align: top;\n",
       "    }\n",
       "\n",
       "    .dataframe thead th {\n",
       "        text-align: right;\n",
       "    }\n",
       "</style>\n",
       "<table border=\"1\" class=\"dataframe\">\n",
       "  <thead>\n",
       "    <tr style=\"text-align: right;\">\n",
       "      <th></th>\n",
       "      <th>id</th>\n",
       "      <th>actual</th>\n",
       "      <th>predicted</th>\n",
       "    </tr>\n",
       "  </thead>\n",
       "  <tbody>\n",
       "    <tr>\n",
       "      <th>0</th>\n",
       "      <td>2e8f402e4dc44f2fae8b9328a237c4d2</td>\n",
       "      <td>0</td>\n",
       "      <td>0.0</td>\n",
       "    </tr>\n",
       "    <tr>\n",
       "      <th>1</th>\n",
       "      <td>5f067a4121244f42bf460867c23b39c9</td>\n",
       "      <td>0</td>\n",
       "      <td>0.0</td>\n",
       "    </tr>\n",
       "    <tr>\n",
       "      <th>2</th>\n",
       "      <td>60e8442d3d434df4959261905a279f55</td>\n",
       "      <td>0</td>\n",
       "      <td>0.0</td>\n",
       "    </tr>\n",
       "    <tr>\n",
       "      <th>3</th>\n",
       "      <td>2d1537ce2ed347778e078eaee7eacd44</td>\n",
       "      <td>0</td>\n",
       "      <td>0.0</td>\n",
       "    </tr>\n",
       "    <tr>\n",
       "      <th>4</th>\n",
       "      <td>13bb8a9ecbd04b559b7b9e40904026b0</td>\n",
       "      <td>0</td>\n",
       "      <td>0.0</td>\n",
       "    </tr>\n",
       "  </tbody>\n",
       "</table>\n",
       "</div>"
      ],
      "text/plain": [
       "                                 id  actual  predicted\n",
       "0  2e8f402e4dc44f2fae8b9328a237c4d2       0        0.0\n",
       "1  5f067a4121244f42bf460867c23b39c9       0        0.0\n",
       "2  60e8442d3d434df4959261905a279f55       0        0.0\n",
       "3  2d1537ce2ed347778e078eaee7eacd44       0        0.0\n",
       "4  13bb8a9ecbd04b559b7b9e40904026b0       0        0.0"
      ]
     },
     "execution_count": 14,
     "metadata": {},
     "output_type": "execute_result"
    }
   ],
   "source": [
    "preds.head()"
   ]
  },
  {
   "cell_type": "code",
   "execution_count": 15,
   "metadata": {},
   "outputs": [
    {
     "name": "stdout",
     "output_type": "stream",
     "text": [
      "Writing predictions to 's3://saturn-titan/nyc-taxi/ml_results/predictions/high_tip__rapids__random_forest'\n",
      "Done writing predictions\n",
      "CPU times: user 74 ms, sys: 0 ns, total: 74 ms\n",
      "Wall time: 4.97 s\n"
     ]
    }
   ],
   "source": [
    "%%time\n",
    "preds_dd = preds.to_dask_dataframe()\n",
    "ml_utils.write_predictions(preds_dd)"
   ]
  },
  {
   "cell_type": "markdown",
   "metadata": {},
   "source": [
    "<br>\n",
    "\n",
    "Convert to single-GPU DataFrame using `compute()` because the Dask+RAPIDS implementation doesnt yet have `roc_auc_score`"
   ]
  },
  {
   "cell_type": "code",
   "execution_count": 16,
   "metadata": {},
   "outputs": [
    {
     "data": {
      "text/html": [
       "<div>\n",
       "<style scoped>\n",
       "    .dataframe tbody tr th:only-of-type {\n",
       "        vertical-align: middle;\n",
       "    }\n",
       "\n",
       "    .dataframe tbody tr th {\n",
       "        vertical-align: top;\n",
       "    }\n",
       "\n",
       "    .dataframe thead th {\n",
       "        text-align: right;\n",
       "    }\n",
       "</style>\n",
       "<table border=\"1\" class=\"dataframe\">\n",
       "  <thead>\n",
       "    <tr style=\"text-align: right;\">\n",
       "      <th></th>\n",
       "      <th>ml_task</th>\n",
       "      <th>tool</th>\n",
       "      <th>model</th>\n",
       "      <th>metric</th>\n",
       "      <th>value</th>\n",
       "      <th>fit_seconds</th>\n",
       "    </tr>\n",
       "  </thead>\n",
       "  <tbody>\n",
       "    <tr>\n",
       "      <th>0</th>\n",
       "      <td>high_tip</td>\n",
       "      <td>rapids</td>\n",
       "      <td>random_forest</td>\n",
       "      <td>auc</td>\n",
       "      <td>0.5049967</td>\n",
       "      <td>1.436731</td>\n",
       "    </tr>\n",
       "  </tbody>\n",
       "</table>\n",
       "</div>"
      ],
      "text/plain": [
       "    ml_task    tool          model metric      value  fit_seconds\n",
       "0  high_tip  rapids  random_forest    auc  0.5049967     1.436731"
      ]
     },
     "execution_count": 16,
     "metadata": {},
     "output_type": "execute_result"
    }
   ],
   "source": [
    "from cuml.metrics import roc_auc_score\n",
    "\n",
    "preds_cudf = preds.compute()\n",
    "auc = roc_auc_score(preds_cudf.actual, preds_cudf.predicted)\n",
    "ml_utils.write_metric_df('auc', auc)"
   ]
  }
 ],
 "metadata": {
  "kernelspec": {
   "display_name": "Python 3",
   "language": "python",
   "name": "python3"
  },
  "language_info": {
   "codemirror_mode": {
    "name": "ipython",
    "version": 3
   },
   "file_extension": ".py",
   "mimetype": "text/x-python",
   "name": "python",
   "nbconvert_exporter": "python",
   "pygments_lexer": "ipython3",
   "version": "3.7.7"
  }
 },
 "nbformat": 4,
 "nbformat_minor": 4
}
