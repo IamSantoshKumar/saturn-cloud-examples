{
 "cells": [
  {
   "cell_type": "code",
   "execution_count": null,
   "metadata": {},
   "outputs": [],
   "source": [
    "import datetime as dt\n",
    "import numpy as np\n",
    "import pandas as pd\n",
    "\n",
    "import dask.dataframe as dd\n",
    "\n",
    "import hvplot.dask, hvplot.pandas\n",
    "import holoviews as hv\n",
    "from holoviews.streams import Selection1D\n",
    "from bokeh.models import HoverTool\n",
    "import panel as pn\n",
    "\n",
    "import warnings\n",
    "warnings.simplefilter(\"ignore\")"
   ]
  },
  {
   "cell_type": "markdown",
   "metadata": {},
   "source": [
    "## Read in data\n",
    "\n",
    "We'll start by reading in the geo data downloaded from  LINK"
   ]
  },
  {
   "cell_type": "code",
   "execution_count": null,
   "metadata": {},
   "outputs": [],
   "source": [
    "import geopandas as gpd\n",
    "zones = gpd.read_file('./data/taxi_zones.shp').to_crs('epsg:4326')\n",
    "\n",
    "zones.hvplot(geo=True)"
   ]
  },
  {
   "cell_type": "code",
   "execution_count": null,
   "metadata": {},
   "outputs": [],
   "source": [
    "import geoviews as gv\n",
    "\n",
    "basemap = gv.tile_sources.CartoLight()"
   ]
  },
  {
   "cell_type": "markdown",
   "metadata": {},
   "source": [
    "### Grouped data\n",
    "\n",
    "Next we'll read in the grouped data that we generated in the exploratory notebooks"
   ]
  },
  {
   "cell_type": "code",
   "execution_count": null,
   "metadata": {},
   "outputs": [],
   "source": [
    "pickup_data = pd.read_csv(\"./data/pickup_grouped.csv\", index_col=\"pickup_taxizone_id\")\n",
    "dropoff_data = pd.read_csv(\"./data/dropoff_grouped.csv\", index_col=\"dropoff_taxizone_id\")\n",
    "pickup_tip = pd.read_csv(\"./data/pickup_tip.csv\", index_col=\"pickup_taxizone_id\")\n",
    "dropoff_data.head()"
   ]
  },
  {
   "cell_type": "code",
   "execution_count": null,
   "metadata": {},
   "outputs": [],
   "source": [
    "pickup_aggregated = pickup_data.groupby(\"pickup_taxizone_id\")[[\"total_fare\", \"total_rides\"]].sum()\n",
    "pickup_aggregated[\"average_fare\"] = (pickup_aggregated.total_fare / pickup_aggregated.total_rides).round(2)\n",
    "pickup_aggregated[\"average_percent_tip\"] = (pickup_aggregated.total_percent_tip / pickup_aggregated.total_tips)\n",
    "pickup_aggregated.index = pickup_aggregated.index.map(dict(zip(zones.LocationID.tolist(), zones.zone.tolist())))\n",
    "pickup_aggregated = pickup_aggregated.loc[pickup_aggregated.index.dropna()][[\"total_fare\", \"total_rides\", \"average_fare\", \"average_percent_tip\"]]\n",
    "\n",
    "dropoff_aggregated = dropoff_data.groupby(\"dropoff_taxizone_id\").sum()\n",
    "dropoff_aggregated[\"average_fare\"] = (dropoff_aggregated.total_fare / dropoff_aggregated.total_rides)\n",
    "dropoff_aggregated[\"average_percent_tip\"] = (dropoff_aggregated.total_percent_tip / dropoff_aggregated.total_tips)\n",
    "dropoff_aggregated.index = dropoff_aggregated.index.map(dict(zip(zones.LocationID.tolist(), zones.zone.tolist())))\n",
    "dropoff_aggregated = dropoff_aggregated.loc[dropoff_aggregated.index.dropna()][[\"total_fare\", \"total_rides\", \"average_fare\", \"average_percent_tip\"]]\n",
    "\n",
    "pickup_aggregated.head()"
   ]
  },
  {
   "cell_type": "markdown",
   "metadata": {},
   "source": [
    "### Timeseries data\n",
    "\n",
    "Next we'll read in the hourly timeseries data for the various fields"
   ]
  },
  {
   "cell_type": "code",
   "execution_count": null,
   "metadata": {},
   "outputs": [],
   "source": [
    "mean_fare_timeseries = pd.read_csv(\"./data/fare_timeseries.csv\", index_col=\"pickup_datetime\", parse_dates=True)\n",
    "tip_timeseries = pd.read_csv(\"./data/tip_timeseries.csv\", index_col=\"pickup_datetime\", parse_dates=True)\n",
    "\n",
    "tip_timeseries.head()"
   ]
  },
  {
   "cell_type": "markdown",
   "metadata": {},
   "source": [
    "## Construct vizualizations\n",
    "\n",
    "In this dashboard we'll have three tabs. We'll start with one about volume of rides and aggregate fare, then move on to one about tips and finish with a tab that digests the outputs of the Machine Learning algorithms that we've trained to predict fare.\n",
    "\n",
    "### Volume tab"
   ]
  },
  {
   "cell_type": "code",
   "execution_count": null,
   "metadata": {},
   "outputs": [],
   "source": [
    "total_rides = pickup_data.total_rides.sum()\n",
    "total_fare = pickup_data.total_fare.sum()"
   ]
  },
  {
   "cell_type": "code",
   "execution_count": null,
   "metadata": {},
   "outputs": [],
   "source": [
    "volume_intro = \"\"\"\n",
    "# Taxi Volume\n",
    "\n",
    "Ridership by region and total fare for period of record. \n",
    "\"\"\""
   ]
  },
  {
   "cell_type": "code",
   "execution_count": null,
   "metadata": {},
   "outputs": [],
   "source": [
    "logo = pn.pane.SVG(\"./data/saturn_logo.svg\", style={\"float\": \"right\"})"
   ]
  },
  {
   "cell_type": "code",
   "execution_count": null,
   "metadata": {},
   "outputs": [],
   "source": [
    "def kpi_box(title, color, value, unit=\"\"):\n",
    "    if value > 1e9:\n",
    "        value /= 1e9\n",
    "        increment = \"Billion\"\n",
    "    elif value > 1e6:\n",
    "        value /= 1e6\n",
    "        increment = \"Million\"\n",
    "    elif value > 1e3:\n",
    "        value /= 1e3\n",
    "        increment = \"Thousand\"\n",
    "    else:\n",
    "        increment = \"\"\n",
    "    \n",
    "    return pn.pane.Markdown(\n",
    "        f\"\"\"\n",
    "        ### {title}\n",
    "        # {unit}{(total_fare / 1e9) :.02f} {increment}\n",
    "        \"\"\",\n",
    "        style={'background-color': '#F6F6F6', 'border': '2px solid black',\n",
    "                'border-radius': '5px', 'padding': '10px', 'color': color},\n",
    "    )"
   ]
  },
  {
   "cell_type": "code",
   "execution_count": null,
   "metadata": {},
   "outputs": [],
   "source": [
    "fares = kpi_box(\"Total Fares\", \"#10874a\", total_fare, \"$\")\n",
    "rides = kpi_box(\"Total Rides\", \"#7a41ba\", total_rides)\n",
    "average = kpi_box(\"Average Fare\", \"coral\", (total_fare / total_rides), \"$\")"
   ]
  },
  {
   "cell_type": "code",
   "execution_count": null,
   "metadata": {},
   "outputs": [],
   "source": [
    "data = zones.join(pickup_aggregated[\"total_rides\"], on=\"zone\")\n",
    "data = data.join(pickup_aggregated[\"average_fare\"], on=\"zone\")\n",
    "data[\"million_rides\"] = data.total_rides/1e6\n",
    "\n",
    "tooltips = [\n",
    "    ('Total Rides', '@total_rides{(0,0.00 a)}'),\n",
    "    ('Average Fare', '@{average_fare}{($0.00 a)}'),\n",
    "    ('Zone', '@zone'),\n",
    "    ('Borough', '@borough'),\n",
    "]\n",
    "hover = HoverTool(tooltips=tooltips)\n",
    "\n",
    "pickup_map = data.hvplot(\n",
    "    x=\"longitude\", y=\"latitude\", c=\"million_rides\",\n",
    "    geo=True, max_width=600, max_height=600,\n",
    "    alpha=0.6, cmap=\"viridis\", clim=(0, 12), \n",
    "    hover_cols=[\"zone\", \"borough\", \"average_fare\", \"total_rides\"], \n",
    "    title=f\"Rides by pickup location (in Millions)\", \n",
    "    responsive=True, colorbar=True,\n",
    "    xaxis=None, yaxis=None, selection_alpha=1).opts(tools=[\"tap\", hover], toolbar=\"above\")"
   ]
  },
  {
   "cell_type": "code",
   "execution_count": null,
   "metadata": {},
   "outputs": [],
   "source": [
    "toggle = pn.widgets.RadioButtonGroup(options=[\"Pickup\", \"Dropoff\"], value=\"Pickup\")"
   ]
  },
  {
   "cell_type": "code",
   "execution_count": null,
   "metadata": {},
   "outputs": [],
   "source": [
    "@pn.depends(value=toggle)\n",
    "def volume_table(value):\n",
    "    data = pickup_aggregated if value == \"Pickup\" else dropoff_aggregated\n",
    "    subset = data.total_rides.sort_values(ascending=False)\n",
    "    \n",
    "    return pn.Column(\n",
    "        f\"### Top/Bottom 5 {value} Zones\", \n",
    "        pn.pane.DataFrame(subset.head(5), index_names=False), \n",
    "        pn.Spacer(height=10), \n",
    "        pn.pane.DataFrame(subset.tail(5), index_names=False, header=False), \n",
    "        width_policy=\"fit\"\n",
    "    )"
   ]
  },
  {
   "cell_type": "code",
   "execution_count": null,
   "metadata": {},
   "outputs": [],
   "source": [
    "data = pickup_data.copy()\n",
    "data.index = data.index.map(dict(zip(zones.LocationID.tolist(), zones.zone.tolist())))\n",
    "\n",
    "def heatmap(C, **kwargs):\n",
    "    return data.hvplot.heatmap(\n",
    "        x=\"pickup_weekday\", \n",
    "        y=\"pickup_hour\", \n",
    "        C=C,\n",
    "        hover_cols=[\"total_rides\"] if C == \"average_fare\" else [\"average_fare\"],\n",
    "        xticks=[(0, 'Mon'), (1, 'Tues'), (2, 'Wed'), (3, 'Thur'), (4, 'Fri'), (5, 'Sat'), (6, 'Sun')],\n",
    "        responsive=True, min_height=500, colorbar=False, **kwargs\n",
    "    ).opts(toolbar=None, xrotation=90)\n",
    "\n",
    "rides_dmap = heatmap(C=\"total_rides\", groupby=\"pickup_taxizone_id\", cmap=\"reds\")\n",
    "fares_dmap = heatmap(C=\"average_fare\", groupby=\"pickup_taxizone_id\", cmap=\"blues\")\n",
    "rides_summary = heatmap(C=\"total_rides\", cmap=\"reds\", title=\"Total Rides\").aggregate(function=np.sum)\n",
    "\n",
    "volume_heatmap = pn.pane.HoloViews(rides_summary)"
   ]
  },
  {
   "cell_type": "code",
   "execution_count": null,
   "metadata": {},
   "outputs": [],
   "source": [
    "def ride_or_fares_plot(zone, value):\n",
    "    if value == [\"Rides\"]:\n",
    "        obj = rides_dmap[zone].opts(title=f\"{zone} Rides\").opts(alpha=1)\n",
    "    elif value == [\"Fares\"]:\n",
    "        obj = fare_dmap[zone].opts(title=f\"{zone} Fares\")\n",
    "    else:\n",
    "        obj = (fare_dmap[zone] * rides_dmap[zone].opts(alpha=0.5)).opts(title=f\"{zone}\")\n",
    "    return obj\n",
    "\n",
    "def on_pickup_tap(index):\n",
    "    if index:\n",
    "        zone = zones.loc[index, \"zone\"].item()\n",
    "        value = rides_or_fares.value\n",
    "        volume_heatmap.object = ride_or_fares_plot(zone, value)\n",
    "    return\n",
    "       \n",
    "volume_stream = Selection1D(source=pickup_map)\n",
    "volume_stream.param.watch_values(on_pickup_tap, ['index']);"
   ]
  },
  {
   "cell_type": "code",
   "execution_count": null,
   "metadata": {},
   "outputs": [],
   "source": [
    "rides_or_fares = pn.widgets.CheckButtonGroup(options=[\"Rides\", \"Fares\"], value=[\"Rides\"])"
   ]
  },
  {
   "cell_type": "code",
   "execution_count": null,
   "metadata": {},
   "outputs": [],
   "source": [
    "def on_rides_or_fares(target, event):\n",
    "    index = volume_stream.index\n",
    "    value = event.new\n",
    "    if index and value:\n",
    "        zone = zones.loc[index, \"zone\"].item()\n",
    "        volume_heatmap.object = ride_or_fares_plot(zone, value)\n",
    "    \n",
    "rides_or_fares.link(volume_heatmap, callbacks={\"value\": on_rides_or_fares});"
   ]
  },
  {
   "cell_type": "code",
   "execution_count": null,
   "metadata": {},
   "outputs": [],
   "source": [
    "volume = pn.GridSpec(name=\"Volume\", sizing_mode='stretch_both', min_width=800, min_height=600, max_height=800)\n",
    "volume[0, :6] = volume_intro\n",
    "volume[0, 6] = logo\n",
    "volume[1, 0] = fares\n",
    "volume[1, 1] = rides\n",
    "volume[1, 2] = average\n",
    "volume[1:4, 4:6] = pn.Column(toggle, volume_table)\n",
    "volume[1, 3] = pn.Column(\n",
    "    pn.pane.Markdown(\"*Choose rides, fares, or both and select a zone on the map.*\", margin=(0, 10)), \n",
    "    rides_or_fares, \n",
    "    height_policy=\"fit\")\n",
    "volume[2:8, 3] = volume_heatmap\n",
    "volume[2:8, 0:3] = pickup_map * gv.tile_sources.CartoLight()\n",
    "volume[4:8, 4:6] = \"./pie_chart.svg\""
   ]
  },
  {
   "cell_type": "code",
   "execution_count": null,
   "metadata": {},
   "outputs": [],
   "source": [
    "volume"
   ]
  },
  {
   "cell_type": "markdown",
   "metadata": {},
   "source": [
    "## Tip tab"
   ]
  },
  {
   "cell_type": "code",
   "execution_count": null,
   "metadata": {},
   "outputs": [],
   "source": [
    "tip_intro = \"\"\"\n",
    "# Analysis of Tips\n",
    "\n",
    "Tips vary based on time of day, location and many other factors. \n",
    "\"\"\""
   ]
  },
  {
   "cell_type": "code",
   "execution_count": null,
   "metadata": {},
   "outputs": [],
   "source": [
    "heatmap = tip_timeseries.hvplot.heatmap(\n",
    "    x=\"index.dt.weekday\", \n",
    "    y=\"index.dt.hour\", \n",
    "    C=\"tip%\",\n",
    "    title=\"Average Tip %\",\n",
    "    xlabel=\"Day\",\n",
    "    ylabel=\"Hour\",\n",
    "    xticks=[(0, 'Mon'), (1, 'Tues'), (2, 'Wed'), (3, 'Thur'), (4, 'Fri'), (5, 'Sat'), (6, 'Sun')],\n",
    "    responsive=True, min_height=500,\n",
    "    colorbar=False, cmap=\"coolwarm\", clim=(8, 12)\n",
    ").aggregate(function=np.mean).opts(toolbar=None, xrotation=90)"
   ]
  },
  {
   "cell_type": "code",
   "execution_count": null,
   "metadata": {},
   "outputs": [],
   "source": [
    "date_range_slider = pn.widgets.DateRangeSlider(\n",
    "    name='Show between',\n",
    "    start=tip_timeseries.index[0], end=tip_timeseries.index[-1],\n",
    "    value=(pd.Timestamp(\"2018-01\"), pd.Timestamp(\"2019-02\"))\n",
    ")\n",
    "discrete_slider = pn.widgets.DiscreteSlider(name='Rolling window', options=['1H', '2H', '4H', '6H', '12H', '1D', '2D', '7D', '14D', '1M'], value='1D')\n",
    "\n",
    "def tip_plot(xlim, window):\n",
    "    data = tip_timeseries.rolling(window).mean()\n",
    "    return data.hvplot(y=\"tip%\", xlim=xlim, ylim=(8, 12), responsive=True, min_height=200).opts(toolbar=\"above\")\n",
    "\n",
    "tip_timeseries_plot = pn.pane.HoloViews(tip_plot(date_range_slider.value, discrete_slider.value))\n",
    "    \n",
    "def trim(target, event):\n",
    "    target.object = tip_plot(event.new, discrete_slider.value)\n",
    "\n",
    "def roll(target, event):\n",
    "    target.object = tip_plot(date_range_slider.value, event.new)\n",
    "\n",
    "discrete_slider.link(tip_timeseries_plot, callbacks={\"value\": roll})\n",
    "date_range_slider.link(tip_timeseries_plot, callbacks={\"value\": trim})"
   ]
  },
  {
   "cell_type": "code",
   "execution_count": null,
   "metadata": {},
   "outputs": [],
   "source": [
    "joined = zones.join(pickup_tip, on=\"LocationID\")\n",
    "\n",
    "tip_map = joined.hvplot(c=\"total\", geo=True, alpha=0.6, cmap=\"coolwarm\",\n",
    "                        hover_cols=[\"zone\", \"borough\"], title=\"Average Tip %\", \n",
    "                        clim=(5, 15),responsive=True, colorbar=False,\n",
    "                        xaxis=None, yaxis=None).opts(toolbar=\"above\")"
   ]
  },
  {
   "cell_type": "code",
   "execution_count": null,
   "metadata": {},
   "outputs": [],
   "source": [
    "tip_table = joined[[\"zone\", \"total\"]].set_index(\"zone\").sort_values(by=\"total\", ascending=False)\n",
    "tip_table[\"tip %\"] = tip_table.total.round(2)\n",
    "tip_table = tip_table.drop(\"total\", axis=1).drop_duplicates()\n",
    "tip_pane = pn.Column(\n",
    "    \"### Top/Bottom 5 Tip Zones\", \n",
    "    pn.pane.DataFrame(tip_table.head(5), header=False, index_names=False),\n",
    "    pn.Spacer(height=10),\n",
    "    pn.pane.DataFrame(tip_table.tail(5), header=False, index_names=False),\n",
    ")"
   ]
  },
  {
   "cell_type": "code",
   "execution_count": null,
   "metadata": {},
   "outputs": [],
   "source": [
    "tips = pn.GridSpec(name=\"Tips\", sizing_mode='stretch_both', min_width=800, min_height=600, max_height=800)\n",
    "\n",
    "tips[0, :6] = tip_intro\n",
    "tips[0, 6] = logo\n",
    "tips[1:5, 0:2] = tip_map * gv.tile_sources.CartoLight()\n",
    "tips[1:5, 2:4] = tip_pane\n",
    "tips[1:5, 4:6] = heatmap\n",
    "\n",
    "tips[5:8, 0:2] = pn.Column(date_range_slider, discrete_slider, \"*Use widgets to control rolling window average on the timeseries plot or and to restrict to between certain dates*\")\n",
    "tips[5:8, 2:6] = tip_timeseries_plot"
   ]
  },
  {
   "cell_type": "code",
   "execution_count": null,
   "metadata": {},
   "outputs": [],
   "source": [
    "tips"
   ]
  },
  {
   "cell_type": "markdown",
   "metadata": {},
   "source": [
    "## ML Tab"
   ]
  },
  {
   "cell_type": "code",
   "execution_count": null,
   "metadata": {},
   "outputs": [],
   "source": [
    "ml_intro = \"\"\"\n",
    "# Machine Learning\n",
    "\n",
    "Exploring the historical accuracy of various models. Predict fare by consuming deployed models.\n",
    "\"\"\""
   ]
  },
  {
   "cell_type": "code",
   "execution_count": null,
   "metadata": {},
   "outputs": [],
   "source": [
    "def mock_fare_prediction(pickup_taxizone_id, dropoff_taxizone_id, datetime):\n",
    "    return np.random.randint(10, 100)\n",
    "\n",
    "actual = mean_fare_timeseries.fare_amount\n",
    "predicted_fare = actual + np.random.randn(len(actual)) * 10\n",
    "\n",
    "table = pd.DataFrame({\n",
    "    \"actual\": actual, \n",
    "    \"predicted\": predicted_fare\n",
    "})\n",
    "table.index.name = \"time\""
   ]
  },
  {
   "cell_type": "code",
   "execution_count": null,
   "metadata": {},
   "outputs": [],
   "source": [
    "options = {\"Choose from map\": -1, **{v: k for k, v in zones.zone.to_dict().items()}}\n",
    "pickup = pn.widgets.Select(name=\"Pickup\", options=options)\n",
    "dropoff = pn.widgets.Select(name=\"Dropoff\", options=options)\n",
    "plot = zones.hvplot(geo=True, c='zone', legend=False, width=500, height=500, xaxis=None, yaxis=None, alpha=.2, selection_alpha=1).opts(tools=['tap', 'hover'])\n",
    "\n",
    "def on_map_select(index):\n",
    "    if index and pickup.value == -1:\n",
    "        pickup.value = index[0]\n",
    "    elif index and dropoff.value == -1:\n",
    "        dropoff.value = index[0]\n",
    "    return\n",
    "\n",
    "stream = Selection1D(source=plot)\n",
    "stream.param.watch_values(on_map_select, ['index'])\n",
    "\n",
    "overlay = pn.pane.HoloViews(plot * gv.tile_sources.CartoLight())\n",
    "\n",
    "def on_reset(*args):\n",
    "    pickup.value = -1\n",
    "    dropoff.value = -1\n",
    "    date.value = dt.datetime.now().date()\n",
    "    hour.value = 0\n",
    "    text.background = \"#ffffff\"\n",
    "    text.object = None\n",
    "    stream.update(index=[])\n",
    "    overlay.object = plot * gv.tile_sources.CartoLight()\n",
    "\n",
    "reset = pn.widgets.Button(name=\"Reset\", width=80)\n",
    "reset.on_click(on_reset)\n",
    "\n",
    "date = pn.widgets.DatePicker(name=\"Date\", value=dt.datetime.now().date())\n",
    "hour = pn.widgets.DiscreteSlider(\n",
    "    name=\"Hour\", \n",
    "    options=dict(zip(\n",
    "        [\"12am\", *[f\"{h}am\"for h in range(1, 12)] ,\"12pm\", *[f\"{h}pm\"for h in range(1, 12)]], \n",
    "        list(range(24))\n",
    "    )))\n",
    "\n",
    "submit = pn.widgets.Button(name=\"Predict my fare\", button_type='primary', width=200)\n",
    "text = pn.pane.Markdown(width=200, height=45, style={\"padding-left\": \"10pt\"})\n",
    "helper = pn.pane.Markdown(width=300)\n",
    "\n",
    "def b(event):\n",
    "    if pickup.value == -1 or dropoff.value == -1:\n",
    "        submit.button_type = \"danger\"\n",
    "        helper.object = \"*You must select pickup and dropoff zone*\"\n",
    "        return\n",
    "    \n",
    "    submit.button_type = \"primary\"\n",
    "    helper.object = None\n",
    "    datetime = dt.datetime.combine(date.value, dt.time(hour=hour.value))\n",
    "    \n",
    "    prediction = mock_fare_prediction(pickup.value, dropoff.value, datetime)\n",
    "    \n",
    "    subset = zones.iloc[[pickup.value, dropoff.value]]\n",
    "    \n",
    "    trip = gv.Path((subset.geometry.centroid.x, subset.geometry.centroid.y)).opts(color=\"black\", line_width=2)\n",
    "    \n",
    "    obj = plot * gv.tile_sources.CartoLight() * subset.hvplot(geo=True) * trip\n",
    "    obj.label = f\"{subset.zone.tolist()[0]} to {subset.zone.tolist()[1]}\"\n",
    "    \n",
    "    overlay.object = obj\n",
    "    \n",
    "    text.background = \"yellow\"\n",
    "    text.object = f\"## Prediction: ${prediction}.00\"\n",
    "    \n",
    "submit.on_click(b)\n",
    "\n",
    "predict = pn.Row(\n",
    "    pn.Column(\n",
    "        \"## Predict my Fare\",\n",
    "        pn.Row(pickup),\n",
    "        pn.Row(dropoff), \n",
    "        date,\n",
    "        hour,\n",
    "        pn.Row(submit, reset),\n",
    "        helper,\n",
    "        text,\n",
    "    ),\n",
    "    overlay\n",
    ")"
   ]
  },
  {
   "cell_type": "code",
   "execution_count": null,
   "metadata": {},
   "outputs": [],
   "source": [
    "timeseries = table.hvplot.line(\n",
    "    y=[\"actual\", \"predicted\"], ylim=(0, 50),\n",
    "    xlim=(pd.Timestamp(\"2018-01-05\"), pd.Timestamp(\"2018-01-12\")), legend=\"bottom_left\"\n",
    ").opts(toolbar=\"above\")"
   ]
  },
  {
   "cell_type": "code",
   "execution_count": null,
   "metadata": {},
   "outputs": [],
   "source": [
    "metrics = pd.DataFrame({\"tool\": [\"scikit\", \"xgboost\"], \"model\": [\"elastic\", \"elastic\"], \"rmse\": [0.45, 0.65]})\n",
    "metrics_text = \"\"\"\n",
    "### Summary of Models\n",
    "\n",
    "There are a variety of models displayed above. Here we show their errors.\n",
    "\"\"\""
   ]
  },
  {
   "cell_type": "code",
   "execution_count": null,
   "metadata": {},
   "outputs": [],
   "source": [
    "ml = pn.GridSpec(name=\"ML\", sizing_mode='stretch_both', min_width=800, min_height=600, max_height=800)\n",
    "\n",
    "ml[0, :6] = ml_intro\n",
    "ml[0, 6] = logo\n",
    "ml[1:3, :6] = pn.pane.HoloViews(timeseries)\n",
    "ml[3:8, 4:6] =pn.Column(metrics_text, pn.pane.DataFrame(metrics, index=False))\n",
    "ml[3:8, :4] = predict"
   ]
  },
  {
   "cell_type": "markdown",
   "metadata": {},
   "source": [
    "## Final Dashboard"
   ]
  },
  {
   "cell_type": "code",
   "execution_count": null,
   "metadata": {},
   "outputs": [],
   "source": [
    "pn.Tabs(volume, tips, ml, tabs_location=\"left\").servable(title=\"Saturn Taxi\")"
   ]
  },
  {
   "cell_type": "code",
   "execution_count": null,
   "metadata": {},
   "outputs": [],
   "source": []
  }
 ],
 "metadata": {
  "kernelspec": {
   "display_name": "Python 3",
   "language": "python",
   "name": "python3"
  },
  "language_info": {
   "codemirror_mode": {
    "name": "ipython",
    "version": 3
   },
   "file_extension": ".py",
   "mimetype": "text/x-python",
   "name": "python",
   "nbconvert_exporter": "python",
   "pygments_lexer": "ipython3",
   "version": "3.7.8"
  }
 },
 "nbformat": 4,
 "nbformat_minor": 4
}
