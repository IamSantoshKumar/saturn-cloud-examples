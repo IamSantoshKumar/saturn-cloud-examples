{
 "cells": [
  {
   "cell_type": "code",
   "execution_count": null,
   "metadata": {},
   "outputs": [],
   "source": [
    "import numpy as np\n",
    "import dask.dataframe as dd\n",
    "\n",
    "import hvplot.dask, hvplot.pandas\n",
    "import holoviews as hv\n",
    "from holoviews.streams import Selection1D\n",
    "import datetime as dt\n",
    "import panel as pn\n",
    "import pandas as pd\n",
    "\n",
    "import warnings\n",
    "warnings.simplefilter(\"ignore\")"
   ]
  },
  {
   "cell_type": "markdown",
   "metadata": {},
   "source": [
    "## Read in data\n",
    "\n",
    "We'll start by reading in the geo data downloaded from  LINK"
   ]
  },
  {
   "cell_type": "code",
   "execution_count": null,
   "metadata": {},
   "outputs": [],
   "source": [
    "import geopandas as gpd\n",
    "zones = gpd.read_file('./data/taxi_zones.shp').to_crs('epsg:4326')\n",
    "\n",
    "zones.hvplot(geo=True)"
   ]
  },
  {
   "cell_type": "code",
   "execution_count": null,
   "metadata": {},
   "outputs": [],
   "source": [
    "import geoviews as gv\n",
    "\n",
    "basemap = gv.tile_sources.CartoLight()"
   ]
  },
  {
   "cell_type": "markdown",
   "metadata": {},
   "source": [
    "### Volume data\n",
    "\n",
    "Next we'll read in the aggregated data that we generated in the exploratory notebooks"
   ]
  },
  {
   "cell_type": "code",
   "execution_count": null,
   "metadata": {},
   "outputs": [],
   "source": [
    "pickup_volume = pd.read_csv(\"./data/pickup_volume.csv\", index_col=\"pickup_taxizone_id\")\n",
    "dropoff_volume = pd.read_csv(\"./data/dropoff_volume.csv\", index_col=\"dropoff_taxizone_id\")\n",
    "dropoff_volume"
   ]
  },
  {
   "cell_type": "markdown",
   "metadata": {},
   "source": [
    "### Fare data"
   ]
  },
  {
   "cell_type": "code",
   "execution_count": null,
   "metadata": {},
   "outputs": [],
   "source": [
    "pickup_fare = pd.read_csv(\"./data/pickup_fare.csv\", index_col=\"pickup_taxizone_id\")\n",
    "dropoff_fare = pd.read_csv(\"./data/dropoff_fare.csv\", index_col=\"dropoff_taxizone_id\")\n",
    "actual_mean_fare = pd.read_csv(\"./data/fare_timeseries.csv\", index_col=\"pickup_datetime\", parse_dates=True)\n",
    "actual_std_fare = pd.read_csv(\"./data/fare_std_timeseries.csv\", index_col=\"pickup_datetime\", parse_dates=True)\n",
    "\n",
    "actual_std_fare.head()"
   ]
  },
  {
   "cell_type": "markdown",
   "metadata": {},
   "source": [
    "### Tip data"
   ]
  },
  {
   "cell_type": "code",
   "execution_count": null,
   "metadata": {},
   "outputs": [],
   "source": [
    "pickup_tip = pd.read_csv(\"./data/pickup_tip.csv\", index_col=\"pickup_taxizone_id\")\n",
    "dropoff_tip = pd.read_csv(\"./data/dropoff_tip.csv\", index_col=\"dropoff_taxizone_id\")\n",
    "\n",
    "tip_grouped = pd.read_csv(\"./data/tip_percent.csv\", index_col=\"pickup_weekday\")\n",
    "tip_timeseries = pd.read_csv(\"./data/tip_timeseries.csv\", index_col=\"pickup_datetime\", parse_dates=True)\n",
    "tip_timeseries.head()"
   ]
  },
  {
   "cell_type": "markdown",
   "metadata": {},
   "source": [
    "## Construct vizualizations\n",
    "\n",
    "In this dashboard we'll have three tabs. We'll start with one about volume of rides and aggregate fare, then move on to one about tips and finish with a tab that digests the outputs of the Machine Learning algorithms that we've trained to predict fare.\n",
    "\n",
    "### Volume tab"
   ]
  },
  {
   "cell_type": "code",
   "execution_count": null,
   "metadata": {},
   "outputs": [],
   "source": [
    "total_rides = pickup_volume.total.sum()\n",
    "total_fare = pickup_fare.total.sum()"
   ]
  },
  {
   "cell_type": "code",
   "execution_count": null,
   "metadata": {},
   "outputs": [],
   "source": [
    "volume_intro = \"\"\"\n",
    "# Taxi Volume\n",
    "\n",
    "Ridership by region and total fare for period of record. \n",
    "\"\"\""
   ]
  },
  {
   "cell_type": "code",
   "execution_count": null,
   "metadata": {},
   "outputs": [],
   "source": [
    "logo = pn.pane.SVG(\"./data/saturn_logo.svg\", style={\"float\": \"right\"})"
   ]
  },
  {
   "cell_type": "code",
   "execution_count": null,
   "metadata": {},
   "outputs": [],
   "source": [
    "color = \"#10874a\"\n",
    "fares = pn.pane.Markdown(\n",
    "    f\"\"\"\n",
    "    ### Total Fares\n",
    "    # ${(total_fare / 1e9) :.02f} Billion\n",
    "    \"\"\",\n",
    "    style={'background-color': '#F6F6F6', 'border': '2px solid black',\n",
    "            'border-radius': '5px', 'padding': '10px', 'color': color},\n",
    ")"
   ]
  },
  {
   "cell_type": "code",
   "execution_count": null,
   "metadata": {},
   "outputs": [],
   "source": [
    "color = \"#7a41ba\"\n",
    "rides = pn.pane.Markdown(\n",
    "    f\"\"\"\n",
    "    ### Total Rides\n",
    "    # {(total_rides / 1e6) :.02f} Million\n",
    "    \"\"\",\n",
    "    style={'background-color': '#F6F6F6', 'border': '2px solid black',\n",
    "            'border-radius': '5px', 'padding': '10px', 'color': color},\n",
    ")"
   ]
  },
  {
   "cell_type": "code",
   "execution_count": null,
   "metadata": {},
   "outputs": [],
   "source": [
    "color = \"coral\"\n",
    "average = pn.pane.Markdown(\n",
    "    f\"\"\"\n",
    "    ### Average Fare\n",
    "    # ${(total_fare / total_rides) :.02f}\n",
    "    \"\"\",\n",
    "    style={'background-color': '#F6F6F6', 'border': '2px solid black',\n",
    "            'border-radius': '5px', 'padding': '10px', 'color': color},\n",
    ")"
   ]
  },
  {
   "cell_type": "code",
   "execution_count": null,
   "metadata": {},
   "outputs": [],
   "source": [
    "toggle = pn.widgets.RadioButtonGroup(options=[\"Pickup\", \"Dropoff\"], value=\"Pickup\")"
   ]
  },
  {
   "cell_type": "code",
   "execution_count": null,
   "metadata": {},
   "outputs": [],
   "source": [
    "@pn.depends(value=toggle)\n",
    "def volume_map(value):\n",
    "    volume = pickup_volume if value == \"Pickup\" else dropoff_volume\n",
    "    data = zones.join(volume[\"total\"]/1e6, on=\"LocationID\")\n",
    "\n",
    "    return data.hvplot(\n",
    "        x=\"longitude\", y=\"latitude\", c=\"total\",\n",
    "        geo=True, tiles=\"CartoLight\",\n",
    "        alpha=0.6, cmap=\"viridis\", clim=(0, 12), \n",
    "        hover_cols=[\"zone\", \"borough\"], \n",
    "        title=f\"Ride volume by {value} location (in Millions)\", \n",
    "        responsive=True, colorbar=False,\n",
    "        xaxis=None, yaxis=None, selection_alpha=1).opts(toolbar=\"above\")"
   ]
  },
  {
   "cell_type": "code",
   "execution_count": null,
   "metadata": {},
   "outputs": [],
   "source": [
    "value = \"Pickup\"\n",
    "volume = pickup_volume if value == \"Pickup\" else dropoff_volume\n",
    "data = zones.join(volume[\"total\"]/1e6, on=\"LocationID\")\n",
    "\n",
    "pickup_map = data.hvplot(\n",
    "    x=\"longitude\", y=\"latitude\", c=\"total\",\n",
    "    geo=True, \n",
    "    alpha=0.6, cmap=\"viridis\", clim=(0, 12), \n",
    "    hover_cols=[\"zone\", \"borough\"], \n",
    "    title=f\"Ride volume by {value} location (in Millions)\", \n",
    "    responsive=True, colorbar=True,\n",
    "    xaxis=None, yaxis=None, selection_alpha=1).opts(tools=[\"tap\"], toolbar=\"above\")"
   ]
  },
  {
   "cell_type": "code",
   "execution_count": null,
   "metadata": {},
   "outputs": [],
   "source": [
    "@pn.depends(value=toggle)\n",
    "def volume_table(value):\n",
    "    volume = pickup_volume if value == \"Pickup\" else dropoff_volume\n",
    "    top = volume.total.sort_values(ascending=False).head(5)\n",
    "    subset = zones.join(top, on=\"LocationID\", how=\"right\")[['zone', 'total']]\n",
    "    return hv.Table(subset).opts(title=f\"Top {value} Zones\", width=400)"
   ]
  },
  {
   "cell_type": "code",
   "execution_count": null,
   "metadata": {},
   "outputs": [],
   "source": [
    "t = pickup_volume.copy()\n",
    "t[\"Zone\"] = t.index.map(dict(zip(zones.LocationID.tolist(), zones.zone.tolist())))\n",
    "t = t.set_index(\"Zone\").drop(\"total\", axis=1)\n",
    "t.columns.name = \"Hour\"\n",
    "t = t.melt(ignore_index=False, value_name=\"Rides\")\n",
    "t"
   ]
  },
  {
   "cell_type": "code",
   "execution_count": null,
   "metadata": {},
   "outputs": [],
   "source": [
    "dmap = t.hvplot.barh(x=\"Hour\", y=\"Rides\", groupby=\"Zone\", responsive=True, xaxis=False).opts(toolbar=None)"
   ]
  },
  {
   "cell_type": "code",
   "execution_count": null,
   "metadata": {},
   "outputs": [],
   "source": [
    "summary = t.groupby(\"Hour\").sum().hvplot.barh(x=\"Hour\", y=\"Rides\", responsive=True, xaxis=False, title=\"Total Rides\", min_height=300).opts(toolbar=None)"
   ]
  },
  {
   "cell_type": "code",
   "execution_count": null,
   "metadata": {},
   "outputs": [],
   "source": [
    "bars = pn.pane.HoloViews(summary)"
   ]
  },
  {
   "cell_type": "code",
   "execution_count": null,
   "metadata": {},
   "outputs": [],
   "source": [
    "def on_pickup_tap(index):\n",
    "    if index:\n",
    "        zone = zones.loc[index, \"zone\"].item()\n",
    "        bars.object = dmap[zone].opts(title=f\"{zone} Rides\")\n",
    "    return\n",
    "       \n",
    "volume_stream = Selection1D(source=pickup_map)\n",
    "volume_stream.param.watch_values(on_pickup_tap, ['index']);"
   ]
  },
  {
   "cell_type": "code",
   "execution_count": null,
   "metadata": {},
   "outputs": [],
   "source": [
    "volume = pn.GridSpec(name=\"Volume\", sizing_mode='stretch_both', min_width=1000, min_height=600, max_height=800)\n",
    "volume[0, :4] = volume_intro\n",
    "volume[0, 5] = logo\n",
    "volume[1, 0] = fares\n",
    "volume[1, 1] = rides\n",
    "volume[1, 2] = average\n",
    "volume[1:4, 4:6] = pn.Column(toggle, volume_table)\n",
    "volume[1:8, 3] = bars\n",
    "volume[2:8, 0:3] = pickup_map * gv.tile_sources.CartoLight()\n",
    "volume[4:8, 4:6] = \"./pie_chart.svg\""
   ]
  },
  {
   "cell_type": "markdown",
   "metadata": {},
   "source": [
    "## Tip tab"
   ]
  },
  {
   "cell_type": "code",
   "execution_count": null,
   "metadata": {},
   "outputs": [],
   "source": [
    "intro = \"\"\"\n",
    "# Analysis of Tips\n",
    "\n",
    "Tips vary based on time of day, location and many other factors. \n",
    "\"\"\""
   ]
  },
  {
   "cell_type": "code",
   "execution_count": null,
   "metadata": {},
   "outputs": [],
   "source": [
    "heatmap = tip_timeseries.hvplot.heatmap(\n",
    "    x=\"index.dt.weekday\", \n",
    "    y=\"index.dt.hour\", \n",
    "    C=\"tip%\",\n",
    "    title=\"Average Tip %\",\n",
    "    xlabel=\"Day\",\n",
    "    ylabel=\"Hour\",\n",
    "    xticks=[(0, 'Mon'), (1, 'Tues'), (2, 'Wed'), (3, 'Thur'), (4, 'Fri'), (5, 'Sat'), (6, 'Sun')],\n",
    "    responsive=True, min_height=500,\n",
    "    colorbar=False, cmap=\"coolwarm\", clim=(8, 12)\n",
    ").aggregate(function=np.mean).opts(toolbar=None, xrotation=90)"
   ]
  },
  {
   "cell_type": "code",
   "execution_count": null,
   "metadata": {},
   "outputs": [],
   "source": [
    "date_range_slider = pn.widgets.DateRangeSlider(\n",
    "    name='Show between',\n",
    "    start=tip_timeseries.index[0], end=tip_timeseries.index[-1],\n",
    "    value=(pd.Timestamp(\"2018-01\"), pd.Timestamp(\"2019-02\"))\n",
    ")\n",
    "discrete_slider = pn.widgets.DiscreteSlider(name='Rolling window', options=['1H', '2H', '4H', '6H', '12H', '1D', '2D', '7D', '14D', '1M'], value='1D')\n",
    "\n",
    "def tip_plot(xlim, window):\n",
    "    data = tip_timeseries.rolling(window).mean()\n",
    "    return data.hvplot(y=\"tip%\", xlim=xlim, ylim=(8, 12), responsive=True, min_height=200).opts(toolbar=\"above\")\n",
    "\n",
    "tip_timeseries_plot = pn.pane.HoloViews(tip_plot(date_range_slider.value, discrete_slider.value))\n",
    "    \n",
    "def trim(target, event):\n",
    "    target.object = tip_plot(event.new, discrete_slider.value)\n",
    "\n",
    "def roll(target, event):\n",
    "    target.object = tip_plot(date_range_slider.value, event.new)\n",
    "\n",
    "discrete_slider.link(tip_timeseries_plot, callbacks={\"value\": roll})\n",
    "date_range_slider.link(tip_timeseries_plot, callbacks={\"value\": trim})"
   ]
  },
  {
   "cell_type": "code",
   "execution_count": null,
   "metadata": {},
   "outputs": [],
   "source": [
    "joined = zones.join(pickup_tip, on=\"LocationID\")\n",
    "\n",
    "tip_map = joined.hvplot(c=\"total\", geo=True, alpha=0.6, cmap=\"coolwarm\",\n",
    "                        hover_cols=[\"zone\", \"borough\"], title=\"Average Tip %\", \n",
    "                        clim=(5, 15),responsive=True, colorbar=False,\n",
    "                        xaxis=None, yaxis=None).opts(toolbar=\"above\")"
   ]
  },
  {
   "cell_type": "code",
   "execution_count": null,
   "metadata": {},
   "outputs": [],
   "source": [
    "tip_table = joined[[\"zone\", \"total\"]].set_index(\"zone\").sort_values(by=\"total\", ascending=False)\n",
    "tip_table[\"tip %\"] = tip_table.total.round(2)\n",
    "tip_table = tip_table.drop(\"total\", axis=1).drop_duplicates()\n",
    "tip_pane = pn.pane.DataFrame(tip_table.head(20), header=False, index_names=False)"
   ]
  },
  {
   "cell_type": "code",
   "execution_count": null,
   "metadata": {},
   "outputs": [],
   "source": [
    "tips = pn.GridSpec(name=\"Tips\", sizing_mode='stretch_both', min_width=1000, min_height=600, max_height=800)\n",
    "\n",
    "tips[0, :5] = intro\n",
    "tips[0, 5] = logo\n",
    "tips[1:5, 0:2] = tip_map * gv.tile_sources.CartoLight()\n",
    "tips[1:5, 2:4] = pn.Column(\"### Top 20 Tip Zones\", tip_pane)\n",
    "tips[1:5, 4] = heatmap\n",
    "tips[5:8, 0] = pn.Column(date_range_slider, discrete_slider, \"*Use widgets to control rolling window average on the timeseries plot or and to restrict to between certain dates*\")\n",
    "tips[5:8, 1:5] = tip_timeseries_plot"
   ]
  },
  {
   "cell_type": "markdown",
   "metadata": {},
   "source": [
    "## ML Tab"
   ]
  },
  {
   "cell_type": "code",
   "execution_count": null,
   "metadata": {},
   "outputs": [],
   "source": [
    "intro = \"\"\"\n",
    "# Machine Learning\n",
    "\n",
    "Exploring the historical accuracy of various models. Predict fare by consuming deployed models.\n",
    "\"\"\""
   ]
  },
  {
   "cell_type": "code",
   "execution_count": null,
   "metadata": {},
   "outputs": [],
   "source": [
    "def mock_fare_prediction(pickup_taxizone_id, dropoff_taxizone_id, datetime):\n",
    "    return np.random.randint(10, 100)\n",
    "\n",
    "predicted_fare = actual_mean_fare.fare_amount + np.random.randn(len(actual_mean_fare.fare_amount)) * 10\n",
    "\n",
    "table = pd.DataFrame({\n",
    "    \"top\": actual_mean_fare.fare_amount + actual_std_fare.fare_amount, \n",
    "    \"bottom\": actual_mean_fare.fare_amount - actual_std_fare.fare_amount, \n",
    "    \"mean\": actual_mean_fare.fare_amount, \n",
    "    \"predicted\": predicted_fare\n",
    "})\n",
    "table.index.name = \"time\""
   ]
  },
  {
   "cell_type": "code",
   "execution_count": null,
   "metadata": {},
   "outputs": [],
   "source": [
    "options = {v: k for k, v in zones.zone.to_dict().items()}\n",
    "pickup = pn.widgets.Select(name=\"Pickup\", options=options)\n",
    "dropoff = pn.widgets.Select(name=\"Dropoff\", options=options)\n",
    "toggle = pn.widgets.RadioButtonGroup(options=[\"pickup\", \"dropoff\"], value=\"pickup\")\n",
    "\n",
    "plot = zones.hvplot(geo=True, c='zone', legend=False, width=400, height=400, xaxis=None, yaxis=None, alpha=.2, selection_alpha=1).opts(tools=['tap', 'hover'])\n",
    "\n",
    "def on_map_select(index):\n",
    "    if index and toggle.value == \"pickup\":\n",
    "        pickup.value = index[0]\n",
    "    elif index and toggle.value == \"dropoff\":\n",
    "        dropoff.value = index[0]\n",
    "    return\n",
    "       \n",
    "stream = Selection1D(source=plot)\n",
    "stream.param.watch_values(on_map_select, ['index'])\n",
    "\n",
    "overlay = pn.pane.HoloViews(plot * gv.tile_sources.CartoLight())\n",
    "date = pn.widgets.DatePicker(name=\"Date\", value=dt.datetime.now().date())\n",
    "datetime = pn.widgets.DatetimeInput(name=\"Time\", value=dt.datetime.now())\n",
    "date.link(datetime, value='value')\n",
    "\n",
    "submit = pn.widgets.Button(name=\"Predict my fare\", button_type='primary')\n",
    "text = pn.pane.Markdown(width=300)\n",
    "output = pn.pane.HoloViews()\n",
    "\n",
    "def b(event):\n",
    "    prediction = mock_fare_prediction(pickup.value, dropoff.value, datetime.value)\n",
    "    \n",
    "    subset = zones.iloc[[pickup.value, dropoff.value]]\n",
    "    \n",
    "    trip = gv.Path((subset.geometry.centroid.x, subset.geometry.centroid.y)).opts(color=\"black\", line_width=2)\n",
    "    obj = subset.hvplot(geo=True, width=400, height=400, xaxis=None, yaxis=None) * trip * gv.tile_sources.CartoLight()\n",
    "    obj.label = f\"{subset.zone.tolist()[0]} to {subset.zone.tolist()[1]}\"\n",
    "    output.object = obj\n",
    "    \n",
    "    text.object = f\"\"\"\n",
    "    ## Prediction: ${prediction}.00\n",
    "    \n",
    "    Date: {datetime.value}\n",
    "    \"\"\"\n",
    "    tabs.active = 1\n",
    "    \n",
    "submit.on_click(b)\n",
    "\n",
    "input_tab = pn.Row(\n",
    "    pn.Column(\n",
    "        pn.Row(pickup),\n",
    "        pn.Row(dropoff), \n",
    "        pn.Row(\"Choose from Map\", margin=5),\n",
    "        pn.Row(toggle),\n",
    "        date,\n",
    "        datetime,\n",
    "        submit,\n",
    "    ),\n",
    "    overlay,\n",
    "    name=\"input\",\n",
    ")\n",
    "output_tab = pn.Row(\n",
    "    text,\n",
    "    output,\n",
    "    height=300,\n",
    "    name=\"output\"\n",
    ")\n",
    "tabs = pn.Tabs(input_tab, output_tab)\n",
    "\n",
    "predict = pn.Column(\n",
    "    pn.Row(\"## Predict my Fare\"),\n",
    "    tabs\n",
    ")"
   ]
  },
  {
   "cell_type": "code",
   "execution_count": null,
   "metadata": {},
   "outputs": [],
   "source": [
    "timeseries = (\n",
    "    table.hvplot.area(y=\"bottom\", y2=\"top\", alpha=0.2, width=800, ylabel=\"fare\", hover=False) *\n",
    "    table.hvplot.line(y=[\"mean\", \"predicted\"], ylim=(0, 50),\n",
    "                      xlim=(pd.Timestamp(\"2018-01-05\"), pd.Timestamp(\"2018-01-12\")), legend=\"bottom_left\")\n",
    ").opts(toolbar=\"above\")"
   ]
  },
  {
   "cell_type": "code",
   "execution_count": null,
   "metadata": {},
   "outputs": [],
   "source": [
    "ml = pn.GridSpec(name=\"ML\", sizing_mode='stretch_both', min_width=1000, min_height=600, max_height=800)\n",
    "\n",
    "ml[0, :5] = intro\n",
    "ml[0, 5] = logo\n",
    "ml[1:3, :5] = pn.pane.HoloViews(timeseries)\n",
    "ml[3:8, :5] = predict"
   ]
  },
  {
   "cell_type": "markdown",
   "metadata": {},
   "source": [
    "## Final Dashboard"
   ]
  },
  {
   "cell_type": "code",
   "execution_count": null,
   "metadata": {},
   "outputs": [],
   "source": [
    "pn.Tabs(volume, tips, ml, active=1, tabs_location=\"left\").servable(title=\"Saturn Taxi\")"
   ]
  },
  {
   "cell_type": "code",
   "execution_count": null,
   "metadata": {},
   "outputs": [],
   "source": []
  }
 ],
 "metadata": {
  "kernelspec": {
   "display_name": "Python 3",
   "language": "python",
   "name": "python3"
  },
  "language_info": {
   "codemirror_mode": {
    "name": "ipython",
    "version": 3
   },
   "file_extension": ".py",
   "mimetype": "text/x-python",
   "name": "python",
   "nbconvert_exporter": "python",
   "pygments_lexer": "ipython3",
   "version": "3.7.8"
  }
 },
 "nbformat": 4,
 "nbformat_minor": 4
}
