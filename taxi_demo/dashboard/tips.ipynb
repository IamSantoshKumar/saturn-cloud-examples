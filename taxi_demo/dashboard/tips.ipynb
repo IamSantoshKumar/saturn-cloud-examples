{
 "cells": [
  {
   "cell_type": "code",
   "execution_count": null,
   "metadata": {},
   "outputs": [],
   "source": [
    "import numpy as np\n",
    "import dask.dataframe as dd\n",
    "\n",
    "import hvplot.dask, hvplot.pandas\n",
    "import panel as pn\n",
    "import pandas as pd\n",
    "\n",
    "import warnings\n",
    "warnings.simplefilter(\"ignore\")"
   ]
  },
  {
   "cell_type": "code",
   "execution_count": null,
   "metadata": {},
   "outputs": [],
   "source": [
    "from dask.distributed import Client, wait\n",
    "\n",
    "client = Client()\n",
    "client"
   ]
  },
  {
   "cell_type": "code",
   "execution_count": null,
   "metadata": {},
   "outputs": [],
   "source": [
    "ddf = dd.read_parquet(\n",
    "    \"s3://saturn-titan/data/nyc-taxi/taxi_2017_2019/\", \n",
    "    assume_missing=True, \n",
    "    engine=\"pyarrow\"\n",
    ")\n",
    "ddf"
   ]
  },
  {
   "cell_type": "code",
   "execution_count": null,
   "metadata": {},
   "outputs": [],
   "source": [
    "ddf[\"tip%\"] = (ddf[\"tip_amount\"] / ddf[\"total_amount\"]) * 100"
   ]
  },
  {
   "cell_type": "code",
   "execution_count": null,
   "metadata": {},
   "outputs": [],
   "source": [
    "widget = pn.widgets.Select(options=[\"tip%\", \"tip_amount\", \"trip_distance\", \"fare_amount\"])\n",
    "\n",
    "def heatmap(value=widget):\n",
    "    return ddf.hvplot.heatmap(\n",
    "        x=\"pickup_datetime.dt.dayofweek\", \n",
    "        y=\"pickup_datetime.dt.hour\", \n",
    "        C=value, \n",
    "        title=value,\n",
    "        xlabel=\"Day of Week\",\n",
    "        ylabel=\"Hour of Day\",\n",
    "        xticks=[(0, 'Mon'), (1, 'Tues'), (2, 'Wed'), (3, 'Thur'), (4, 'Fri'), (5, 'Sat'), (6, 'Sun')],\n",
    "        height=800, width=300, colorbar=False, cmap=\"coolwarm\", clim=(8, 12)\n",
    "    ).aggregate(function=np.mean).opts(toolbar=None, xrotation=90)\n",
    "\n",
    "pn.Column(heatmap)"
   ]
  },
  {
   "cell_type": "code",
   "execution_count": null,
   "metadata": {},
   "outputs": [],
   "source": [
    "ddf['pickup_weekday'] = ddf.pickup_datetime.dt.weekday\n",
    "ddf['pickup_hour'] = ddf.pickup_datetime.dt.hour\n",
    "ddf['dropoff_hour'] = ddf.dropoff_datetime.dt.hour"
   ]
  },
  {
   "cell_type": "code",
   "execution_count": null,
   "metadata": {},
   "outputs": [],
   "source": [
    "gb = ddf[[\"pickup_weekday\", \"pickup_hour\", \"tip%\"]].groupby([\"pickup_weekday\", \"pickup_hour\"])\n",
    "tip = gb[\"tip%\"].mean().compute().unstack()\n",
    "tip.to_csv(f\"data/tip_percent.csv\")"
   ]
  },
  {
   "cell_type": "code",
   "execution_count": null,
   "metadata": {},
   "outputs": [],
   "source": [
    "fare_tip = ddf.hvplot.scatter(x=\"fare_amount\", y=\"tip_amount\", cmap=\"fire_r\", xlim=(0, 50), ylim=(0, 5), \n",
    "                              datashade=True, x_sampling=.5, y_sampling=.1, width=300)\n",
    "fare_tip"
   ]
  },
  {
   "cell_type": "code",
   "execution_count": null,
   "metadata": {},
   "outputs": [],
   "source": [
    "tips = ddf[[\"pickup_datetime\", \"tip%\"]]\n",
    "tips = tips.set_index(\"pickup_datetime\").resample('1H').mean().compute()\n",
    "\n",
    "# make sure to only include real values\n",
    "start = ddf.head(1).pickup_datetime.values[0]\n",
    "end = ddf.tail(1).pickup_datetime.values[0]\n",
    "trimmed = tips[start:end]\n",
    "\n",
    "trimmed.to_csv(\"./data/tip_timeseries.csv\")"
   ]
  },
  {
   "cell_type": "code",
   "execution_count": null,
   "metadata": {},
   "outputs": [],
   "source": [
    "tips_timeseries = tips.hvplot(y=\"tip%\", xlim=(pd.Timestamp(\"2018-01\"), pd.Timestamp(\"2018-10\")), ylim=(9, 13))\n",
    "tips_timeseries"
   ]
  },
  {
   "cell_type": "code",
   "execution_count": null,
   "metadata": {},
   "outputs": [],
   "source": [
    "ddf.hvplot.hist(\"tip%\", invert=True, width=300)"
   ]
  },
  {
   "cell_type": "code",
   "execution_count": null,
   "metadata": {},
   "outputs": [],
   "source": [
    "import geopandas as gpd\n",
    "zones = gpd.read_file('./data/taxi_zones.shp').to_crs('epsg:4326')\n",
    "\n",
    "pickup_zone = ddf[[\"pickup_taxizone_id\", \"tip%\"]].groupby(\"pickup_taxizone_id\").mean().compute()\n",
    "\n",
    "joined = zones.join(pickup_zone, on=\"LocationID\")\n",
    "\n",
    "# put the dropoff/pickup on a widget with same clim\n",
    "pickup_map = joined.hvplot(c=\"tip%\", geo=True, tiles=\"CartoLight\", alpha=0.6, cmap=\"reds\", hover_cols=[\"zone\", \"borough\"], title=\"pickups\", height=600, width=800,clim=(0, 20))\n",
    "pickup_map"
   ]
  },
  {
   "cell_type": "code",
   "execution_count": null,
   "metadata": {},
   "outputs": [],
   "source": [
    "ddf['dropoff_hour'] = ddf.dropoff_datetime.dt.hour\n",
    "\n",
    "for value in [\"pickup\", \"dropoff\"]:\n",
    "    gb = ddf[[f\"{value}_taxizone_id\", f\"{value}_hour\", \"tip%\"]].groupby([f\"{value}_taxizone_id\", f\"{value}_hour\"])\n",
    "    volume = gb[\"tip%\"].mean().compute().unstack()\n",
    "    volume[\"total\"] = volume.mean(axis=1)\n",
    "    volume.to_csv(f\"./data/{value}_tip.csv\")"
   ]
  },
  {
   "cell_type": "code",
   "execution_count": null,
   "metadata": {},
   "outputs": [],
   "source": [
    "pn.Row(\n",
    "    pn.Column(\n",
    "        \"\"\"\n",
    "        ## NY City Taxi Data\n",
    "        \n",
    "        Explore the publicly available NYC Taxi dataset and a linear regression model \n",
    "        that can predict the fare amount of a taxi ride using attributes related to rider pickup.\n",
    "        \"\"\",\n",
    "        pickup_map,\n",
    "        pn.Row(tips_timeseries, tips.hvplot.hist(\"tip%\", invert=True, width=300)),\n",
    "    ),\n",
    "    pn.Column(heatmap)\n",
    ").servable()"
   ]
  }
 ],
 "metadata": {
  "kernelspec": {
   "display_name": "Python 3",
   "language": "python",
   "name": "python3"
  },
  "language_info": {
   "codemirror_mode": {
    "name": "ipython",
    "version": 3
   },
   "file_extension": ".py",
   "mimetype": "text/x-python",
   "name": "python",
   "nbconvert_exporter": "python",
   "pygments_lexer": "ipython3",
   "version": "3.7.8"
  }
 },
 "nbformat": 4,
 "nbformat_minor": 4
}
