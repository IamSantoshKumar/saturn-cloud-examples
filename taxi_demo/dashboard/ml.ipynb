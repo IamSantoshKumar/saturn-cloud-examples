{
 "cells": [
  {
   "cell_type": "code",
   "execution_count": null,
   "metadata": {},
   "outputs": [],
   "source": [
    "import numpy as np\n",
    "import dask.dataframe as dd\n",
    "from datetime import datetime as dt\n",
    "\n",
    "import hvplot.dask, hvplot.pandas\n",
    "from holoviews.streams import Selection1D\n",
    "import panel as pn\n",
    "import pandas as pd\n",
    "import geoviews as gv\n",
    "\n",
    "import warnings\n",
    "warnings.simplefilter(\"ignore\")"
   ]
  },
  {
   "cell_type": "code",
   "execution_count": null,
   "metadata": {},
   "outputs": [],
   "source": [
    "from dask.distributed import Client, wait\n",
    "\n",
    "client = Client()\n",
    "client"
   ]
  },
  {
   "cell_type": "code",
   "execution_count": null,
   "metadata": {},
   "outputs": [],
   "source": [
    "ddf = dd.read_parquet(\n",
    "    \"s3://saturn-titan/data/nyc-taxi/taxi_2017_2019/\", \n",
    "    assume_missing=True, \n",
    "    engine=\"pyarrow\"\n",
    ")\n",
    "ddf"
   ]
  },
  {
   "cell_type": "code",
   "execution_count": null,
   "metadata": {},
   "outputs": [],
   "source": [
    "def mock_fare_prediction(pickup_taxizone_id, dropoff_taxizone_id, datetime):\n",
    "    return np.random.randint(10, 100)"
   ]
  },
  {
   "cell_type": "code",
   "execution_count": null,
   "metadata": {},
   "outputs": [],
   "source": [
    "import geopandas as gpd\n",
    "zones = gpd.read_file('./data/taxi_zones.shp').to_crs('epsg:4326')"
   ]
  },
  {
   "cell_type": "code",
   "execution_count": null,
   "metadata": {},
   "outputs": [],
   "source": [
    "options = {v: k for k, v in zones.zone.to_dict().items()}\n",
    "pickup = pn.widgets.Select(name=\"Pickup\", options=options)\n",
    "dropoff = pn.widgets.Select(name=\"Dropoff\", options=options)\n",
    "toggle = pn.widgets.RadioButtonGroup(options=[\"pickup\", \"dropoff\"], value=\"pickup\")\n",
    "\n",
    "plot = zones.hvplot(geo=True, c='zone', legend=False, alpha=.2, selection_alpha=1).opts(tools=['tap', 'hover'])\n",
    "\n",
    "def on_map_select(index):\n",
    "    if index and toggle.value == \"pickup\":\n",
    "        pickup.value = index[0]\n",
    "    elif index and toggle.value == \"dropoff\":\n",
    "        dropoff.value = index[0]\n",
    "    return\n",
    "       \n",
    "stream = Selection1D(source=plot)\n",
    "stream.param.watch_values(on_map_select, ['index'])\n",
    "\n",
    "overlay = pn.pane.HoloViews(plot * gv.tile_sources.CartoLight())\n",
    "date = pn.widgets.DatePicker(name=\"Date\", value=dt.now().date())\n",
    "datetime = pn.widgets.DatetimeInput(name=\"Time\", value=dt.now())\n",
    "date.link(datetime, value='value')\n",
    "\n",
    "submit = pn.widgets.Button(name=\"Predict my fare\", button_type='primary')\n",
    "text = pn.pane.Markdown(width=300)\n",
    "output = pn.pane.HoloViews()\n",
    "\n",
    "def b(event):\n",
    "    prediction = mock_fare_prediction(pickup.value, dropoff.value, datetime.value)\n",
    "    \n",
    "    subset = zones.iloc[[pickup.value, dropoff.value]]\n",
    "    \n",
    "    trip = gv.Path((subset.geometry.centroid.x, subset.geometry.centroid.y)).opts(color=\"black\", line_width=2)\n",
    "    obj = subset.hvplot(geo=True, width=400, height=400, tiles=\"CartoLight\") * trip\n",
    "    obj.label = f\"{subset.zone.tolist()[0]} to {subset.zone.tolist()[1]}\"\n",
    "    output.object = obj\n",
    "    \n",
    "    text.object = f\"\"\"\n",
    "    ## Prediction: ${prediction}.00\n",
    "    \n",
    "    Date: {datetime.value}\n",
    "    \"\"\"\n",
    "    \n",
    "submit.on_click(b)\n",
    "\n",
    "pn.Column(\n",
    "    pn.Row(\"# Predict my Fare\"),\n",
    "    pn.Row(\n",
    "        pn.Column(\n",
    "            pn.Row(pickup),\n",
    "            pn.Row(dropoff), \n",
    "            pn.Row(\"Choose from Map\", margin=5),\n",
    "            pn.Row(toggle),\n",
    "            date,\n",
    "            datetime,\n",
    "            submit,\n",
    "        ),\n",
    "        overlay,\n",
    "    ),\n",
    "    pn.Row(\n",
    "        text,\n",
    "        output\n",
    "    )\n",
    ")"
   ]
  },
  {
   "cell_type": "code",
   "execution_count": null,
   "metadata": {},
   "outputs": [],
   "source": [
    "fare = ddf[[\"pickup_datetime\", \"fare_amount\"]]\n",
    "fare = fare.set_index(\"pickup_datetime\").resample('1H').mean().compute()\n",
    "\n",
    "# make sure to only include real values\n",
    "start = ddf.head(1).pickup_datetime.values[0]\n",
    "end = ddf.tail(1).pickup_datetime.values[0]\n",
    "trimmed = fare[start:end]\n",
    "\n",
    "trimmed.to_csv(\"./data/fare_timeseries.csv\")"
   ]
  },
  {
   "cell_type": "code",
   "execution_count": null,
   "metadata": {},
   "outputs": [],
   "source": [
    "fare = ddf[[\"pickup_datetime\", \"fare_amount\"]]\n",
    "fare = fare.set_index(\"pickup_datetime\").resample('1H').std().compute()\n",
    "\n",
    "# make sure to only include real values\n",
    "start = ddf.head(1).pickup_datetime.values[0]\n",
    "end = ddf.tail(1).pickup_datetime.values[0]\n",
    "trimmed = fare[start:end]\n",
    "\n",
    "trimmed.to_csv(\"./data/fare_std_timeseries.csv\")"
   ]
  }
 ],
 "metadata": {
  "kernelspec": {
   "display_name": "Python 3",
   "language": "python",
   "name": "python3"
  },
  "language_info": {
   "codemirror_mode": {
    "name": "ipython",
    "version": 3
   },
   "file_extension": ".py",
   "mimetype": "text/x-python",
   "name": "python",
   "nbconvert_exporter": "python",
   "pygments_lexer": "ipython3",
   "version": "3.7.8"
  }
 },
 "nbformat": 4,
 "nbformat_minor": 4
}
