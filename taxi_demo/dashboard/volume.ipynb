{
 "cells": [
  {
   "cell_type": "code",
   "execution_count": null,
   "metadata": {},
   "outputs": [],
   "source": [
    "import numpy as np\n",
    "import dask.dataframe as dd\n",
    "\n",
    "import hvplot.dask, hvplot.pandas\n",
    "import panel as pn\n",
    "import pandas as pd\n",
    "\n",
    "import warnings\n",
    "warnings.simplefilter(\"ignore\")"
   ]
  },
  {
   "cell_type": "code",
   "execution_count": null,
   "metadata": {},
   "outputs": [],
   "source": [
    "from dask.distributed import Client, wait\n",
    "\n",
    "client = Client(\"tcp://127.0.0.1:39945\")\n",
    "client"
   ]
  },
  {
   "cell_type": "code",
   "execution_count": null,
   "metadata": {},
   "outputs": [],
   "source": [
    "ddf = dd.read_parquet(\n",
    "    \"s3://saturn-titan/data/nyc-taxi/taxi_2017_2019/\", \n",
    "    assume_missing=True, \n",
    "    engine=\"pyarrow\"\n",
    ")\n",
    "ddf"
   ]
  },
  {
   "cell_type": "code",
   "execution_count": null,
   "metadata": {},
   "outputs": [],
   "source": [
    "ddf[\"pickup_hour\"] = ddf.pickup_datetime.dt.hour\n",
    "ddf[\"dropoff_hour\"] = ddf.dropoff_datetime.dt.hour"
   ]
  },
  {
   "cell_type": "code",
   "execution_count": null,
   "metadata": {},
   "outputs": [],
   "source": [
    "for value in [\"pickup\", \"dropoff\"]:\n",
    "    gb = ddf[[f\"{value}_taxizone_id\", f\"{value}_hour\", \"fare_amount\"]].groupby([f\"{value}_taxizone_id\", f\"{value}_hour\"])\n",
    "    volume = gb[\"fare_amount\"].count().compute().unstack()\n",
    "    volume[\"total\"] = volume.sum(axis=1)\n",
    "    volume.to_csv(f\"data/{value}_volume.csv\")\n",
    "\n",
    "    fare = gb[\"fare_amount\"].sum().compute().unstack()\n",
    "    fare[\"total\"] = fare.sum(axis=1)\n",
    "    fare.to_csv(f\"data/{value}_fare.csv\")"
   ]
  },
  {
   "cell_type": "code",
   "execution_count": null,
   "metadata": {},
   "outputs": [],
   "source": [
    "import geopandas as gpd\n",
    "zones = gpd.read_file('./data/taxi_zones.shp').to_crs('epsg:4326')\n",
    "\n",
    "joined = zones.join(pickup_zone[\"total\"], on=\"LocationID\")\n",
    "\n",
    "# put the dropoff/pickup on a widget with same clim\n",
    "\n",
    "value = \"pickup\"\n",
    "\n",
    "pickup_map = joined.hvplot(x=\"longitude\", y=\"latitude\", c=\"total\", logz=True,\n",
    "                           geo=True, \n",
    "                           alpha=0.5, cmap=\"reds\", hover_cols=[\"zone\", \"borough\"], \n",
    "                           title=f\"Ride volume by {value} location\", height=600, width=800)\n",
    "pickup_map"
   ]
  },
  {
   "cell_type": "code",
   "execution_count": null,
   "metadata": {},
   "outputs": [],
   "source": [
    "joined = zones.join(dropoff_zone[\"total\"], on=\"LocationID\")\n",
    "\n",
    "# put the dropoff/pickup on a widget with same clim\n",
    "\n",
    "value = \"dropoff\"\n",
    "\n",
    "dropoff_map = joined.hvplot(x=\"longitude\", y=\"latitude\", c=\"total\", logz=True,\n",
    "                           geo=True, \n",
    "                           alpha=0.5, cmap=\"blues\", hover_cols=[\"zone\", \"borough\"], \n",
    "                           title=f\"Ride volume by {value} location\", height=600, width=800)\n",
    "dropoff_map"
   ]
  },
  {
   "cell_type": "markdown",
   "metadata": {},
   "source": [
    "## Payment Type Pie Chart"
   ]
  },
  {
   "cell_type": "code",
   "execution_count": null,
   "metadata": {},
   "outputs": [],
   "source": [
    "payment_type = ddf.payment_type.value_counts().compute()"
   ]
  },
  {
   "cell_type": "code",
   "execution_count": null,
   "metadata": {},
   "outputs": [],
   "source": [
    "new_index = payment_type.index.map({\n",
    "    \"1\": \"Credit card\", \n",
    "    \"2\": \"Cash\", \n",
    "    \"3\": \"No charge\", \n",
    "    \"4\": \"Dispute\", \n",
    "    \"5\": \"Unknown\", \n",
    "    \"6\": \"Voided trip\"\n",
    "}).astype(\"category\")\n",
    "\n",
    "payment_type.index = new_index"
   ]
  },
  {
   "cell_type": "code",
   "execution_count": null,
   "metadata": {},
   "outputs": [],
   "source": [
    "payment_type.name = \"value\"\n",
    "payment_type.index.name = \"payment_type\""
   ]
  },
  {
   "cell_type": "code",
   "execution_count": null,
   "metadata": {},
   "outputs": [],
   "source": [
    "from math import pi\n",
    "\n",
    "import pandas as pd\n",
    "\n",
    "from bokeh.io import output_notebook, show\n",
    "from bokeh.plotting import figure\n",
    "from bokeh.transform import cumsum\n",
    "\n",
    "output_notebook()\n",
    "\n",
    "data = payment_type.reset_index()\n",
    "data['angle'] = data['value']/data['value'].sum() * 2*pi\n",
    "data[\"label\"] = data.value.apply(lambda x: f\"{x/1e6: .0f} M\")\n",
    "data[\"frac\"] = data.angle.apply(lambda x: f\"{x / (2*pi): .0%}\")\n",
    "\n",
    "data = data[:2]\n",
    "data['color'] = [\"thistle\", \"lightblue\"]\n",
    "\n",
    "\n",
    "p = figure(plot_height=350, plot_width=350, toolbar_location=None,\n",
    "           x_range=(-.5, .5), y_range=(0, 2), title=\"Payment Type\")\n",
    "\n",
    "p.wedge(x=0, y=1, radius=0.4,\n",
    "        start_angle=cumsum('angle', include_zero=True), end_angle=cumsum('angle'),\n",
    "        line_color=\"white\", fill_color='color', source=data)\n",
    "\n",
    "p.text(x=[-0.2, 0.07], y=[1.4, 0.7], text=data[\"payment_type\"].astype(str) + \":\\n  \" + data[\"label\"] + \"\\n  \" + data[\"frac\"],\n",
    "       text_align=\"left\", text_baseline=\"top\", text_font_size=\"15px\")\n",
    "\n",
    "\n",
    "p.title.text_font_size = \"20px\"\n",
    "p.axis.axis_label=None\n",
    "p.axis.visible=False\n",
    "p.grid.grid_line_color = None\n",
    "p.outline_line_width = 0\n",
    "\n",
    "show(p)"
   ]
  },
  {
   "cell_type": "code",
   "execution_count": null,
   "metadata": {},
   "outputs": [],
   "source": [
    "from bokeh.io import export_svgs\n",
    "\n",
    "p.output_backend = \"svg\"\n",
    "export_svgs(p, filename=\"pie_chart.svg\")"
   ]
  },
  {
   "cell_type": "code",
   "execution_count": null,
   "metadata": {},
   "outputs": [],
   "source": []
  }
 ],
 "metadata": {
  "kernelspec": {
   "display_name": "Python 3",
   "language": "python",
   "name": "python3"
  },
  "language_info": {
   "codemirror_mode": {
    "name": "ipython",
    "version": 3
   },
   "file_extension": ".py",
   "mimetype": "text/x-python",
   "name": "python",
   "nbconvert_exporter": "python",
   "pygments_lexer": "ipython3",
   "version": "3.7.8"
  }
 },
 "nbformat": 4,
 "nbformat_minor": 4
}
